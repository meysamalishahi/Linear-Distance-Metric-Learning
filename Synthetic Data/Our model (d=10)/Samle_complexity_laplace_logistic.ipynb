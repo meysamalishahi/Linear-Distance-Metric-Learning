{
 "cells": [
  {
   "cell_type": "code",
   "execution_count": 1,
   "id": "fd283ad6",
   "metadata": {},
   "outputs": [],
   "source": [
    "import numpy as np\n",
    "import matplotlib.pyplot as plt\n",
    "import math\n",
    "import torch\n",
    "import torch.nn as nn\n",
    "import torch.nn.functional as F\n",
    "import torch.optim as optim\n",
    "import torchvision\n",
    "from torch.distributions import Normal as norm\n",
    "from termcolor import colored\n",
    "from sklearn.decomposition import PCA\n",
    "from scipy import linalg as LA\n",
    "from scipy.stats import multivariate_normal\n",
    "from scipy.stats import norm\n",
    "from scipy.stats import multinomial\n",
    "from scipy.stats import logistic, laplace, hypsecant\n",
    "from Main_functions import *\n",
    "import random\n",
    "from numpy import genfromtxt"
   ]
  },
  {
   "cell_type": "markdown",
   "id": "5322d4e9",
   "metadata": {},
   "source": [
    "### Setting the data distribuation \n",
    "\n",
    "Pairs $(x_i,y_i)\\in \\mathbb{R}^d\\times \\mathbb{R}^d$ for $i=1, \\ldots, N$ are generated i.i.d. from density distribuation $f(\\cdot)\\times f(\\cdot)$.  \n",
    "\n",
    "Parameters:\n",
    "\n",
    "$d:$ dimention of data points\n",
    "\n",
    "$N:$ number of pairs\n",
    "\n",
    "$f(\\cdot):$ density distribuation\n"
   ]
  },
  {
   "cell_type": "markdown",
   "id": "39240958",
   "metadata": {},
   "source": [
    "### Given the eigenvalues of ground truth $M_t$, we randomly generate it."
   ]
  },
  {
   "cell_type": "code",
   "execution_count": 2,
   "id": "b10c13dd",
   "metadata": {},
   "outputs": [],
   "source": [
    "csv_path = 'CSVs/laplace_logistic_'\n",
    "image_path = 'Images/laplace_logistic_'\n",
    "title_suffix = '\\n (Laplace Noise Logistic model)'\n",
    "noise_type = 'Laplace'\n",
    "model_type = 'Logistic'"
   ]
  },
  {
   "cell_type": "code",
   "execution_count": 3,
   "id": "7520327d",
   "metadata": {},
   "outputs": [],
   "source": [
    "d = 10\n",
    "rank = 5\n",
    "seed = 2023"
   ]
  },
  {
   "cell_type": "code",
   "execution_count": 4,
   "id": "d716ea81",
   "metadata": {},
   "outputs": [
    {
     "data": {
      "text/plain": [
       "array([0.32, 0.89, 0.59, 0.13, 0.14])"
      ]
     },
     "execution_count": 4,
     "metadata": {},
     "output_type": "execute_result"
    }
   ],
   "source": [
    "np.random.seed(seed)\n",
    "non_zero_eigens_of_M_star = np.round(np.random.uniform(low=0.0, high=1.0, size= rank), 2)\n",
    "non_zero_eigens_of_M_star"
   ]
  },
  {
   "cell_type": "code",
   "execution_count": 5,
   "id": "0fbc4ae8",
   "metadata": {},
   "outputs": [
    {
     "data": {
      "text/plain": [
       "array([0.32, 0.89, 0.59, 0.13, 0.14, 0.  , 0.  , 0.  , 0.  , 0.  ])"
      ]
     },
     "execution_count": 5,
     "metadata": {},
     "output_type": "execute_result"
    }
   ],
   "source": [
    "# eigenvalues of $M_t$\n",
    "diag = np.zeros(d)\n",
    "diag[:rank] = non_zero_eigens_of_M_star\n",
    "diag"
   ]
  },
  {
   "cell_type": "code",
   "execution_count": 6,
   "id": "23087886",
   "metadata": {},
   "outputs": [
    {
     "name": "stdout",
     "output_type": "stream",
     "text": [
      "Ground truth M_t and B_t are generated (M_t = B_t @ B_t.T)\n",
      "To access to M_t and B_t, use .M_t and .B_t\n"
     ]
    }
   ],
   "source": [
    "data_model = DG(diag, seed = 22)"
   ]
  },
  {
   "cell_type": "code",
   "execution_count": 7,
   "id": "0ff3f776",
   "metadata": {},
   "outputs": [
    {
     "data": {
      "text/plain": [
       "array([0.32, 0.89, 0.59, 0.13, 0.14, 0.  , 0.  , 0.  , 0.  , 0.  ])"
      ]
     },
     "execution_count": 7,
     "metadata": {},
     "output_type": "execute_result"
    }
   ],
   "source": [
    "data_model.M_diag"
   ]
  },
  {
   "cell_type": "code",
   "execution_count": 8,
   "id": "74d3f36d",
   "metadata": {},
   "outputs": [
    {
     "data": {
      "text/plain": [
       "((10, 10), (10, 10))"
      ]
     },
     "execution_count": 8,
     "metadata": {},
     "output_type": "execute_result"
    }
   ],
   "source": [
    "data_model.M_t.shape, data_model.B_t.shape"
   ]
  },
  {
   "cell_type": "markdown",
   "id": "5488a2f7",
   "metadata": {},
   "source": [
    "### Given the eigenvalue of covariance matrix Cov, we randomly generate it."
   ]
  },
  {
   "cell_type": "code",
   "execution_count": 9,
   "id": "931ccc10",
   "metadata": {},
   "outputs": [
    {
     "data": {
      "text/plain": [
       "array([0.59, 0.7 , 0.19, 0.04, 0.21, 0.11, 0.73, 0.68, 0.47, 0.45])"
      ]
     },
     "execution_count": 9,
     "metadata": {},
     "output_type": "execute_result"
    }
   ],
   "source": [
    "np.random.seed(2024)\n",
    "diag_cov = np.round(np.random.uniform(low=0.0, high=1.0, size= d), 2)\n",
    "diag_cov"
   ]
  },
  {
   "cell_type": "code",
   "execution_count": 10,
   "id": "00ae3c85",
   "metadata": {},
   "outputs": [
    {
     "data": {
      "text/plain": [
       "4.17"
      ]
     },
     "execution_count": 10,
     "metadata": {},
     "output_type": "execute_result"
    }
   ],
   "source": [
    "diag_cov.sum()"
   ]
  },
  {
   "cell_type": "code",
   "execution_count": 11,
   "id": "53605447",
   "metadata": {},
   "outputs": [],
   "source": [
    "Sigma, U_sigma = random_covariance(diag_cov, seed = 21)"
   ]
  },
  {
   "cell_type": "code",
   "execution_count": 12,
   "id": "591cfc04",
   "metadata": {},
   "outputs": [],
   "source": [
    "f = multivariate_normal(mean = np.zeros(d), cov = Sigma)"
   ]
  },
  {
   "cell_type": "markdown",
   "id": "5f1e38c8",
   "metadata": {},
   "source": [
    "### What is the average of squared norm of points generating where $x\\sim f(x)$ with $\\mathbb{E}(x) = \\mu$ and ${\\rm Cov}(x) = \\Sigma$\n",
    "\n",
    "If $x\\sim f(x)$ where $\\mathbb{E}(x) = \\mu$ and ${\\rm Cov}(x) = \\Sigma$, then \n",
    "\\begin{align}\n",
    "\\mathbb{E}\\left(x^\\top Mx\\right) & = \\mathbb{E}\\left({\\rm tr}(x^\\top Mx)\\right)\\\\\n",
    " & = \\mathbb{E}\\left({\\rm tr}(xx^\\top M)\\right)\\\\\n",
    " & = {\\rm tr}\\left(\\mathbb{E}\\left(xx^\\top\\right)M\\right)\\\\\n",
    " & = {\\rm tr}\\left(\\left[{\\rm Cov}(x) - \\mathbb{E}(x)\\mathbb{E}(x)^\\top\\right]M\\right)\n",
    "\\end{align}\n",
    "\n",
    "If we set  $\\mu = \\mathbf{0}$, then \n",
    "$$\\mathbb{E}\\left(x^\\top Mx\\right) = {\\rm tr}\\left(\\Sigma M\\right).$$\n",
    "Therefore, since $x$ and $y$ are independent, \n",
    "$$\\mathbb{E}\\left(\\|x-y\\|_M^2\\right) = 2{\\rm tr}\\left(\\Sigma M\\right).$$"
   ]
  },
  {
   "cell_type": "code",
   "execution_count": 13,
   "id": "98d5aab8",
   "metadata": {},
   "outputs": [
    {
     "name": "stdout",
     "output_type": "stream",
     "text": [
      "squared norm mean = 1.6983720913430767\n"
     ]
    }
   ],
   "source": [
    "snm = 2 * np.trace(data_model.M_t @ Sigma)\n",
    "print(\"squared norm mean = {}\".format(snm))"
   ]
  },
  {
   "cell_type": "markdown",
   "id": "7cc2ae3e",
   "metadata": {},
   "source": [
    "### Check the average empirically"
   ]
  },
  {
   "cell_type": "code",
   "execution_count": 14,
   "id": "0ae0f999",
   "metadata": {},
   "outputs": [
    {
     "name": "stdout",
     "output_type": "stream",
     "text": [
      "emperical squared norm mean = 1.7197533768399575\n"
     ]
    }
   ],
   "source": [
    "N = 5000\n",
    "X_1, Y_1 = sample(f, N)\n",
    "sn = (((X_1 - Y_1) @ data_model.B_t)**2).sum()/N\n",
    "print(\"emperical squared norm mean = {}\".format(sn))"
   ]
  },
  {
   "cell_type": "markdown",
   "id": "c128a3e9",
   "metadata": {},
   "source": [
    "### Set $\\tau$ to generate data points"
   ]
  },
  {
   "cell_type": "code",
   "execution_count": 15,
   "id": "873f693c",
   "metadata": {},
   "outputs": [],
   "source": [
    "tau = [1.3]\n",
    "N = 20000\n",
    "#s = 2.5"
   ]
  },
  {
   "cell_type": "code",
   "execution_count": 16,
   "id": "c7d7596f",
   "metadata": {},
   "outputs": [],
   "source": [
    "var_logistic = logistic(loc = 0, scale = 2.5).var()\n",
    "var_logistic # = 2 * scale_laplace^2\n",
    "scale = np.sqrt(var_logistic/2)"
   ]
  },
  {
   "cell_type": "code",
   "execution_count": 17,
   "id": "4bed85bb",
   "metadata": {},
   "outputs": [
    {
     "data": {
      "text/plain": [
       "(20.56167583560283, 20.56167583560283)"
      ]
     },
     "execution_count": 17,
     "metadata": {},
     "output_type": "execute_result"
    }
   ],
   "source": [
    "laplace(loc = 0, scale = scale).var(), var_logistic"
   ]
  },
  {
   "cell_type": "code",
   "execution_count": 18,
   "id": "31307a90",
   "metadata": {},
   "outputs": [],
   "source": [
    "X, Y, D_noisy, D_no_noisy = data_model.generate(f, N, tau = np.array(tau), \n",
    "                                          noise_type = noise_type, noise_par = scale)"
   ]
  },
  {
   "cell_type": "code",
   "execution_count": 19,
   "id": "b8eecbc6",
   "metadata": {},
   "outputs": [
    {
     "name": "stdout",
     "output_type": "stream",
     "text": [
      "the amount of noise: 0.3897\n"
     ]
    }
   ],
   "source": [
    "noise_amount = (D_noisy != D_no_noisy).mean()\n",
    "print('the amount of noise: {}'.format(noise_amount))"
   ]
  },
  {
   "cell_type": "code",
   "execution_count": 20,
   "id": "133ec772",
   "metadata": {},
   "outputs": [
    {
     "name": "stdout",
     "output_type": "stream",
     "text": [
      "number of pairs with 0 as their labels is 10201\n",
      "number of pairs with 1 as their labels is 9799\n"
     ]
    }
   ],
   "source": [
    "for i in range(len(tau)+1):\n",
    "    print('number of pairs with {} as their labels is {}'.format(i,(D_no_noisy==i).sum()))"
   ]
  },
  {
   "cell_type": "code",
   "execution_count": 21,
   "id": "6bfbc49f",
   "metadata": {},
   "outputs": [
    {
     "data": {
      "text/plain": [
       "0.51005"
      ]
     },
     "execution_count": 21,
     "metadata": {},
     "output_type": "execute_result"
    }
   ],
   "source": [
    "(D_no_noisy== 0).sum()/N"
   ]
  },
  {
   "cell_type": "markdown",
   "id": "8ac47f7b",
   "metadata": {},
   "source": [
    "### Change to PyTorch tensor!"
   ]
  },
  {
   "cell_type": "code",
   "execution_count": 22,
   "id": "95fad745",
   "metadata": {},
   "outputs": [],
   "source": [
    "X = torch.tensor(X, dtype = torch.float64)\n",
    "Y = torch.tensor(Y, dtype = torch.float64)\n",
    "D_noisy = torch.tensor(D_noisy, dtype = torch.torch.int64)\n",
    "D_no_noisy = torch.tensor(D_no_noisy, dtype = torch.torch.int64)"
   ]
  },
  {
   "cell_type": "code",
   "execution_count": 23,
   "id": "b76ac4d6",
   "metadata": {},
   "outputs": [],
   "source": [
    "X, Y, D, X_T, Y_T, D_T, D_no_noise_T, X_test, Y_test, D_test, D_no_noise_test = train_test_split(X, \n",
    "                                                                                                 Y, \n",
    "                                                                                                 D_noisy, \n",
    "                                                                                                 D_no_noisy, \n",
    "                                                                                                 n_train = 15000)"
   ]
  },
  {
   "cell_type": "code",
   "execution_count": 24,
   "id": "9b78dbfb",
   "metadata": {},
   "outputs": [
    {
     "data": {
      "text/plain": [
       "(torch.float64, torch.int64)"
      ]
     },
     "execution_count": 24,
     "metadata": {},
     "output_type": "execute_result"
    }
   ],
   "source": [
    "X.dtype, D.dtype"
   ]
  },
  {
   "cell_type": "markdown",
   "id": "e2e5b8ca-dd74-406c-b57d-812e97b3e875",
   "metadata": {
    "tags": []
   },
   "source": [
    "## Sample complexity"
   ]
  },
  {
   "cell_type": "code",
   "execution_count": 25,
   "id": "587a4c2a",
   "metadata": {},
   "outputs": [],
   "source": [
    "k = 10\n",
    "n_labels = len(tau)+1"
   ]
  },
  {
   "cell_type": "code",
   "execution_count": 26,
   "id": "b0f21314",
   "metadata": {
    "scrolled": true
   },
   "outputs": [
    {
     "name": "stdout",
     "output_type": "stream",
     "text": [
      "round for N = 60 has started\n",
      "round for N = 70 has started\n",
      "round for N = 80 has started\n",
      "round for N = 90 has started\n",
      "round for N = 100 has started\n",
      "round for N = 200 has started\n",
      "round for N = 300 has started\n",
      "round for N = 400 has started\n",
      "round for N = 500 has started\n",
      "round for N = 600 has started\n",
      "round for N = 700 has started\n",
      "round for N = 800 has started\n",
      "round for N = 900 has started\n",
      "round for N = 1000 has started\n",
      "round for N = 2000 has started\n",
      "round for N = 3000 has started\n",
      "round for N = 4000 has started\n",
      "round for N = 5000 has started\n",
      "round for N = 10000 has started\n",
      "round for N = 20000 has started\n",
      "round for N = 30000 has started\n",
      "round for N = 40000 has started\n",
      "round for N = 50000 has started\n",
      "round for N = 100000 has started\n"
     ]
    }
   ],
   "source": [
    "H = []\n",
    "J = []\n",
    "N = 50\n",
    "while N < 100000:\n",
    "    if N < 100:\n",
    "        N += 10\n",
    "    elif N < 1000:\n",
    "        N += 100\n",
    "    elif N < 5000:\n",
    "        N+= 1000\n",
    "    elif N<10000: \n",
    "        N += 5000\n",
    "    elif N< 50000:\n",
    "        N+= 10000\n",
    "    elif N<100000: \n",
    "        N += 50000\n",
    "    else:\n",
    "        N+= 100000\n",
    "        \n",
    "        \n",
    "    X, Y, D, X_T, Y_T, D_T, D_no_noise_T, X_test, Y_test, D_test, D_no_noise_test = gen_data(f, \n",
    "                                                                                         N + 5000, \n",
    "                                                                                         n_train = N, \n",
    "                                                                                         tau = np.array(tau), \n",
    "                                                                                         noise_type = noise_type,\n",
    "                                                                                         noise_par = scale,\n",
    "                                                                                         data_model = data_model)\n",
    "    \n",
    "    \n",
    "#     X, Y, D_noisy, D_no_noisy = data_model.generate(f, \n",
    "#                                                     N + 5000, \n",
    "#                                                     tau = np.array(tau), \n",
    "#                                                     noise_type = noise_type, \n",
    "#                                                     noise_par = s)\n",
    "#     X = torch.tensor(X, dtype = torch.float64)\n",
    "#     Y = torch.tensor(Y, dtype = torch.float64)\n",
    "#     D_noisy = torch.tensor(D_noisy, dtype = torch.torch.int64)\n",
    "#     D_no_noisy = torch.tensor(D_no_noisy, dtype = torch.torch.int64)\n",
    "        \n",
    "    print('round for N = {} has started'.format(N))\n",
    "    \n",
    "    J.append(N)\n",
    "#     X, Y, D, X_T, Y_T, D_T, D_no_noise_T, X_test, Y_test, D_test, D_no_noise_test = train_test_split(X, \n",
    "#                                                                                                      Y, \n",
    "#                                                                                                  D_noisy, \n",
    "#                                                                                                  D_no_noisy, \n",
    "#                                                                                                  n_train = N)\n",
    "\n",
    "    \n",
    "    model = ML(d, k, n_labels, \n",
    "               X_T, Y_T, D_T, D_no_noise_T, \n",
    "               X_test, Y_test, D_test, \n",
    "               D_no_noise_test, Type = model_type) \n",
    "    \n",
    "    model.train(learning_rate = 1e-1, \n",
    "                n_iters = 30000, \n",
    "                decay = .95, \n",
    "                show_log = False,\n",
    "                f = f, \n",
    "                B_star = data_model.B_t, \n",
    "                tau_star = data_model.tau_t, \n",
    "                N = 1000)\n",
    "    \n",
    "    H.append(model)"
   ]
  },
  {
   "cell_type": "code",
   "execution_count": 27,
   "id": "5c3380a3",
   "metadata": {},
   "outputs": [],
   "source": [
    "X_new, Y_new, _, D_new = data_model.generate(f, \n",
    "                                             N = 10000, \n",
    "                                             tau = np.array(tau), \n",
    "                                             noise_type = None, \n",
    "                                             noise_par = None)"
   ]
  },
  {
   "cell_type": "code",
   "execution_count": 28,
   "id": "d1de0885",
   "metadata": {},
   "outputs": [],
   "source": [
    "X_new = torch.tensor(X_new, dtype = torch.float64)\n",
    "Y_new = torch.tensor(Y_new, dtype = torch.float64)\n",
    "D_new = torch.tensor(D_new, dtype = torch.torch.int64)"
   ]
  },
  {
   "cell_type": "code",
   "execution_count": 60,
   "id": "4afd924b",
   "metadata": {},
   "outputs": [
    {
     "data": {
      "text/plain": [
       "0.9773"
      ]
     },
     "execution_count": 60,
     "metadata": {},
     "output_type": "execute_result"
    }
   ],
   "source": [
    "H[-1].accuracy(X_new, Y_new, D_new)"
   ]
  },
  {
   "cell_type": "code",
   "execution_count": 30,
   "id": "6e5b7d0a",
   "metadata": {},
   "outputs": [],
   "source": [
    "test_accuracy_no_noise  = [H[i].accuracy(X_new, Y_new, D_new) for i in range(len(H))]"
   ]
  },
  {
   "cell_type": "code",
   "execution_count": 31,
   "id": "a86c9c97",
   "metadata": {},
   "outputs": [
    {
     "data": {
      "image/png": "[encoded data removed]",
      "text/plain": [
       "<Figure size 432x288 with 1 Axes>"
      ]
     },
     "metadata": {
      "needs_background": "light"
     },
     "output_type": "display_data"
    }
   ],
   "source": [
    "plt.plot(J, test_accuracy_no_noise, label = 'test_accuracy (no noise)', color = 'blue')\n",
    "plt.legend()\n",
    "plt.xlabel('# samples', fontsize=10)\n",
    "plt.ylabel('accuracy', fontsize=10)\n",
    "plt.title('test_accuracy (no noise) vs sample complexity' + title_suffix, fontsize=12)\n",
    "plt.savefig(image_path + \"test_accuracy_(no_noise)_vs_sample_complexity\")\n",
    "plt.show()"
   ]
  },
  {
   "cell_type": "code",
   "execution_count": 32,
   "id": "ed0b4974-05ed-41eb-b91b-cb59de26e44f",
   "metadata": {},
   "outputs": [],
   "source": [
    "np.savetxt(csv_path + \"sample_complexity_test_accuracy_no_noise.csv\", \n",
    "           test_accuracy_no_noise,\n",
    "           delimiter =\", \", \n",
    "           fmt ='% s')"
   ]
  },
  {
   "cell_type": "code",
   "execution_count": 33,
   "id": "6480a7c5-e16c-4046-961d-5d34c592e8bb",
   "metadata": {},
   "outputs": [],
   "source": [
    "np.savetxt(csv_path + \"sample_complexity_number_samples_list.csv\", \n",
    "           J,\n",
    "           delimiter =\", \", \n",
    "           fmt ='% s')"
   ]
  },
  {
   "cell_type": "code",
   "execution_count": 34,
   "id": "5b08d6ee",
   "metadata": {},
   "outputs": [],
   "source": [
    "test_accuracy_noisy  = [H[i].accuracy(H[i].X_test, H[i].Y_test, H[i].D_test) for i in range(len(H))]"
   ]
  },
  {
   "cell_type": "code",
   "execution_count": 35,
   "id": "058044e0",
   "metadata": {},
   "outputs": [
    {
     "data": {
      "image/png": "[encoded data removed]",
      "text/plain": [
       "<Figure size 432x288 with 1 Axes>"
      ]
     },
     "metadata": {
      "needs_background": "light"
     },
     "output_type": "display_data"
    }
   ],
   "source": [
    "plt.plot(J, test_accuracy_noisy, label = 'test_accuracy(noisy)', color = 'blue')\n",
    "plt.legend()\n",
    "plt.xlabel('# samples', fontsize=10)\n",
    "plt.ylabel('accuracy', fontsize=10)\n",
    "plt.title('test_accuracy (noisy) vs sample complexity' + title_suffix, fontsize=12)\n",
    "plt.savefig(image_path + \"test_accuracy_(noisy)_vs_sample_complexity\")\n",
    "plt.show()"
   ]
  },
  {
   "cell_type": "code",
   "execution_count": 36,
   "id": "6c2d5950-7cea-4f09-b0ff-7b4305824f1e",
   "metadata": {},
   "outputs": [],
   "source": [
    "np.savetxt(csv_path + \"sample_complexity_test_accuracy_noisy.csv\", \n",
    "           test_accuracy_noisy,\n",
    "           delimiter =\", \", \n",
    "           fmt ='% s')"
   ]
  },
  {
   "cell_type": "code",
   "execution_count": 37,
   "id": "09015211",
   "metadata": {},
   "outputs": [],
   "source": [
    "train_accuracy_noisy  = [H[i].accuracy(H[i].X_T, H[i].Y_T, H[i].D_T) for i in range(len(H))]"
   ]
  },
  {
   "cell_type": "code",
   "execution_count": 38,
   "id": "b6baea3e",
   "metadata": {},
   "outputs": [
    {
     "data": {
      "image/png": "[encoded data removed]",
      "text/plain": [
       "<Figure size 432x288 with 1 Axes>"
      ]
     },
     "metadata": {
      "needs_background": "light"
     },
     "output_type": "display_data"
    }
   ],
   "source": [
    "plt.plot(J, train_accuracy_noisy, label = 'train_accuracy (noisy)', color = 'blue')\n",
    "plt.legend()\n",
    "plt.xlabel('# samples', fontsize=10)\n",
    "plt.ylabel('accuracy', fontsize=10)\n",
    "plt.title('train_accuracy (noisy) vs sample complexity' + title_suffix, fontsize=12)\n",
    "plt.savefig(image_path + \"train_accuracy_(noisy)_vs_sample_complexity\")\n",
    "plt.show()"
   ]
  },
  {
   "cell_type": "code",
   "execution_count": 39,
   "id": "0a2e4e1a-6994-4380-b98b-957a4d72cdcb",
   "metadata": {},
   "outputs": [],
   "source": [
    "np.savetxt(csv_path + \"sample_complexity_train_accuracy_noisy.csv\", \n",
    "           train_accuracy_noisy,\n",
    "           delimiter =\", \", \n",
    "           fmt ='% s')"
   ]
  },
  {
   "cell_type": "code",
   "execution_count": 40,
   "id": "1906aceb",
   "metadata": {},
   "outputs": [],
   "source": [
    "train_accuracy_no_noisy  = [H[i].accuracy(H[i].X_T, H[i].Y_T, H[i].D_no_noise_T) for i in range(len(H))]"
   ]
  },
  {
   "cell_type": "code",
   "execution_count": 41,
   "id": "0ad5002e",
   "metadata": {},
   "outputs": [
    {
     "data": {
      "image/png": "[encoded data removed]",
      "text/plain": [
       "<Figure size 432x288 with 1 Axes>"
      ]
     },
     "metadata": {
      "needs_background": "light"
     },
     "output_type": "display_data"
    }
   ],
   "source": [
    "plt.plot(J, train_accuracy_no_noisy, label = 'train_accuracy (no noise)', color = 'blue')\n",
    "plt.legend()\n",
    "plt.xlabel('# samples', fontsize=10)\n",
    "plt.ylabel('accuracy', fontsize=10)\n",
    "plt.title('train_accuracy (no noise) vs sample complexity'+ title_suffix, fontsize=12)\n",
    "plt.savefig(image_path + \"train_accuracy_(no_noise)_vs_sample_complexity\")\n",
    "plt.show()"
   ]
  },
  {
   "cell_type": "markdown",
   "id": "9c40138e-b555-47a9-a1e6-f09bf46b5479",
   "metadata": {},
   "source": [
    "### "
   ]
  },
  {
   "cell_type": "code",
   "execution_count": 42,
   "id": "716c0452-f16a-4209-9191-023084481479",
   "metadata": {},
   "outputs": [],
   "source": [
    "np.savetxt(csv_path + \"sample_complexity_train_accuracy_no_noisy.csv\", \n",
    "           train_accuracy_no_noisy,\n",
    "           delimiter =\", \", \n",
    "           fmt ='% s')"
   ]
  },
  {
   "cell_type": "code",
   "execution_count": 59,
   "id": "b168846c-b40b-4fd1-b38a-a75f3dda6504",
   "metadata": {},
   "outputs": [
    {
     "data": {
      "image/png": "[encoded data removed]",
      "text/plain": [
       "<Figure size 432x288 with 1 Axes>"
      ]
     },
     "metadata": {
      "needs_background": "light"
     },
     "output_type": "display_data"
    }
   ],
   "source": [
    "plt.plot(J[:], train_accuracy_noisy[:], label = 'train_accuracy (noisy)', color = 'red')\n",
    "plt.plot(J[:], train_accuracy_no_noisy[:], label = 'train_accuracy (no noise)', color = 'blue')\n",
    "plt.plot(J[:], test_accuracy_noisy[:], label = 'test_accuracy(noisy)', color = 'green')\n",
    "plt.plot(J[:], test_accuracy_no_noise[:], label = 'test_accuracy (no noise)', color = 'magenta')\n",
    "\n",
    "plt.legend()\n",
    "plt.xlabel('# samples', fontsize=10)\n",
    "plt.ylabel('accuracy', fontsize=10)\n",
    "plt.title('accuracy vs sample complexity (40% of noise)' + title_suffix, fontsize=12)\n",
    "plt.savefig(image_path + \"all_accuracy_vs_sample_complexity\")\n",
    "plt.show()"
   ]
  },
  {
   "cell_type": "code",
   "execution_count": 44,
   "id": "aeef7cc2",
   "metadata": {
    "scrolled": true
   },
   "outputs": [
    {
     "data": {
      "image/png": "[encoded data removed]",
      "text/plain": [
       "<Figure size 432x288 with 1 Axes>"
      ]
     },
     "metadata": {
      "needs_background": "light"
     },
     "output_type": "display_data"
    }
   ],
   "source": [
    "I = H[-1].epoch_history[:]\n",
    "plt.plot(I, H[-1].train_accuracy_with_noise[:], label = 'train_accuracy_with_noise', color = 'magenta')\n",
    "plt.plot(I, H[-1].train_accuracy_without_noise[:], label = 'train_accuracy_without_noise', color = 'red')\n",
    "plt.plot(I, H[-1].test_accuracy_with_noise[:], label = 'test_accuracy_with_noise', color = 'green')\n",
    "plt.plot(I, H[-1].test_accuracy_without_noise[:], label = 'test_accuracy_without_noise', color = 'blue')\n",
    "plt.legend()\n",
    "plt.xlabel('# Epoch', fontsize = 10)\n",
    "plt.ylabel('Accuracy', fontsize = 10)\n",
    "plt.title('Accuracy vs Epoch' + title_suffix, fontsize = 12)\n",
    "plt.savefig(image_path + 'all_accuracy_vs_epoch')\n",
    "plt.show()"
   ]
  },
  {
   "cell_type": "code",
   "execution_count": 45,
   "id": "bd84a163",
   "metadata": {},
   "outputs": [],
   "source": [
    "L_1_f_norm_history = [m.L_1_f_norm_history[-1] for m in H]"
   ]
  },
  {
   "cell_type": "code",
   "execution_count": 46,
   "id": "d2184834-e998-4c9d-b9b3-4fd7ac1a089c",
   "metadata": {},
   "outputs": [
    {
     "data": {
      "image/png": "[encoded data removed]",
      "text/plain": [
       "<Figure size 432x288 with 1 Axes>"
      ]
     },
     "metadata": {
      "needs_background": "light"
     },
     "output_type": "display_data"
    }
   ],
   "source": [
    "plt.plot(J, L_1_f_norm_history, label = 'L_1_f_norm_history VS number of samples', color = 'blue')\n",
    "plt.legend()\n",
    "plt.xlabel('#Samples', fontsize=10)\n",
    "plt.ylabel('distance', fontsize=10)\n",
    "plt.title('L_1_f_distance vs number of samples (logistic 40% of Noise)' + title_suffix, fontsize=12)\n",
    "plt.savefig(image_path + \"L_1_f_norm_history_vs_samples\")\n",
    "plt.show()"
   ]
  },
  {
   "cell_type": "code",
   "execution_count": 49,
   "id": "5f95f6c5",
   "metadata": {},
   "outputs": [],
   "source": [
    "model = H[-1]\n",
    "s = 2.5"
   ]
  },
  {
   "cell_type": "code",
   "execution_count": 50,
   "id": "c8d7cda3",
   "metadata": {},
   "outputs": [
    {
     "name": "stdout",
     "output_type": "stream",
     "text": [
      "0.20437623595352217\n",
      "0.3932115486061347\n"
     ]
    }
   ],
   "source": [
    "M_hat = (model.B @ model.B.T).detach().numpy()*s\n",
    "M_star = data_model.M_t\n",
    "tau_hat = model.Tau.detach().numpy()[0]*s\n",
    "tau_star = data_model.tau_t[0]\n",
    "\n",
    "print((np.abs(M_hat - M_star)).max())\n",
    "print(np.abs(tau_hat-tau_star))"
   ]
  },
  {
   "cell_type": "code",
   "execution_count": 51,
   "id": "0326596d",
   "metadata": {},
   "outputs": [],
   "source": [
    "M_hat_normal = model.B @ model.B.T / model.Tau[0]"
   ]
  },
  {
   "cell_type": "code",
   "execution_count": 52,
   "id": "4f3ae3c4",
   "metadata": {},
   "outputs": [],
   "source": [
    "M_t_normal = data_model.M_t/tau[0]"
   ]
  },
  {
   "cell_type": "code",
   "execution_count": 53,
   "id": "db21b3ad",
   "metadata": {},
   "outputs": [
    {
     "data": {
      "text/plain": [
       "0.03735672014905833"
      ]
     },
     "execution_count": 53,
     "metadata": {},
     "output_type": "execute_result"
    }
   ],
   "source": [
    "(np.abs(M_t_normal - M_hat_normal.detach().numpy())).max()"
   ]
  },
  {
   "cell_type": "code",
   "execution_count": 54,
   "id": "15da3c13",
   "metadata": {},
   "outputs": [
    {
     "data": {
      "text/plain": [
       "0.007091464127552615"
      ]
     },
     "execution_count": 54,
     "metadata": {},
     "output_type": "execute_result"
    }
   ],
   "source": [
    "(np.abs(M_t_normal - M_hat_normal.detach().numpy())).mean()"
   ]
  },
  {
   "cell_type": "code",
   "execution_count": 55,
   "id": "5caab32e",
   "metadata": {},
   "outputs": [
    {
     "data": {
      "text/plain": [
       "0.10520608216206845"
      ]
     },
     "execution_count": 55,
     "metadata": {},
     "output_type": "execute_result"
    }
   ],
   "source": [
    "np.sqrt(np.sum((M_t_normal - M_hat_normal.detach().numpy())**2))/np.sqrt((M_t_normal**2).sum())"
   ]
  },
  {
   "cell_type": "code",
   "execution_count": 56,
   "id": "35aff2bf",
   "metadata": {},
   "outputs": [
    {
     "name": "stdout",
     "output_type": "stream",
     "text": [
      "[0.67728462]\n",
      "[1.3]\n",
      "1.9194293841637367 2.5\n"
     ]
    }
   ],
   "source": [
    "print(model.Tau.detach().numpy())\n",
    "print(np.array(tau))\n",
    "print(np.array(tau)[0]/model.Tau.detach().numpy()[0], s)"
   ]
  },
  {
   "cell_type": "code",
   "execution_count": 57,
   "id": "dc62203c",
   "metadata": {},
   "outputs": [
    {
     "data": {
      "text/plain": [
       "0.06216014241668422"
      ]
     },
     "execution_count": 57,
     "metadata": {},
     "output_type": "execute_result"
    }
   ],
   "source": [
    "L_1_f_norm(f, model.B.detach().numpy(), model.Tau.detach().numpy(), \n",
    "           data_model.B_t, data_model.tau_t, N = 10000)"
   ]
  },
  {
   "cell_type": "code",
   "execution_count": 58,
   "id": "e8220db7",
   "metadata": {},
   "outputs": [
    {
     "name": "stdout",
     "output_type": "stream",
     "text": [
      "0.6484303538669594\n",
      "0.6468986165967688\n",
      "0.6468986165967688\n"
     ]
    }
   ],
   "source": [
    "print(loss(X_T - Y_T, D_T, data_model.B_t/np.sqrt(s), data_model.tau_t/s, Type = model_type).item())\n",
    "print(loss(X_T - Y_T, D_T, model.B, model.Tau, Type = model_type).item())\n",
    "print(model.loss_history[-1].item())"
   ]
  },
  {
   "cell_type": "code",
   "execution_count": null,
   "id": "e5b5c77b",
   "metadata": {},
   "outputs": [],
   "source": []
  },
  {
   "cell_type": "code",
   "execution_count": null,
   "id": "eefe915a",
   "metadata": {},
   "outputs": [],
   "source": []
  }
 ],
 "metadata": {
  "kernelspec": {
   "display_name": "Python 3 (ipykernel)",
   "language": "python",
   "name": "python3"
  },
  "language_info": {
   "codemirror_mode": {
    "name": "ipython",
    "version": 3
   },
   "file_extension": ".py",
   "mimetype": "text/x-python",
   "name": "python",
   "nbconvert_exporter": "python",
   "pygments_lexer": "ipython3",
   "version": "3.9.7"
  }
 },
 "nbformat": 4,
 "nbformat_minor": 5
}
