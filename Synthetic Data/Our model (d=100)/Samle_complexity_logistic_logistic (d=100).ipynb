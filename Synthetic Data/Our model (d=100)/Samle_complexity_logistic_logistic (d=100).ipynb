{
 "cells": [
  {
   "cell_type": "code",
   "execution_count": 1,
   "id": "fd283ad6",
   "metadata": {},
   "outputs": [],
   "source": [
    "import numpy as np\n",
    "import matplotlib.pyplot as plt\n",
    "import math\n",
    "import torch\n",
    "import torch.nn as nn\n",
    "import torch.nn.functional as F\n",
    "import torch.optim as optim\n",
    "import torchvision\n",
    "from torch.distributions import Normal as norm\n",
    "from termcolor import colored\n",
    "from sklearn.decomposition import PCA\n",
    "from scipy import linalg as LA\n",
    "from scipy.stats import multivariate_normal\n",
    "from scipy.stats import norm\n",
    "from scipy.stats import multinomial\n",
    "from scipy.stats import logistic\n",
    "from Main_functions import *\n",
    "import random\n",
    "from numpy import genfromtxt\n",
    "import time "
   ]
  },
  {
   "cell_type": "markdown",
   "id": "5322d4e9",
   "metadata": {},
   "source": [
    "### Setting the data distribuation \n",
    "\n",
    "Pairs $(x_i,y_i)\\in \\mathbb{R}^d\\times \\mathbb{R}^d$ for $i=1, \\ldots, N$ are generated i.i.d. from density distribuation $f(\\cdot)\\times f(\\cdot)$.  \n",
    "\n",
    "Parameters:\n",
    "\n",
    "$d:$ dimention of data points\n",
    "\n",
    "$N:$ number of pairs\n",
    "\n",
    "$f(\\cdot):$ density distribuation\n"
   ]
  },
  {
   "cell_type": "markdown",
   "id": "39240958",
   "metadata": {},
   "source": [
    "### Given the eigenvalues of ground truth $M_t$, we randomly generate it."
   ]
  },
  {
   "cell_type": "code",
   "execution_count": 59,
   "id": "b10c13dd",
   "metadata": {},
   "outputs": [],
   "source": [
    "csv_path = 'CSVs/logistic_logistic_'\n",
    "image_path = 'Images/logistic_logistic_'\n",
    "title_suffix = '\\n Logistic Noise Logistic model\\n (d=100 & rank(M) = 30)'\n",
    "noise_type = 'Logistic'\n",
    "model_type = 'Logistic'"
   ]
  },
  {
   "cell_type": "code",
   "execution_count": 3,
   "id": "7520327d",
   "metadata": {},
   "outputs": [],
   "source": [
    "d = 100\n",
    "rank = 30\n",
    "seed = 2023"
   ]
  },
  {
   "cell_type": "code",
   "execution_count": 4,
   "id": "d716ea81",
   "metadata": {},
   "outputs": [
    {
     "data": {
      "text/plain": [
       "array([0.32, 0.89, 0.59, 0.13, 0.14, 0.47, 0.02, 0.73, 0.52, 0.54, 0.46,\n",
       "       0.5 , 0.39, 0.15, 0.36, 0.16, 0.34, 0.18, 0.39, 0.04, 0.56, 0.2 ,\n",
       "       0.32, 0.38, 0.18, 0.1 , 0.45, 0.2 , 0.38, 0.93])"
      ]
     },
     "execution_count": 4,
     "metadata": {},
     "output_type": "execute_result"
    }
   ],
   "source": [
    "np.random.seed(seed)\n",
    "non_zero_eigens_of_M_star = np.round(np.random.uniform(low=0.0, high=1.0, size= rank), 2)\n",
    "non_zero_eigens_of_M_star"
   ]
  },
  {
   "cell_type": "code",
   "execution_count": 5,
   "id": "0fbc4ae8",
   "metadata": {},
   "outputs": [
    {
     "data": {
      "text/plain": [
       "array([0.32, 0.89, 0.59, 0.13, 0.14, 0.47, 0.02, 0.73, 0.52, 0.54, 0.46,\n",
       "       0.5 , 0.39, 0.15, 0.36, 0.16, 0.34, 0.18, 0.39, 0.04, 0.56, 0.2 ,\n",
       "       0.32, 0.38, 0.18, 0.1 , 0.45, 0.2 , 0.38, 0.93, 0.  , 0.  , 0.  ,\n",
       "       0.  , 0.  , 0.  , 0.  , 0.  , 0.  , 0.  , 0.  , 0.  , 0.  , 0.  ,\n",
       "       0.  , 0.  , 0.  , 0.  , 0.  , 0.  , 0.  , 0.  , 0.  , 0.  , 0.  ,\n",
       "       0.  , 0.  , 0.  , 0.  , 0.  , 0.  , 0.  , 0.  , 0.  , 0.  , 0.  ,\n",
       "       0.  , 0.  , 0.  , 0.  , 0.  , 0.  , 0.  , 0.  , 0.  , 0.  , 0.  ,\n",
       "       0.  , 0.  , 0.  , 0.  , 0.  , 0.  , 0.  , 0.  , 0.  , 0.  , 0.  ,\n",
       "       0.  , 0.  , 0.  , 0.  , 0.  , 0.  , 0.  , 0.  , 0.  , 0.  , 0.  ,\n",
       "       0.  ])"
      ]
     },
     "execution_count": 5,
     "metadata": {},
     "output_type": "execute_result"
    }
   ],
   "source": [
    "# eigenvalues of $M_t$\n",
    "diag = np.zeros(d)\n",
    "diag[:rank] = non_zero_eigens_of_M_star\n",
    "diag"
   ]
  },
  {
   "cell_type": "code",
   "execution_count": 6,
   "id": "23087886",
   "metadata": {},
   "outputs": [
    {
     "name": "stdout",
     "output_type": "stream",
     "text": [
      "Ground truth M_t and B_t are generated (M_t = B_t @ B_t.T)\n",
      "To access to M_t and B_t, use .M_t and .B_t\n"
     ]
    }
   ],
   "source": [
    "data_model = DG(diag, seed = 22)"
   ]
  },
  {
   "cell_type": "code",
   "execution_count": 7,
   "id": "0ff3f776",
   "metadata": {},
   "outputs": [
    {
     "data": {
      "text/plain": [
       "array([0.32, 0.89, 0.59, 0.13, 0.14, 0.47, 0.02, 0.73, 0.52, 0.54, 0.46,\n",
       "       0.5 , 0.39, 0.15, 0.36, 0.16, 0.34, 0.18, 0.39, 0.04, 0.56, 0.2 ,\n",
       "       0.32, 0.38, 0.18, 0.1 , 0.45, 0.2 , 0.38, 0.93, 0.  , 0.  , 0.  ,\n",
       "       0.  , 0.  , 0.  , 0.  , 0.  , 0.  , 0.  , 0.  , 0.  , 0.  , 0.  ,\n",
       "       0.  , 0.  , 0.  , 0.  , 0.  , 0.  , 0.  , 0.  , 0.  , 0.  , 0.  ,\n",
       "       0.  , 0.  , 0.  , 0.  , 0.  , 0.  , 0.  , 0.  , 0.  , 0.  , 0.  ,\n",
       "       0.  , 0.  , 0.  , 0.  , 0.  , 0.  , 0.  , 0.  , 0.  , 0.  , 0.  ,\n",
       "       0.  , 0.  , 0.  , 0.  , 0.  , 0.  , 0.  , 0.  , 0.  , 0.  , 0.  ,\n",
       "       0.  , 0.  , 0.  , 0.  , 0.  , 0.  , 0.  , 0.  , 0.  , 0.  , 0.  ,\n",
       "       0.  ])"
      ]
     },
     "execution_count": 7,
     "metadata": {},
     "output_type": "execute_result"
    }
   ],
   "source": [
    "data_model.M_diag"
   ]
  },
  {
   "cell_type": "code",
   "execution_count": 8,
   "id": "74d3f36d",
   "metadata": {},
   "outputs": [
    {
     "data": {
      "text/plain": [
       "((100, 100), (100, 100))"
      ]
     },
     "execution_count": 8,
     "metadata": {},
     "output_type": "execute_result"
    }
   ],
   "source": [
    "data_model.M_t.shape, data_model.B_t.shape"
   ]
  },
  {
   "cell_type": "markdown",
   "id": "5488a2f7",
   "metadata": {},
   "source": [
    "### Given the eigenvalue of covariance matrix Cov, we randomly generate it."
   ]
  },
  {
   "cell_type": "code",
   "execution_count": 9,
   "id": "931ccc10",
   "metadata": {},
   "outputs": [
    {
     "data": {
      "text/plain": [
       "array([0.59, 0.7 , 0.19, 0.04, 0.21, 0.11, 0.73, 0.68, 0.47, 0.45, 0.02,\n",
       "       0.75, 0.6 , 0.96, 0.66, 0.61, 0.45, 0.23, 0.67, 0.74, 0.26, 0.1 ,\n",
       "       0.96, 0.25, 0.28, 0.77, 0.8 , 0.54, 0.38, 0.38, 0.29, 0.74, 0.24,\n",
       "       0.44, 0.88, 0.29, 0.78, 0.76, 0.42, 0.23, 0.42, 0.06, 0.6 , 0.84,\n",
       "       0.89, 0.2 , 0.5 , 0.9 , 0.26, 0.87, 0.02, 0.55, 0.53, 0.92, 0.25,\n",
       "       0.06, 0.9 , 0.87, 0.16, 1.  , 0.35, 0.31, 0.85, 0.88, 0.68, 0.05,\n",
       "       0.56, 0.69, 0.82, 0.31, 0.51, 0.85, 0.29, 0.68, 0.42, 0.68, 0.22,\n",
       "       0.55, 0.85, 0.74, 0.5 , 0.38, 0.79, 0.17, 0.59, 0.43, 0.06, 0.29,\n",
       "       0.73, 0.29, 0.39, 0.64, 0.83, 0.32, 0.16, 0.71, 0.87, 0.59, 0.69,\n",
       "       0.17])"
      ]
     },
     "execution_count": 9,
     "metadata": {},
     "output_type": "execute_result"
    }
   ],
   "source": [
    "np.random.seed(2024)\n",
    "diag_cov = np.round(np.random.uniform(low=0.0, high=1.0, size= d), 2)\n",
    "diag_cov"
   ]
  },
  {
   "cell_type": "code",
   "execution_count": 10,
   "id": "00ae3c85",
   "metadata": {},
   "outputs": [
    {
     "data": {
      "text/plain": [
       "51.339999999999996"
      ]
     },
     "execution_count": 10,
     "metadata": {},
     "output_type": "execute_result"
    }
   ],
   "source": [
    "diag_cov.sum()"
   ]
  },
  {
   "cell_type": "code",
   "execution_count": 11,
   "id": "53605447",
   "metadata": {},
   "outputs": [],
   "source": [
    "Sigma, U_sigma = random_covariance(diag_cov, seed = 21)"
   ]
  },
  {
   "cell_type": "code",
   "execution_count": 12,
   "id": "591cfc04",
   "metadata": {},
   "outputs": [],
   "source": [
    "f = multivariate_normal(mean = np.zeros(d), cov = Sigma)"
   ]
  },
  {
   "cell_type": "markdown",
   "id": "5f1e38c8",
   "metadata": {},
   "source": [
    "### What is the average of squared norm of points generating where $x\\sim f(x)$ with $\\mathbb{E}(x) = \\mu$ and ${\\rm Cov}(x) = \\Sigma$\n",
    "\n",
    "If $x\\sim f(x)$ where $\\mathbb{E}(x) = \\mu$ and ${\\rm Cov}(x) = \\Sigma$, then \n",
    "\\begin{align}\n",
    "\\mathbb{E}\\left(x^\\top Mx\\right) & = \\mathbb{E}\\left({\\rm tr}(x^\\top Mx)\\right)\\\\\n",
    " & = \\mathbb{E}\\left({\\rm tr}(xx^\\top M)\\right)\\\\\n",
    " & = {\\rm tr}\\left(\\mathbb{E}\\left(xx^\\top\\right)M\\right)\\\\\n",
    " & = {\\rm tr}\\left(\\left[{\\rm Cov}(x) - \\mathbb{E}(x)\\mathbb{E}(x)^\\top\\right]M\\right)\n",
    "\\end{align}\n",
    "\n",
    "If we set  $\\mu = \\mathbf{0}$, then \n",
    "$$\\mathbb{E}\\left(x^\\top Mx\\right) = {\\rm tr}\\left(\\Sigma M\\right).$$\n",
    "Therefore, since $x$ and $y$ are independent, \n",
    "$$\\mathbb{E}\\left(\\|x-y\\|_M^2\\right) = 2{\\rm tr}\\left(\\Sigma M\\right).$$"
   ]
  },
  {
   "cell_type": "code",
   "execution_count": 13,
   "id": "98d5aab8",
   "metadata": {},
   "outputs": [
    {
     "name": "stdout",
     "output_type": "stream",
     "text": [
      "squared norm mean = 11.29846430528854\n"
     ]
    }
   ],
   "source": [
    "snm = 2 * np.trace(data_model.M_t @ Sigma)\n",
    "print(\"squared norm mean = {}\".format(snm))"
   ]
  },
  {
   "cell_type": "markdown",
   "id": "7cc2ae3e",
   "metadata": {},
   "source": [
    "### Check the average empirically"
   ]
  },
  {
   "cell_type": "code",
   "execution_count": 14,
   "id": "0ae0f999",
   "metadata": {},
   "outputs": [
    {
     "name": "stdout",
     "output_type": "stream",
     "text": [
      "emperical squared norm mean = 11.3058906083702\n"
     ]
    }
   ],
   "source": [
    "N = 5000\n",
    "X_1, Y_1 = sample(f, N)\n",
    "sn = (((X_1 - Y_1) @ data_model.B_t)**2).sum()/N\n",
    "print(\"emperical squared norm mean = {}\".format(sn))"
   ]
  },
  {
   "cell_type": "markdown",
   "id": "c128a3e9",
   "metadata": {},
   "source": [
    "### Set $\\tau$ to generate data points"
   ]
  },
  {
   "cell_type": "code",
   "execution_count": 15,
   "id": "873f693c",
   "metadata": {},
   "outputs": [],
   "source": [
    "tau = [11]\n",
    "N = 150000\n",
    "s = 1.5"
   ]
  },
  {
   "cell_type": "code",
   "execution_count": 16,
   "id": "063dc639",
   "metadata": {},
   "outputs": [
    {
     "data": {
      "text/plain": [
       "7.4022033008170185"
      ]
     },
     "execution_count": 16,
     "metadata": {},
     "output_type": "execute_result"
    }
   ],
   "source": [
    "var = logistic(loc = 0, scale = s).var()\n",
    "var"
   ]
  },
  {
   "cell_type": "code",
   "execution_count": 17,
   "id": "31307a90",
   "metadata": {},
   "outputs": [],
   "source": [
    "X, Y, D_noisy, D_no_noisy = data_model.generate(f, N, tau = np.array(tau), \n",
    "                                          noise_type = noise_type, noise_par = s)"
   ]
  },
  {
   "cell_type": "code",
   "execution_count": 18,
   "id": "b8eecbc6",
   "metadata": {},
   "outputs": [
    {
     "name": "stdout",
     "output_type": "stream",
     "text": [
      "the amount of noise: 0.20324666666666666\n"
     ]
    }
   ],
   "source": [
    "noise_amount = (D_noisy != D_no_noisy).mean()\n",
    "print('the amount of noise: {}'.format(noise_amount))"
   ]
  },
  {
   "cell_type": "code",
   "execution_count": 19,
   "id": "133ec772",
   "metadata": {},
   "outputs": [
    {
     "name": "stdout",
     "output_type": "stream",
     "text": [
      "number of pairs with 0 as their labels is 77241\n",
      "number of pairs with 1 as their labels is 72759\n"
     ]
    }
   ],
   "source": [
    "for i in range(len(tau)+1):\n",
    "    print('number of pairs with {} as their labels is {}'.format(i,(D_no_noisy==i).sum()))"
   ]
  },
  {
   "cell_type": "code",
   "execution_count": 20,
   "id": "6bfbc49f",
   "metadata": {},
   "outputs": [
    {
     "data": {
      "text/plain": [
       "0.51494"
      ]
     },
     "execution_count": 20,
     "metadata": {},
     "output_type": "execute_result"
    }
   ],
   "source": [
    "(D_no_noisy== 0).sum()/N"
   ]
  },
  {
   "cell_type": "markdown",
   "id": "8ac47f7b",
   "metadata": {},
   "source": [
    "### Change to PyTorch tensor!"
   ]
  },
  {
   "cell_type": "code",
   "execution_count": 21,
   "id": "95fad745",
   "metadata": {},
   "outputs": [],
   "source": [
    "X = torch.tensor(X, dtype = torch.float64)\n",
    "Y = torch.tensor(Y, dtype = torch.float64)\n",
    "D_noisy = torch.tensor(D_noisy, dtype = torch.torch.int64)\n",
    "D_no_noisy = torch.tensor(D_no_noisy, dtype = torch.torch.int64)"
   ]
  },
  {
   "cell_type": "code",
   "execution_count": 22,
   "id": "b76ac4d6",
   "metadata": {},
   "outputs": [],
   "source": [
    "X, Y, D, X_T, Y_T, D_T, D_no_noise_T, X_test, Y_test, D_test, D_no_noise_test = train_test_split(X, \n",
    "                                                                                                 Y, \n",
    "                                                                                                 D_noisy, \n",
    "                                                                                                 D_no_noisy, \n",
    "                                                                                                 n_train = 100000)"
   ]
  },
  {
   "cell_type": "code",
   "execution_count": 23,
   "id": "9b78dbfb",
   "metadata": {},
   "outputs": [
    {
     "data": {
      "text/plain": [
       "(torch.float64, torch.int64)"
      ]
     },
     "execution_count": 23,
     "metadata": {},
     "output_type": "execute_result"
    }
   ],
   "source": [
    "X.dtype, D.dtype"
   ]
  },
  {
   "cell_type": "markdown",
   "id": "e2e5b8ca-dd74-406c-b57d-812e97b3e875",
   "metadata": {
    "tags": []
   },
   "source": [
    "## Sample complexity"
   ]
  },
  {
   "cell_type": "code",
   "execution_count": 24,
   "id": "587a4c2a",
   "metadata": {},
   "outputs": [],
   "source": [
    "k = d\n",
    "n_labels = len(tau)+1"
   ]
  },
  {
   "cell_type": "code",
   "execution_count": 25,
   "id": "b0f21314",
   "metadata": {
    "scrolled": true
   },
   "outputs": [
    {
     "name": "stdout",
     "output_type": "stream",
     "text": [
      "round for N = 40000 has started\n",
      "For N = 40000\n",
      " training time is 929.0732588768005,\n",
      "train_accuracy_with_noise is 0.820375,\n",
      "train_accuracy_without_noise is 0.902175,\n",
      "test_accuracy_with_noise is 0.7686,\n",
      "test_accuracy_without_noise is 0.89116.\n",
      "round for N = 60000 has started\n",
      "For N = 60000\n",
      " training time is 1372.0894231796265,\n",
      "train_accuracy_with_noise is 0.81145,\n",
      "train_accuracy_without_noise is 0.9174833333333333,\n",
      "test_accuracy_with_noise is 0.78068,\n",
      "test_accuracy_without_noise is 0.91522.\n",
      "round for N = 100000 has started\n",
      "For N = 100000\n",
      " training time is 2593.661719083786,\n",
      "train_accuracy_with_noise is 0.80449,\n",
      "train_accuracy_without_noise is 0.93978,\n",
      "test_accuracy_with_noise is 0.78478,\n",
      "test_accuracy_without_noise is 0.9399.\n",
      "round for N = 150000 has started\n",
      "For N = 150000\n",
      " training time is 3446.879595041275,\n",
      "train_accuracy_with_noise is 0.8008733333333333,\n",
      "train_accuracy_without_noise is 0.9492866666666666,\n",
      "test_accuracy_with_noise is 0.78974,\n",
      "test_accuracy_without_noise is 0.95062.\n",
      "round for N = 200000 has started\n",
      "For N = 200000\n",
      " training time is 6988.964119911194,\n",
      "train_accuracy_with_noise is 0.7981,\n",
      "train_accuracy_without_noise is 0.958215,\n",
      "test_accuracy_with_noise is 0.79258,\n",
      "test_accuracy_without_noise is 0.95878.\n",
      "round for N = 300000 has started\n",
      "For N = 300000\n",
      " training time is 9938.198488235474,\n",
      "train_accuracy_with_noise is 0.7966466666666666,\n",
      "train_accuracy_without_noise is 0.96647,\n",
      "test_accuracy_with_noise is 0.79358,\n",
      "test_accuracy_without_noise is 0.96644.\n",
      "round for N = 400000 has started\n",
      "For N = 400000\n",
      " training time is 18293.086068868637,\n",
      "train_accuracy_with_noise is 0.7971525,\n",
      "train_accuracy_without_noise is 0.97059,\n",
      "test_accuracy_with_noise is 0.79468,\n",
      "test_accuracy_without_noise is 0.97022.\n"
     ]
    }
   ],
   "source": [
    "H = []\n",
    "J = []\n",
    "N = 20000\n",
    "while N < 400000:\n",
    "    if N < 50000:\n",
    "        N += 20000\n",
    "    elif N < 100000:\n",
    "        N += 40000\n",
    "    elif N < 200000:\n",
    "        N+= 50000\n",
    "    else:\n",
    "        N+= 100000\n",
    "        \n",
    "        \n",
    "    X, Y, D, X_T, Y_T, D_T, D_no_noise_T, X_test, Y_test, D_test, D_no_noise_test = gen_data(f, \n",
    "                                                                                         N + 50000, \n",
    "                                                                                         n_train = N, \n",
    "                                                                                         tau = np.array(tau), \n",
    "                                                                                         noise_type = noise_type,\n",
    "                                                                                         noise_par = s,\n",
    "                                                                                         data_model = data_model)\n",
    "        \n",
    "    print('round for N = {} has started'.format(N))\n",
    "    \n",
    "    J.append(N)\n",
    "\n",
    "    t_1 = time.time()\n",
    "    model = ML(d, k, n_labels, \n",
    "               X_T, Y_T, D_T, D_no_noise_T, \n",
    "               X_test, Y_test, D_test, \n",
    "               D_no_noise_test, Type = model_type) \n",
    "    \n",
    "    model.train(learning_rate = 1e-1, \n",
    "                n_iters = 10000, \n",
    "                decay = .95, \n",
    "                show_log = False,\n",
    "                f = f, \n",
    "                B_star = data_model.B_t, \n",
    "                tau_star = data_model.tau_t, \n",
    "                N = 1000)\n",
    "    print('For N = {}\\n training time is {},'.format(N, time.time()-t_1))\n",
    "    H.append(model)\n",
    "    print('train_accuracy_with_noise is {},'.format(model.train_accuracy_with_noise[-1]))\n",
    "    print('train_accuracy_without_noise is {},'.format(model.train_accuracy_without_noise[-1]))\n",
    "    print('test_accuracy_with_noise is {},'.format(model.test_accuracy_with_noise[-1]))\n",
    "    print('test_accuracy_without_noise is {}.\\n'.format(model.test_accuracy_without_noise[-1]))"
   ]
  },
  {
   "cell_type": "code",
   "execution_count": 87,
   "id": "73491f2d",
   "metadata": {},
   "outputs": [
    {
     "data": {
      "text/plain": [
       "[40000, 60000, 100000, 150000, 200000, 300000, 400000]"
      ]
     },
     "execution_count": 87,
     "metadata": {},
     "output_type": "execute_result"
    }
   ],
   "source": [
    "J"
   ]
  },
  {
   "cell_type": "code",
   "execution_count": 26,
   "id": "5c3380a3",
   "metadata": {},
   "outputs": [],
   "source": [
    "X_new, Y_new, _, D_new = data_model.generate(f, \n",
    "                                             N = 100000, \n",
    "                                             tau = np.array(tau), \n",
    "                                             noise_type = None, \n",
    "                                             noise_par = None)"
   ]
  },
  {
   "cell_type": "code",
   "execution_count": 27,
   "id": "d1de0885",
   "metadata": {},
   "outputs": [],
   "source": [
    "X_new = torch.tensor(X_new, dtype = torch.float64)\n",
    "Y_new = torch.tensor(Y_new, dtype = torch.float64)\n",
    "D_new = torch.tensor(D_new, dtype = torch.torch.int64)"
   ]
  },
  {
   "cell_type": "code",
   "execution_count": 28,
   "id": "4afd924b",
   "metadata": {},
   "outputs": [
    {
     "data": {
      "text/plain": [
       "0.97055"
      ]
     },
     "execution_count": 28,
     "metadata": {},
     "output_type": "execute_result"
    }
   ],
   "source": [
    "H[-1].accuracy(X_new, Y_new, D_new)"
   ]
  },
  {
   "cell_type": "code",
   "execution_count": 29,
   "id": "6e5b7d0a",
   "metadata": {},
   "outputs": [],
   "source": [
    "test_accuracy_no_noise  = [H[i].accuracy(X_new, Y_new, D_new) for i in range(len(H))]"
   ]
  },
  {
   "cell_type": "code",
   "execution_count": 30,
   "id": "381290eb",
   "metadata": {},
   "outputs": [
    {
     "data": {
      "text/plain": [
       "[0.89309, 0.91376, 0.93808, 0.94908, 0.95814, 0.96633, 0.97055]"
      ]
     },
     "execution_count": 30,
     "metadata": {},
     "output_type": "execute_result"
    }
   ],
   "source": [
    "test_accuracy_no_noise"
   ]
  },
  {
   "cell_type": "code",
   "execution_count": 31,
   "id": "a86c9c97",
   "metadata": {},
   "outputs": [
    {
     "data": {
      "image/png": "[encoded data removed]",
      "text/plain": [
       "<Figure size 432x288 with 1 Axes>"
      ]
     },
     "metadata": {
      "needs_background": "light"
     },
     "output_type": "display_data"
    }
   ],
   "source": [
    "plt.plot(J, test_accuracy_no_noise, label = 'test_accuracy (no noise)', color = 'blue')\n",
    "plt.legend()\n",
    "plt.xlabel('# samples', fontsize=10)\n",
    "plt.ylabel('accuracy', fontsize=10)\n",
    "plt.title('test_accuracy (no noise) vs sample complexity' + title_suffix, fontsize=12)\n",
    "plt.savefig(image_path + \"test_accuracy_(no_noise)_vs_sample_complexity\")\n",
    "plt.show()"
   ]
  },
  {
   "cell_type": "code",
   "execution_count": 32,
   "id": "ed0b4974-05ed-41eb-b91b-cb59de26e44f",
   "metadata": {},
   "outputs": [],
   "source": [
    "np.savetxt(csv_path + \"sample_complexity_test_accuracy_no_noise.csv\", \n",
    "           test_accuracy_no_noise,\n",
    "           delimiter =\", \", \n",
    "           fmt ='% s')"
   ]
  },
  {
   "cell_type": "code",
   "execution_count": 33,
   "id": "6480a7c5-e16c-4046-961d-5d34c592e8bb",
   "metadata": {},
   "outputs": [],
   "source": [
    "np.savetxt(csv_path + \"sample_complexity_number_samples_list.csv\", \n",
    "           J,\n",
    "           delimiter =\", \", \n",
    "           fmt ='% s')"
   ]
  },
  {
   "cell_type": "code",
   "execution_count": 34,
   "id": "5b08d6ee",
   "metadata": {},
   "outputs": [],
   "source": [
    "test_accuracy_noisy  = [H[i].accuracy(H[i].X_test, H[i].Y_test, H[i].D_test) for i in range(len(H))]"
   ]
  },
  {
   "cell_type": "code",
   "execution_count": 35,
   "id": "058044e0",
   "metadata": {},
   "outputs": [
    {
     "data": {
      "image/png": "[encoded data removed]",
      "text/plain": [
       "<Figure size 432x288 with 1 Axes>"
      ]
     },
     "metadata": {
      "needs_background": "light"
     },
     "output_type": "display_data"
    }
   ],
   "source": [
    "plt.plot(J, test_accuracy_noisy, label = 'test_accuracy(noisy)', color = 'blue')\n",
    "plt.legend()\n",
    "plt.xlabel('# samples', fontsize=10)\n",
    "plt.ylabel('accuracy', fontsize=10)\n",
    "plt.title('test_accuracy (noisy) vs sample complexity' + title_suffix, fontsize=12)\n",
    "plt.savefig(image_path + \"test_accuracy_(noisy)_vs_sample_complexity\")\n",
    "plt.show()"
   ]
  },
  {
   "cell_type": "code",
   "execution_count": 36,
   "id": "6c2d5950-7cea-4f09-b0ff-7b4305824f1e",
   "metadata": {},
   "outputs": [],
   "source": [
    "np.savetxt(csv_path + \"sample_complexity_test_accuracy_noisy.csv\", \n",
    "           test_accuracy_noisy,\n",
    "           delimiter =\", \", \n",
    "           fmt ='% s')"
   ]
  },
  {
   "cell_type": "code",
   "execution_count": 37,
   "id": "09015211",
   "metadata": {},
   "outputs": [],
   "source": [
    "train_accuracy_noisy  = [H[i].accuracy(H[i].X_T, H[i].Y_T, H[i].D_T) for i in range(len(H))]"
   ]
  },
  {
   "cell_type": "code",
   "execution_count": 38,
   "id": "b6baea3e",
   "metadata": {},
   "outputs": [
    {
     "data": {
      "image/png": "[encoded data removed]",
      "text/plain": [
       "<Figure size 432x288 with 1 Axes>"
      ]
     },
     "metadata": {
      "needs_background": "light"
     },
     "output_type": "display_data"
    }
   ],
   "source": [
    "plt.plot(J, train_accuracy_noisy, label = 'train_accuracy (noisy)', color = 'blue')\n",
    "plt.legend()\n",
    "plt.xlabel('# samples', fontsize=10)\n",
    "plt.ylabel('accuracy', fontsize=10)\n",
    "plt.title('train_accuracy (noisy) vs sample complexity' + title_suffix, fontsize=12)\n",
    "plt.savefig(image_path + \"train_accuracy_(noisy)_vs_sample_complexity\")\n",
    "plt.show()"
   ]
  },
  {
   "cell_type": "code",
   "execution_count": 39,
   "id": "0a2e4e1a-6994-4380-b98b-957a4d72cdcb",
   "metadata": {},
   "outputs": [],
   "source": [
    "np.savetxt(csv_path + \"sample_complexity_train_accuracy_noisy.csv\", \n",
    "           train_accuracy_noisy,\n",
    "           delimiter =\", \", \n",
    "           fmt ='% s')"
   ]
  },
  {
   "cell_type": "code",
   "execution_count": 40,
   "id": "1906aceb",
   "metadata": {},
   "outputs": [],
   "source": [
    "train_accuracy_no_noisy  = [H[i].accuracy(H[i].X_T, H[i].Y_T, H[i].D_no_noise_T) for i in range(len(H))]"
   ]
  },
  {
   "cell_type": "code",
   "execution_count": 41,
   "id": "0ad5002e",
   "metadata": {},
   "outputs": [
    {
     "data": {
      "image/png": "[encoded data removed]",
      "text/plain": [
       "<Figure size 432x288 with 1 Axes>"
      ]
     },
     "metadata": {
      "needs_background": "light"
     },
     "output_type": "display_data"
    }
   ],
   "source": [
    "plt.plot(J, train_accuracy_no_noisy, label = 'train_accuracy (no noise)', color = 'blue')\n",
    "plt.legend()\n",
    "plt.xlabel('# samples', fontsize=10)\n",
    "plt.ylabel('accuracy', fontsize=10)\n",
    "plt.title('train_accuracy (no noise) vs sample complexity'+ title_suffix, fontsize=12)\n",
    "plt.savefig(image_path + \"train_accuracy_(no_noise)_vs_sample_complexity\")\n",
    "plt.show()"
   ]
  },
  {
   "cell_type": "markdown",
   "id": "9c40138e-b555-47a9-a1e6-f09bf46b5479",
   "metadata": {},
   "source": [
    "### "
   ]
  },
  {
   "cell_type": "code",
   "execution_count": 42,
   "id": "716c0452-f16a-4209-9191-023084481479",
   "metadata": {},
   "outputs": [],
   "source": [
    "np.savetxt(csv_path + \"sample_complexity_train_accuracy_no_noisy.csv\", \n",
    "           train_accuracy_no_noisy,\n",
    "           delimiter =\", \", \n",
    "           fmt ='% s')"
   ]
  },
  {
   "cell_type": "code",
   "execution_count": 61,
   "id": "b168846c-b40b-4fd1-b38a-a75f3dda6504",
   "metadata": {},
   "outputs": [
    {
     "data": {
      "image/png": "[encoded data removed]",
      "text/plain": [
       "<Figure size 432x288 with 1 Axes>"
      ]
     },
     "metadata": {
      "needs_background": "light"
     },
     "output_type": "display_data"
    }
   ],
   "source": [
    "plt.plot(J[:], train_accuracy_noisy[:], label = 'train_accuracy (noisy)', color = 'red')\n",
    "plt.plot(J[:], train_accuracy_no_noisy[:], label = 'train_accuracy (no noise)', color = 'blue')\n",
    "plt.plot(J[:], test_accuracy_noisy[:], label = 'test_accuracy(noisy)', color = 'green')\n",
    "plt.plot(J[:], test_accuracy_no_noise[:], label = 'test_accuracy (no noise)', color = 'magenta')\n",
    "\n",
    "plt.legend()\n",
    "plt.xlabel('# samples', fontsize=10)\n",
    "plt.ylabel('Accuracy', fontsize=10)\n",
    "plt.title('Accuracy vs sample complexity (20% of noise)' + title_suffix, fontsize=12)\n",
    "plt.savefig(image_path + \"all_accuracy_vs_sample_complexity_large_d\", bbox_inches='tight')\n",
    "plt.show()"
   ]
  },
  {
   "cell_type": "code",
   "execution_count": 44,
   "id": "aeef7cc2",
   "metadata": {
    "scrolled": true
   },
   "outputs": [
    {
     "data": {
      "image/png": "[encoded data removed]",
      "text/plain": [
       "<Figure size 432x288 with 1 Axes>"
      ]
     },
     "metadata": {
      "needs_background": "light"
     },
     "output_type": "display_data"
    }
   ],
   "source": [
    "I = H[-1].epoch_history[:]\n",
    "plt.plot(I, H[-1].train_accuracy_with_noise[:], label = 'train_accuracy_with_noise', color = 'magenta')\n",
    "plt.plot(I, H[-1].train_accuracy_without_noise[:], label = 'train_accuracy_without_noise', color = 'red')\n",
    "plt.plot(I, H[-1].test_accuracy_with_noise[:], label = 'test_accuracy_with_noise', color = 'green')\n",
    "plt.plot(I, H[-1].test_accuracy_without_noise[:], label = 'test_accuracy_without_noise', color = 'blue')\n",
    "plt.legend()\n",
    "plt.xlabel('# Epoch', fontsize = 10)\n",
    "plt.ylabel('Accuracy', fontsize = 10)\n",
    "plt.title('Accuracy vs Epoch' + title_suffix, fontsize = 12)\n",
    "plt.savefig(image_path + 'all_accuracy_vs_epoch')\n",
    "plt.show()"
   ]
  },
  {
   "cell_type": "code",
   "execution_count": 45,
   "id": "bd84a163",
   "metadata": {},
   "outputs": [],
   "source": [
    "L_1_f_norm_history = [m.L_1_f_norm_history[-1] for m in H]"
   ]
  },
  {
   "cell_type": "code",
   "execution_count": 46,
   "id": "d2184834-e998-4c9d-b9b3-4fd7ac1a089c",
   "metadata": {},
   "outputs": [
    {
     "data": {
      "image/png": "[encoded data removed]",
      "text/plain": [
       "<Figure size 432x288 with 1 Axes>"
      ]
     },
     "metadata": {
      "needs_background": "light"
     },
     "output_type": "display_data"
    }
   ],
   "source": [
    "plt.plot(J, L_1_f_norm_history, label = 'L_1_f_norm_history VS number of samples', color = 'blue')\n",
    "plt.legend()\n",
    "plt.xlabel('#Samples', fontsize=10)\n",
    "plt.ylabel('distance', fontsize=10)\n",
    "plt.title('L_1_f_distance vs number of samples (logistic 40% of Noise)' + title_suffix, fontsize=12)\n",
    "plt.savefig(image_path + \"L_1_f_norm_history_vs_samples\")\n",
    "plt.show()"
   ]
  },
  {
   "cell_type": "code",
   "execution_count": 47,
   "id": "5f95f6c5",
   "metadata": {},
   "outputs": [],
   "source": [
    "model = H[-1]"
   ]
  },
  {
   "cell_type": "code",
   "execution_count": 48,
   "id": "c8d7cda3",
   "metadata": {},
   "outputs": [
    {
     "name": "stdout",
     "output_type": "stream",
     "text": [
      "0.023641735726657218\n",
      "0.13462991713216965\n"
     ]
    }
   ],
   "source": [
    "M_hat = (model.B @ model.B.T).detach().numpy()*s\n",
    "M_star = data_model.M_t\n",
    "tau_hat = model.Tau.detach().numpy()[0]*s\n",
    "tau_star = data_model.tau_t[0]\n",
    "\n",
    "print((np.abs(M_hat - M_star)).max())\n",
    "print(np.abs(tau_hat-tau_star))"
   ]
  },
  {
   "cell_type": "code",
   "execution_count": 49,
   "id": "0326596d",
   "metadata": {},
   "outputs": [],
   "source": [
    "M_hat_normal = model.B @ model.B.T / model.Tau[0]"
   ]
  },
  {
   "cell_type": "code",
   "execution_count": 50,
   "id": "4f3ae3c4",
   "metadata": {},
   "outputs": [],
   "source": [
    "M_t_normal = data_model.M_t/tau[0]"
   ]
  },
  {
   "cell_type": "code",
   "execution_count": 51,
   "id": "db21b3ad",
   "metadata": {},
   "outputs": [
    {
     "data": {
      "text/plain": [
       "0.00203584185936943"
      ]
     },
     "execution_count": 51,
     "metadata": {},
     "output_type": "execute_result"
    }
   ],
   "source": [
    "(np.abs(M_t_normal - M_hat_normal.detach().numpy())).max()"
   ]
  },
  {
   "cell_type": "code",
   "execution_count": 52,
   "id": "15da3c13",
   "metadata": {},
   "outputs": [
    {
     "data": {
      "text/plain": [
       "0.0002553323821263665"
      ]
     },
     "execution_count": 52,
     "metadata": {},
     "output_type": "execute_result"
    }
   ],
   "source": [
    "(np.abs(M_t_normal - M_hat_normal.detach().numpy())).mean()"
   ]
  },
  {
   "cell_type": "code",
   "execution_count": 53,
   "id": "5caab32e",
   "metadata": {},
   "outputs": [
    {
     "data": {
      "text/plain": [
       "0.1507176727291603"
      ]
     },
     "execution_count": 53,
     "metadata": {},
     "output_type": "execute_result"
    }
   ],
   "source": [
    "np.sqrt(np.sum((M_t_normal - M_hat_normal.detach().numpy())**2))/np.sqrt((M_t_normal**2).sum())"
   ]
  },
  {
   "cell_type": "code",
   "execution_count": 54,
   "id": "35aff2bf",
   "metadata": {},
   "outputs": [
    {
     "name": "stdout",
     "output_type": "stream",
     "text": [
      "[7.24358006]\n",
      "[11]\n",
      "1.5185861019144369 1.5\n"
     ]
    }
   ],
   "source": [
    "print(model.Tau.detach().numpy())\n",
    "print(np.array(tau))\n",
    "print(np.array(tau)[0]/model.Tau.detach().numpy()[0], s)"
   ]
  },
  {
   "cell_type": "code",
   "execution_count": 55,
   "id": "dc62203c",
   "metadata": {},
   "outputs": [
    {
     "data": {
      "text/plain": [
       "0.02264205099059176"
      ]
     },
     "execution_count": 55,
     "metadata": {},
     "output_type": "execute_result"
    }
   ],
   "source": [
    "L_1_f_norm(f, model.B.detach().numpy(), model.Tau.detach().numpy(), \n",
    "           data_model.B_t, data_model.tau_t, N = 10000)"
   ]
  },
  {
   "cell_type": "code",
   "execution_count": 56,
   "id": "e8220db7",
   "metadata": {},
   "outputs": [
    {
     "name": "stdout",
     "output_type": "stream",
     "text": [
      "0.43431384707423376\n",
      "0.43133962333242715\n",
      "0.43133962333242715\n"
     ]
    }
   ],
   "source": [
    "print(loss(X_T - Y_T, D_T, data_model.B_t/np.sqrt(s), data_model.tau_t/s, Type = model_type).item())\n",
    "print(loss(X_T - Y_T, D_T, model.B, model.Tau, Type = model_type).item())\n",
    "print(model.loss_history[-1].item())"
   ]
  },
  {
   "cell_type": "code",
   "execution_count": null,
   "id": "e5b5c77b",
   "metadata": {},
   "outputs": [],
   "source": []
  },
  {
   "cell_type": "code",
   "execution_count": 81,
   "id": "eefe915a",
   "metadata": {},
   "outputs": [
    {
     "name": "stdout",
     "output_type": "stream",
     "text": [
      "round for N = 5000 has started\n",
      "For N = 5000\n",
      " training time is 136.9570209980011,\n",
      "train_accuracy_with_noise is 0.9946,\n",
      "train_accuracy_without_noise is 0.8036,\n",
      "test_accuracy_with_noise is 0.6803,\n",
      "test_accuracy_without_noise is 0.73932.\n",
      "\n",
      "round for N = 10000 has started\n",
      "For N = 10000\n",
      " training time is 250.75917530059814,\n",
      "train_accuracy_with_noise is 0.9053,\n",
      "train_accuracy_without_noise is 0.8303,\n",
      "test_accuracy_with_noise is 0.71904,\n",
      "test_accuracy_without_noise is 0.7979.\n",
      "\n",
      "round for N = 15000 has started\n",
      "For N = 15000\n",
      " training time is 363.1544461250305,\n",
      "train_accuracy_with_noise is 0.868,\n",
      "train_accuracy_without_noise is 0.8557333333333333,\n",
      "test_accuracy_with_noise is 0.73932,\n",
      "test_accuracy_without_noise is 0.8307.\n",
      "\n",
      "round for N = 20000 has started\n",
      "For N = 20000\n",
      " training time is 476.03239274024963,\n",
      "train_accuracy_with_noise is 0.84885,\n",
      "train_accuracy_without_noise is 0.8722,\n",
      "test_accuracy_with_noise is 0.75146,\n",
      "test_accuracy_without_noise is 0.85284.\n",
      "\n",
      "round for N = 30000 has started\n",
      "For N = 30000\n",
      " training time is 699.5966308116913,\n",
      "train_accuracy_with_noise is 0.8346,\n",
      "train_accuracy_without_noise is 0.8913666666666666,\n",
      "test_accuracy_with_noise is 0.76386,\n",
      "test_accuracy_without_noise is 0.87934.\n",
      "\n"
     ]
    }
   ],
   "source": [
    "H_2 = []\n",
    "J_2 = []\n",
    "for N in [5000, 10000, 15000, 20000, 30000]:\n",
    "    X, Y, D, X_T, Y_T, D_T, D_no_noise_T, X_test, Y_test, D_test, D_no_noise_test = gen_data(f, \n",
    "                                                                                         N + 50000, \n",
    "                                                                                         n_train = N, \n",
    "                                                                                         tau = np.array(tau), \n",
    "                                                                                         noise_type = noise_type,\n",
    "                                                                                         noise_par = s,\n",
    "                                                                                         data_model = data_model)\n",
    "        \n",
    "    print('round for N = {} has started'.format(N))\n",
    "    \n",
    "    J_2.append(N)\n",
    "\n",
    "    t_1 = time.time()\n",
    "    model_2 = ML(d, k, n_labels, \n",
    "               X_T, Y_T, D_T, D_no_noise_T, \n",
    "               X_test, Y_test, D_test, \n",
    "               D_no_noise_test, Type = model_type) \n",
    "    \n",
    "    model_2.train(learning_rate = 1e-1, \n",
    "                n_iters = 10000, \n",
    "                decay = .95, \n",
    "                show_log = False,\n",
    "                f = f, \n",
    "                B_star = data_model.B_t, \n",
    "                tau_star = data_model.tau_t, \n",
    "                N = 1000)\n",
    "    H_2.append(model_2)\n",
    "    print('For N = {}\\n training time is {},'.format(N, time.time()-t_1))\n",
    "    print('train_accuracy_with_noise is {},'.format(model_2.train_accuracy_with_noise[-1]))\n",
    "    print('train_accuracy_without_noise is {},'.format(model_2.train_accuracy_without_noise[-1]))\n",
    "    print('test_accuracy_with_noise is {},'.format(model_2.test_accuracy_with_noise[-1]))\n",
    "    print('test_accuracy_without_noise is {}.\\n'.format(model_2.test_accuracy_without_noise[-1]))"
   ]
  },
  {
   "cell_type": "code",
   "execution_count": 86,
   "id": "67336a23",
   "metadata": {},
   "outputs": [],
   "source": [
    "J_new = [5000, 10000, 15000, 20000, 30000, 40000, 60000, 100000, 150000, 200000, 300000, 400000]\n",
    "model_list = H_2 + H"
   ]
  },
  {
   "cell_type": "code",
   "execution_count": 91,
   "id": "971382e5",
   "metadata": {},
   "outputs": [
    {
     "data": {
      "text/plain": [
       "12"
      ]
     },
     "execution_count": 91,
     "metadata": {},
     "output_type": "execute_result"
    }
   ],
   "source": [
    "len(J_new)"
   ]
  },
  {
   "cell_type": "code",
   "execution_count": 92,
   "id": "ecb01e60",
   "metadata": {},
   "outputs": [],
   "source": [
    "list_train_accuracy_with_noise = [model_list[i].train_accuracy_with_noise[-1] for i in range(12)]\n",
    "list_train_accuracy_without_noise = [model_list[i].train_accuracy_without_noise[-1] for i in range(12)]\n",
    "list_test_accuracy_with_noise = [model_list[i].test_accuracy_with_noise[-1] for i in range(12)]\n",
    "list_test_accuracy_without_noise = [model_list[i].test_accuracy_without_noise[-1] for i in range(12)]"
   ]
  },
  {
   "cell_type": "code",
   "execution_count": 93,
   "id": "89925b94",
   "metadata": {},
   "outputs": [
    {
     "data": {
      "image/png": "[encoded data removed]",
      "text/plain": [
       "<Figure size 720x432 with 1 Axes>"
      ]
     },
     "metadata": {
      "needs_background": "light"
     },
     "output_type": "display_data"
    }
   ],
   "source": [
    "plt.figure(figsize=(10,6))\n",
    "plt.plot(J_new[:], list_train_accuracy_with_noise[:], label = 'train_accuracy (noisy)', \n",
    "         color = 'red', linewidth = 2.5)\n",
    "plt.plot(J_new[:], list_train_accuracy_without_noise[:], label = 'train_accuracy (no noise)', \n",
    "         color = 'blue', linewidth = 2.5)\n",
    "plt.plot(J_new[:], list_test_accuracy_with_noise[:], label = 'test_accuracy(noisy)', \n",
    "         color = 'green',linewidth = 2.5)\n",
    "plt.plot(J_new[:], list_test_accuracy_without_noise[:], label = 'test_accuracy (no noise)', \n",
    "         color = 'magenta', linewidth = 2.5)\n",
    "\n",
    "plt.legend()\n",
    "plt.xlabel('# samples', fontsize=10)\n",
    "plt.ylabel('Accuracy', fontsize=10)\n",
    "plt.title('Accuracy vs sample complexity (20% of noise)' + title_suffix, fontsize=12)\n",
    "plt.savefig(image_path + \"all_accuracy_vs_sample_complexity_large_d_new\", bbox_inches='tight')\n",
    "plt.show()"
   ]
  },
  {
   "cell_type": "code",
   "execution_count": 95,
   "id": "d8026b6e",
   "metadata": {},
   "outputs": [
    {
     "data": {
      "text/plain": [
       "0.97022"
      ]
     },
     "execution_count": 95,
     "metadata": {},
     "output_type": "execute_result"
    }
   ],
   "source": [
    "list_test_accuracy_without_noise[-1]"
   ]
  },
  {
   "cell_type": "code",
   "execution_count": 96,
   "id": "0172104d",
   "metadata": {},
   "outputs": [
    {
     "data": {
      "text/plain": [
       "[0.73932,\n",
       " 0.7979,\n",
       " 0.8307,\n",
       " 0.85284,\n",
       " 0.87934,\n",
       " 0.89116,\n",
       " 0.91522,\n",
       " 0.9399,\n",
       " 0.95062,\n",
       " 0.95878,\n",
       " 0.96644,\n",
       " 0.97022]"
      ]
     },
     "execution_count": 96,
     "metadata": {},
     "output_type": "execute_result"
    }
   ],
   "source": [
    "list_test_accuracy_without_noise"
   ]
  },
  {
   "cell_type": "code",
   "execution_count": 79,
   "id": "efce0541",
   "metadata": {},
   "outputs": [
    {
     "data": {
      "text/plain": [
       "14"
      ]
     },
     "execution_count": 79,
     "metadata": {},
     "output_type": "execute_result"
    }
   ],
   "source": [
    "len(H)"
   ]
  },
  {
   "cell_type": "code",
   "execution_count": 104,
   "id": "5fb8f4fa",
   "metadata": {},
   "outputs": [
    {
     "name": "stdout",
     "output_type": "stream",
     "text": [
      "round for N = 600000 has started\n",
      "For N = 600000\n",
      " training time is 19345.86124396324,\n",
      "train_accuracy_with_noise is 0.7962533333333334,\n",
      "train_accuracy_without_noise is 0.9759066666666667,\n",
      "test_accuracy_with_noise is 0.7923,\n",
      "test_accuracy_without_noise is 0.97558.\n",
      "\n"
     ]
    }
   ],
   "source": [
    "H_3 = []\n",
    "J_3 = []\n",
    "for N in [600000]:\n",
    "    X, Y, D, X_T, Y_T, D_T, D_no_noise_T, X_test, Y_test, D_test, D_no_noise_test = gen_data(f, \n",
    "                                                                                         N + 50000, \n",
    "                                                                                         n_train = N, \n",
    "                                                                                         tau = np.array(tau), \n",
    "                                                                                         noise_type = noise_type,\n",
    "                                                                                         noise_par = s,\n",
    "                                                                                         data_model = data_model)\n",
    "        \n",
    "    print('round for N = {} has started'.format(N))\n",
    "    \n",
    "    J_3.append(N)\n",
    "\n",
    "    t_1 = time.time()\n",
    "    model_3 = ML(d, k, n_labels, \n",
    "               X_T, Y_T, D_T, D_no_noise_T, \n",
    "               X_test, Y_test, D_test, \n",
    "               D_no_noise_test, Type = model_type) \n",
    "    \n",
    "    model_3.train(learning_rate = 1e-1, \n",
    "                n_iters = 10000, \n",
    "                decay = .95, \n",
    "                show_log = False,\n",
    "                f = f, \n",
    "                B_star = data_model.B_t, \n",
    "                tau_star = data_model.tau_t, \n",
    "                N = 1000)\n",
    "    H_3.append(model_3)\n",
    "    print('For N = {}\\n training time is {},'.format(N, time.time()-t_1))\n",
    "    print('train_accuracy_with_noise is {},'.format(model_3.train_accuracy_with_noise[-1]))\n",
    "    print('train_accuracy_without_noise is {},'.format(model_3.train_accuracy_without_noise[-1]))\n",
    "    print('test_accuracy_with_noise is {},'.format(model_3.test_accuracy_with_noise[-1]))\n",
    "    print('test_accuracy_without_noise is {}.\\n'.format(model_3.test_accuracy_without_noise[-1]))"
   ]
  },
  {
   "cell_type": "code",
   "execution_count": 106,
   "id": "a34ff7c9",
   "metadata": {},
   "outputs": [],
   "source": [
    "J_F = [5000, 10000, 15000, 20000, 30000, 40000, 60000, 100000, 150000, 200000, 300000, 400000, 600000]\n",
    "model_list = H_2 + H + H_3"
   ]
  },
  {
   "cell_type": "code",
   "execution_count": 107,
   "id": "4fca3ef7",
   "metadata": {},
   "outputs": [],
   "source": [
    "list_train_accuracy_with_noise = [model_list[i].train_accuracy_with_noise[-1] for i in range(13)]\n",
    "list_train_accuracy_without_noise = [model_list[i].train_accuracy_without_noise[-1] for i in range(13)]\n",
    "list_test_accuracy_with_noise = [model_list[i].test_accuracy_with_noise[-1] for i in range(13)]\n",
    "list_test_accuracy_without_noise = [model_list[i].test_accuracy_without_noise[-1] for i in range(13)]"
   ]
  },
  {
   "cell_type": "code",
   "execution_count": 109,
   "id": "f885962f",
   "metadata": {},
   "outputs": [
    {
     "data": {
      "image/png": "[encoded data removed]",
      "text/plain": [
       "<Figure size 720x432 with 1 Axes>"
      ]
     },
     "metadata": {
      "needs_background": "light"
     },
     "output_type": "display_data"
    }
   ],
   "source": [
    "plt.figure(figsize=(10,6))\n",
    "plt.plot(J_F[:], list_train_accuracy_with_noise[:], label = 'train_accuracy (noisy)', \n",
    "         color = 'red', linewidth = 2.5)\n",
    "plt.plot(J_F[:], list_train_accuracy_without_noise[:], label = 'train_accuracy (no noise)', \n",
    "         color = 'blue', linewidth = 2.5)\n",
    "plt.plot(J_F[:], list_test_accuracy_with_noise[:], label = 'test_accuracy(noisy)', \n",
    "         color = 'green',linewidth = 2.5)\n",
    "plt.plot(J_F[:], list_test_accuracy_without_noise[:], label = 'test_accuracy (no noise)', \n",
    "         color = 'magenta', linewidth = 2.5)\n",
    "\n",
    "plt.legend()\n",
    "plt.xlabel('# samples', fontsize=10)\n",
    "plt.ylabel('Accuracy', fontsize=10)\n",
    "plt.title('Accuracy vs sample complexity (20% of noise)' + title_suffix, fontsize=12)\n",
    "plt.savefig(image_path + \"all_accuracy_vs_sample_complexity_large_d_new\", bbox_inches='tight')\n",
    "plt.show()"
   ]
  },
  {
   "cell_type": "code",
   "execution_count": null,
   "id": "00c80a67",
   "metadata": {},
   "outputs": [],
   "source": []
  }
 ],
 "metadata": {
  "kernelspec": {
   "display_name": "Python 3 (ipykernel)",
   "language": "python",
   "name": "python3"
  },
  "language_info": {
   "codemirror_mode": {
    "name": "ipython",
    "version": 3
   },
   "file_extension": ".py",
   "mimetype": "text/x-python",
   "name": "python",
   "nbconvert_exporter": "python",
   "pygments_lexer": "ipython3",
   "version": "3.9.7"
  }
 },
 "nbformat": 4,
 "nbformat_minor": 5
}
