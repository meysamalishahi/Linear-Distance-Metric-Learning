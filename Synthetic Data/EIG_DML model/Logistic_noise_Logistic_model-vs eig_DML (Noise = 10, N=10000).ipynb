{
 "cells": [
  {
   "cell_type": "code",
   "execution_count": 1,
   "id": "fd283ad6",
   "metadata": {},
   "outputs": [],
   "source": [
    "import numpy as np\n",
    "import matplotlib.pyplot as plt\n",
    "import math\n",
    "import torch\n",
    "import torch.nn as nn\n",
    "import torch.nn.functional as F\n",
    "import torch.optim as optim\n",
    "import torchvision\n",
    "from torch.distributions import Normal as norm\n",
    "from termcolor import colored\n",
    "from sklearn.decomposition import PCA\n",
    "from scipy import linalg as LA\n",
    "from scipy.stats import multivariate_normal\n",
    "from scipy.stats import norm\n",
    "from scipy.stats import multinomial\n",
    "from scipy.stats import logistic\n",
    "from scipy.stats import expon, uniform, laplace\n",
    "from Main_functions import *\n",
    "\n",
    "from My_DML import *\n",
    "import random\n",
    "from numpy import genfromtxt\n",
    "import time"
   ]
  },
  {
   "cell_type": "code",
   "execution_count": 2,
   "id": "40031a15",
   "metadata": {},
   "outputs": [],
   "source": [
    "import dml\n",
    "from dml.dml_eig import DML_eig\n",
    "\n",
    "from __future__ import print_function, absolute_import\n",
    "import numpy as np\n",
    "\n",
    "from six.moves import xrange\n",
    "from sklearn.utils.validation import check_X_y\n",
    "\n",
    "from numpy.linalg import inv, eigh\n",
    "import scipy.linalg as sl\n",
    "\n",
    "from dml.dml_algorithm import DML_Algorithm\n",
    "from dml.dml_utils import calc_outers, calc_outers_i"
   ]
  },
  {
   "cell_type": "code",
   "execution_count": 3,
   "id": "1d6b1400",
   "metadata": {},
   "outputs": [],
   "source": [
    "def mean_dist(X, Y, M):\n",
    "    n = X.shape[0]\n",
    "    S = 0\n",
    "    for i in range(n):\n",
    "        x, y = X[i], Y[i]\n",
    "        dis_x_y_M = (x-y) @ M @ (x-y)\n",
    "        S += dis_x_y_M\n",
    "    return S/n\n",
    "\n",
    "\n",
    "def pred_M(X, Y, M, t):\n",
    "    n = X.shape[0]\n",
    "    Pred = np.zeros(n, dtype = int)\n",
    "    for i in range(n):\n",
    "        x, y = X[i], Y[i]\n",
    "        dis_x_y_M = (x-y) @ M @ (x-y)\n",
    "        if dis_x_y_M >= t:\n",
    "            Pred[i] = 1\n",
    "        else: Pred[i] = 0\n",
    "    return Pred\n",
    "\n",
    "def acc(X, Y, D, M, t):\n",
    "    P = pred_M(X, Y, M, t)\n",
    "    return (P == D).sum()/X.shape[0]\n",
    "\n",
    "def best_tau(X, Y, D, M):\n",
    "    u = 2 * mean_dist(X, Y, M)\n",
    "    mesh = np.linspace(start = 0, stop = u, num=100)\n",
    "    best_acc = 0\n",
    "    best_t = 0\n",
    "    for t in mesh:\n",
    "        acc_ = acc(X, Y, D, M, t = t)\n",
    "        if acc_ > best_acc:\n",
    "            best_acc = acc_\n",
    "            best_t = t\n",
    "    return best_t, best_acc "
   ]
  },
  {
   "cell_type": "markdown",
   "id": "5322d4e9",
   "metadata": {},
   "source": [
    "### Setting the data distribuation \n",
    "\n",
    "Pairs $(x_i,y_i)\\in \\mathbb{R}^d\\times \\mathbb{R}^d$ for $i=1, \\ldots, N$ are generated i.i.d. from density distribuation $f(\\cdot)\\times f(\\cdot)$.  \n",
    "\n",
    "Parameters:\n",
    "\n",
    "$d:$ dimention of data points\n",
    "\n",
    "$N:$ number of pairs\n",
    "\n",
    "$f(\\cdot):$ density distribuation\n"
   ]
  },
  {
   "cell_type": "markdown",
   "id": "39240958",
   "metadata": {},
   "source": [
    "### Given the eigenvalues of ground truth $M_t$, we randomly generate it."
   ]
  },
  {
   "cell_type": "code",
   "execution_count": 4,
   "id": "b0b9f085",
   "metadata": {},
   "outputs": [],
   "source": [
    "csv_path = 'CSVs/logistic_Eig_DML_'\n",
    "image_path = 'Images/logistic_Eig_DML_'\n",
    "title_suffix = '\\n (Logistic Noise Eig_DML)'\n",
    "noise_type = 'Logistic'\n",
    "model_type = 'Logistic'"
   ]
  },
  {
   "cell_type": "code",
   "execution_count": 5,
   "id": "48c08599",
   "metadata": {},
   "outputs": [],
   "source": [
    "d = 10\n",
    "rank = 5\n",
    "seed = 2023"
   ]
  },
  {
   "cell_type": "code",
   "execution_count": 6,
   "id": "58397b68",
   "metadata": {},
   "outputs": [],
   "source": [
    "np.random.seed(seed)\n",
    "non_zero_eigens_of_M_star = np.round(np.random.uniform(low=0.0, high=1.0, size= rank), 2)"
   ]
  },
  {
   "cell_type": "code",
   "execution_count": 7,
   "id": "42909a2d",
   "metadata": {},
   "outputs": [
    {
     "data": {
      "text/plain": [
       "array([0.32, 0.89, 0.59, 0.13, 0.14])"
      ]
     },
     "execution_count": 7,
     "metadata": {},
     "output_type": "execute_result"
    }
   ],
   "source": [
    "#random.seed(seed)\n",
    "# non_zero_eigens_of_M_star = random.choices(np.arange(1, 31), k = rank)\n",
    "# random.uniform()\n",
    "non_zero_eigens_of_M_star"
   ]
  },
  {
   "cell_type": "code",
   "execution_count": 8,
   "id": "0fbc4ae8",
   "metadata": {},
   "outputs": [
    {
     "data": {
      "text/plain": [
       "array([0.32, 0.89, 0.59, 0.13, 0.14, 0.  , 0.  , 0.  , 0.  , 0.  ])"
      ]
     },
     "execution_count": 8,
     "metadata": {},
     "output_type": "execute_result"
    }
   ],
   "source": [
    "diag = np.zeros(d)\n",
    "diag[:rank] = non_zero_eigens_of_M_star\n",
    "diag"
   ]
  },
  {
   "cell_type": "code",
   "execution_count": 9,
   "id": "23087886",
   "metadata": {},
   "outputs": [
    {
     "name": "stdout",
     "output_type": "stream",
     "text": [
      "Ground truth M_t and B_t are generated (M_t = B_t @ B_t.T)\n",
      "To access to M_t and B_t, use .M_t and .B_t\n"
     ]
    }
   ],
   "source": [
    "data_model = DG(diag, seed = 22)"
   ]
  },
  {
   "cell_type": "code",
   "execution_count": 10,
   "id": "0ff3f776",
   "metadata": {},
   "outputs": [
    {
     "data": {
      "text/plain": [
       "array([0.32, 0.89, 0.59, 0.13, 0.14, 0.  , 0.  , 0.  , 0.  , 0.  ])"
      ]
     },
     "execution_count": 10,
     "metadata": {},
     "output_type": "execute_result"
    }
   ],
   "source": [
    "data_model.M_diag"
   ]
  },
  {
   "cell_type": "code",
   "execution_count": 11,
   "id": "74d3f36d",
   "metadata": {},
   "outputs": [
    {
     "data": {
      "text/plain": [
       "((10, 10), (10, 10))"
      ]
     },
     "execution_count": 11,
     "metadata": {},
     "output_type": "execute_result"
    }
   ],
   "source": [
    "data_model.M_t.shape, data_model.B_t.shape"
   ]
  },
  {
   "cell_type": "markdown",
   "id": "5488a2f7",
   "metadata": {},
   "source": [
    "### Given the eigenvalue of covariance matrix Cov, we randomly generate it."
   ]
  },
  {
   "cell_type": "code",
   "execution_count": 12,
   "id": "60e25a0f",
   "metadata": {},
   "outputs": [],
   "source": [
    "np.random.seed(2024)\n",
    "diag_cov = np.round(np.random.uniform(low=0.0, high=1.0, size= d), 2)"
   ]
  },
  {
   "cell_type": "code",
   "execution_count": 13,
   "id": "931ccc10",
   "metadata": {},
   "outputs": [
    {
     "name": "stdout",
     "output_type": "stream",
     "text": [
      "[0.59 0.7  0.19 0.04 0.21 0.11 0.73 0.68 0.47 0.45]\n"
     ]
    }
   ],
   "source": [
    "print(diag_cov)"
   ]
  },
  {
   "cell_type": "code",
   "execution_count": 14,
   "id": "dcb4b6a2",
   "metadata": {},
   "outputs": [],
   "source": [
    "# diag_cov.sort()"
   ]
  },
  {
   "cell_type": "code",
   "execution_count": 15,
   "id": "b8c33ef7",
   "metadata": {},
   "outputs": [
    {
     "name": "stdout",
     "output_type": "stream",
     "text": [
      "[0.59 0.7  0.19 0.04 0.21 0.11 0.73 0.68 0.47 0.45]\n"
     ]
    }
   ],
   "source": [
    "print(diag_cov)"
   ]
  },
  {
   "cell_type": "code",
   "execution_count": 16,
   "id": "911a6515",
   "metadata": {},
   "outputs": [
    {
     "data": {
      "text/plain": [
       "4.17"
      ]
     },
     "execution_count": 16,
     "metadata": {},
     "output_type": "execute_result"
    }
   ],
   "source": [
    "diag_cov.sum()"
   ]
  },
  {
   "cell_type": "code",
   "execution_count": 17,
   "id": "53605447",
   "metadata": {},
   "outputs": [],
   "source": [
    "Sigma, U_sigma = random_covariance(diag_cov, seed = 21)"
   ]
  },
  {
   "cell_type": "code",
   "execution_count": 18,
   "id": "591cfc04",
   "metadata": {},
   "outputs": [],
   "source": [
    "f = multivariate_normal(mean = np.zeros(d), cov = Sigma)"
   ]
  },
  {
   "cell_type": "markdown",
   "id": "5f1e38c8",
   "metadata": {},
   "source": [
    "### What is the average of squared norm of points generating where $x\\sim f(x)$ with $\\mathbb{E}(x) = \\mu$ and ${\\rm Cov}(x) = \\Sigma$\n",
    "\n",
    "If $x\\sim f(x)$ where $\\mathbb{E}(x) = \\mu$ and ${\\rm Cov}(x) = \\Sigma$, then \n",
    "\\begin{align}\n",
    "\\mathbb{E}\\left(x^\\top Mx\\right) & = \\mathbb{E}\\left({\\rm tr}(x^\\top Mx)\\right)\\\\\n",
    " & = \\mathbb{E}\\left({\\rm tr}(xx^\\top M)\\right)\\\\\n",
    " & = {\\rm tr}\\left(\\mathbb{E}\\left(xx^\\top\\right)M\\right)\\\\\n",
    " & = {\\rm tr}\\left(\\left[{\\rm Cov}(x) - \\mathbb{E}(x)\\mathbb{E}(x)^\\top\\right]M\\right)\n",
    "\\end{align}\n",
    "\n",
    "If we set  $\\mu = \\mathbf{0}$, then \n",
    "$$\\mathbb{E}\\left(x^\\top Mx\\right) = {\\rm tr}\\left(\\Sigma M\\right).$$\n",
    "Therefore, since $x$ and $y$ are independent, \n",
    "$$\\mathbb{E}\\left(\\|x-y\\|_M^2\\right) = 2{\\rm tr}\\left(\\Sigma M\\right).$$"
   ]
  },
  {
   "cell_type": "markdown",
   "id": "5bf11d41",
   "metadata": {},
   "source": [
    "$$\\mathbb{E}\\left((x-y)^\\top (x-y)\\right) = \\mathbb{E}\\left(x^\\top x + y^\\top y - x^\\top y - y^\\top x\\right) = 2{\\rm Cov}(x)$$"
   ]
  },
  {
   "cell_type": "code",
   "execution_count": 19,
   "id": "98d5aab8",
   "metadata": {},
   "outputs": [
    {
     "name": "stdout",
     "output_type": "stream",
     "text": [
      "squared norm mean = 1.6983720913430767\n"
     ]
    }
   ],
   "source": [
    "snm = 2 * np.trace(data_model.M_t @ Sigma)\n",
    "print(\"squared norm mean = {}\".format(snm))"
   ]
  },
  {
   "cell_type": "markdown",
   "id": "7cc2ae3e",
   "metadata": {},
   "source": [
    "### Check the average empirically"
   ]
  },
  {
   "cell_type": "code",
   "execution_count": 20,
   "id": "0ae0f999",
   "metadata": {},
   "outputs": [
    {
     "name": "stdout",
     "output_type": "stream",
     "text": [
      "emperical squared norm mean = 1.7357384841106784\n"
     ]
    }
   ],
   "source": [
    "N = 10000\n",
    "X_1, Y_1 = sample(f, N)\n",
    "sn = (((X_1 - Y_1) @ data_model.B_t)**2).sum()/N\n",
    "print(\"emperical squared norm mean = {}\".format(sn))"
   ]
  },
  {
   "cell_type": "markdown",
   "id": "c128a3e9",
   "metadata": {},
   "source": [
    "### Set $\\tau$ to generate data points (binary case!)"
   ]
  },
  {
   "cell_type": "code",
   "execution_count": 21,
   "id": "873f693c",
   "metadata": {},
   "outputs": [],
   "source": [
    "tau = [1.3]\n",
    "N = 15000\n",
    "s = .2"
   ]
  },
  {
   "cell_type": "code",
   "execution_count": 22,
   "id": "31307a90",
   "metadata": {},
   "outputs": [],
   "source": [
    "X, Y, D_noisy, D_no_noisy = data_model.generate(f, N, tau = np.array(tau), \n",
    "                                                noise_type = noise_type, noise_par = s)"
   ]
  },
  {
   "cell_type": "code",
   "execution_count": 23,
   "id": "b8eecbc6",
   "metadata": {},
   "outputs": [
    {
     "name": "stdout",
     "output_type": "stream",
     "text": [
      "the amount of noise: 0.10026666666666667\n"
     ]
    }
   ],
   "source": [
    "noise_amount = (D_noisy != D_no_noisy).mean()\n",
    "print('the amount of noise: {}'.format(noise_amount))"
   ]
  },
  {
   "cell_type": "code",
   "execution_count": 24,
   "id": "133ec772",
   "metadata": {},
   "outputs": [
    {
     "name": "stdout",
     "output_type": "stream",
     "text": [
      "number of pairs with 0 as their labels is 7586\n",
      "number of pairs with 1 as their labels is 7414\n"
     ]
    }
   ],
   "source": [
    "for i in range(len(tau)+1):\n",
    "    print('number of pairs with {} as their labels is {}'.format(i, (D_no_noisy==i).sum()))"
   ]
  },
  {
   "cell_type": "code",
   "execution_count": 25,
   "id": "956bd956",
   "metadata": {},
   "outputs": [
    {
     "data": {
      "text/plain": [
       "0.5057333333333334"
      ]
     },
     "execution_count": 25,
     "metadata": {},
     "output_type": "execute_result"
    }
   ],
   "source": [
    "(D_no_noisy== 0).sum()/N"
   ]
  },
  {
   "cell_type": "code",
   "execution_count": 26,
   "id": "14a768ea",
   "metadata": {},
   "outputs": [
    {
     "data": {
      "text/plain": [
       "0.49293333333333333"
      ]
     },
     "execution_count": 26,
     "metadata": {},
     "output_type": "execute_result"
    }
   ],
   "source": [
    "(D_noisy== 0).sum()/N"
   ]
  },
  {
   "cell_type": "code",
   "execution_count": 27,
   "id": "aebf8d7c",
   "metadata": {},
   "outputs": [],
   "source": [
    "def gen_S_D_and_X(X, Y, L):\n",
    "    S = []\n",
    "    D = []\n",
    "    n, d = X.shape\n",
    "    X_out = np.zeros((2*n, d))\n",
    "    X_out[:n,:] = X\n",
    "    X_out[n:,:] = Y\n",
    "    for i in range(n):\n",
    "        if L[i] == 1:\n",
    "            D.append([i, n+i])\n",
    "        else:\n",
    "            S.append([i, n+i])\n",
    "    return X_out, S, D"
   ]
  },
  {
   "cell_type": "code",
   "execution_count": 28,
   "id": "0db9ff17",
   "metadata": {},
   "outputs": [],
   "source": [
    "X_eig, Y_eig, D_noisy_eig, D_no_noisy_eig = X.copy(), Y.copy(), D_noisy.copy(), D_no_noisy.copy()\n",
    "X_eig_test = X_eig[10000: 15000]\n",
    "Y_eig_test = Y_eig[10000: 15000]\n",
    "D_noisy_eig_test = D_noisy_eig[10000: 15000]\n",
    "D_no_noisy_eig_test = D_no_noisy_eig[10000: 15000]"
   ]
  },
  {
   "cell_type": "code",
   "execution_count": null,
   "id": "dc7afada",
   "metadata": {},
   "outputs": [],
   "source": []
  },
  {
   "cell_type": "code",
   "execution_count": 29,
   "id": "03441f52",
   "metadata": {},
   "outputs": [],
   "source": [
    "k = 10\n",
    "n_labels = len(tau) + 1"
   ]
  },
  {
   "cell_type": "code",
   "execution_count": 30,
   "id": "fab0167e",
   "metadata": {},
   "outputs": [],
   "source": [
    "X_torch = torch.tensor(X, dtype = torch.float64)\n",
    "Y_torch = torch.tensor(Y, dtype = torch.float64)\n",
    "D_noisy_torch = torch.tensor(D_noisy, dtype = torch.torch.int64)\n",
    "D_no_noisy_torch = torch.tensor(D_no_noisy, dtype = torch.torch.int64)"
   ]
  },
  {
   "cell_type": "code",
   "execution_count": 31,
   "id": "78b1c575",
   "metadata": {},
   "outputs": [],
   "source": [
    "X_test = X_torch[10000: 15000]\n",
    "Y_test = Y_torch[10000: 15000]\n",
    "D_noisy_test = D_noisy_torch[10000: 15000]\n",
    "D_no_noisy_test = D_no_noisy_torch[10000: 15000]"
   ]
  },
  {
   "cell_type": "markdown",
   "id": "9d65c10e",
   "metadata": {},
   "source": [
    "### Our model"
   ]
  },
  {
   "cell_type": "code",
   "execution_count": 36,
   "id": "42562d04",
   "metadata": {},
   "outputs": [
    {
     "name": "stdout",
     "output_type": "stream",
     "text": [
      " run time = 17.223711013793945\n",
      " train_acc_noisy = 0.8997\n",
      " train_no_noisy_acc = 0.985\n",
      "\n",
      " test_acc_noisy = 0.9058\n",
      " test_no_noisy_acc = 0.988\n",
      "\n"
     ]
    }
   ],
   "source": [
    "N = 10000\n",
    "X_train = X_torch[:N]\n",
    "Y_train = Y_torch[:N]\n",
    "D_noisy_train = D_noisy_torch[:N]\n",
    "D_no_noisy_train = D_no_noisy_torch[:N]\n",
    "t = time.time()\n",
    "model = ML(d, k, n_labels, \n",
    "           X_train, Y_train, D_noisy_train, D_no_noisy_train, \n",
    "           X_test, Y_test, D_noisy_test, D_no_noisy_test, \n",
    "           Type = model_type)\n",
    "model.train(learning_rate = 3.5e-1, \n",
    "            n_iters = 5001, \n",
    "            decay = .95,\n",
    "            f = f, \n",
    "            B_star = data_model.B_t, \n",
    "            tau_star = data_model.tau_t, \n",
    "            N = 1000,\n",
    "           show_log = False)\n",
    "t_1 = time.time() - t\n",
    "print(' run time = {}\\n train_acc_noisy = {}\\n train_no_noisy_acc = {}\\n'.format(t_1, \n",
    "                                                                                model.train_accuracy_with_noise[-1],\n",
    "                                                                                model.train_accuracy_without_noise[-1])) \n",
    "\n",
    "print(' test_acc_noisy = {}\\n test_no_noisy_acc = {}\\n'.format(model.test_accuracy_with_noise[-1],\n",
    "                                                               model.test_accuracy_without_noise[-1])) "
   ]
  },
  {
   "cell_type": "markdown",
   "id": "6d29adae",
   "metadata": {},
   "source": [
    "### eig_DML model"
   ]
  },
  {
   "cell_type": "code",
   "execution_count": 35,
   "id": "934ed184",
   "metadata": {},
   "outputs": [
    {
     "name": "stdout",
     "output_type": "stream",
     "text": [
      " run time = 13551.12533712387\n",
      " best_train_acc_noisy = 0.8569\n",
      " train_acc_no_noisy = 0.897\n",
      "\n",
      " test_noisy_acc = 0.8574\n",
      " test_no_noisy_acc = 0.8932\n",
      "\n"
     ]
    }
   ],
   "source": [
    "N = 10000   \n",
    "max_it = 25\n",
    "print('max_it = ', max_it)\n",
    "X_eig_train = X_eig[:N]\n",
    "Y_eig_train = Y_eig[:N]\n",
    "D_noisy_eig_train = D_noisy_eig[:N]\n",
    "D_no_noisy_eig_train = D_no_noisy_eig[:N]\n",
    "t = time.time()\n",
    "X_dml, S, D = gen_S_D_and_X(X_eig_train, Y_eig_train, D_noisy_eig_train)\n",
    "#     mu = 5e-4\n",
    "\n",
    "model = My_DML_eig(mu = 1e-4, tol = 1e-5, eps = 1e-10, max_it = max_it)\n",
    "\n",
    "model.fit(X_dml, S, D)\n",
    "t_1 = time.time() - t\n",
    "\n",
    "t_best, best_noisy_train_acc = best_tau(X_eig_train, Y_eig_train, D_noisy_eig_train, \n",
    "                                        model.metric())\n",
    "\n",
    "\n",
    "train_no_noisy_acc = acc(X_eig_train, Y_eig_train, D_no_noisy_eig_train, \n",
    "                        model.metric(), t = t_best)\n",
    "\n",
    "\n",
    "\n",
    "\n",
    "test_noisy_acc = acc(X_eig_test, Y_eig_test, D_noisy_eig_test, \n",
    "                        model.metric(), t = t_best)\n",
    "\n",
    "\n",
    "\n",
    "test_no_noisy_acc = acc(X_eig_test, Y_eig_test, D_no_noisy_eig_test, \n",
    "                        model.metric(), t = t_best)\n",
    "\n",
    "print(' run time = {}\\n best_train_acc_noisy = {}\\n train_acc_no_noisy = {}\\n'.format(t_1,\n",
    "                                                                                      best_noisy_train_acc,\n",
    "                                                                                      train_no_noisy_acc))  \n",
    "\n",
    "print(' test_noisy_acc = {}\\n test_no_noisy_acc = {}\\n'.format(test_noisy_acc,\n",
    "                                                               test_no_noisy_acc))  "
   ]
  },
  {
   "cell_type": "code",
   "execution_count": null,
   "id": "414f41e9",
   "metadata": {},
   "outputs": [],
   "source": []
  }
 ],
 "metadata": {
  "kernelspec": {
   "display_name": "Python 3 (ipykernel)",
   "language": "python",
   "name": "python3"
  },
  "language_info": {
   "codemirror_mode": {
    "name": "ipython",
    "version": 3
   },
   "file_extension": ".py",
   "mimetype": "text/x-python",
   "name": "python",
   "nbconvert_exporter": "python",
   "pygments_lexer": "ipython3",
   "version": "3.9.7"
  }
 },
 "nbformat": 4,
 "nbformat_minor": 5
}
