{
 "cells": [
  {
   "cell_type": "code",
   "execution_count": 1,
   "id": "d6c6515b",
   "metadata": {},
   "outputs": [],
   "source": [
    "import numpy as np\n",
    "import matplotlib.pyplot as plt\n",
    "from numpy import genfromtxt\n",
    "import random\n",
    "import math\n",
    "import torch\n",
    "import torch.nn as nn\n",
    "import torch.nn.functional as F\n",
    "import torch.optim as optim\n",
    "import torchvision\n",
    "from torch.distributions import Normal as norm\n",
    "from termcolor import colored\n",
    "from sklearn.decomposition import PCA\n",
    "from scipy import linalg as LA\n",
    "from scipy.stats import multivariate_normal\n",
    "from scipy.stats import norm\n",
    "from scipy.stats import multinomial\n",
    "from scipy.stats import logistic\n",
    "from Auxiliary_functions import *\n",
    "from Main_functions import *\n",
    "from PCAfold import preprocess\n",
    "from sklearn.decomposition import PCA"
   ]
  },
  {
   "cell_type": "code",
   "execution_count": 2,
   "id": "8b22514b",
   "metadata": {},
   "outputs": [],
   "source": [
    "type_of_pre_process = 'center_scaling'"
   ]
  },
  {
   "cell_type": "code",
   "execution_count": 3,
   "id": "52eb0556",
   "metadata": {},
   "outputs": [],
   "source": [
    "path_for_projected_data = 'hydrogen-combustion-3D-autoencoder-projection-of-state-space.csv'\n",
    "path_for_actual_data = 'RawData/hydrogen-combustion-state-space.csv'\n",
    "M_path = 'Matrices/hydrogen-combustion-3D-autoencoder-basis.csv'"
   ]
  },
  {
   "cell_type": "code",
   "execution_count": 4,
   "id": "102dda1c",
   "metadata": {},
   "outputs": [],
   "source": [
    "# path_for_projected_data = 'syngas-combustion-3D-autoencoder-projection-of-state-space.csv'\n",
    "# path_for_actual_data = 'RawData/syngas-combustion-state-space.csv'\n",
    "# M_path = 'Matrices/syngas-combustion-3D-autoencoder-basis.csv'"
   ]
  },
  {
   "cell_type": "code",
   "execution_count": 5,
   "id": "15180a77",
   "metadata": {},
   "outputs": [
    {
     "data": {
      "text/plain": [
       "(9, 3)"
      ]
     },
     "execution_count": 5,
     "metadata": {},
     "output_type": "execute_result"
    }
   ],
   "source": [
    "M_true = genfromtxt(M_path, delimiter = ',')\n",
    "M_true.shape"
   ]
  },
  {
   "cell_type": "code",
   "execution_count": 6,
   "id": "c4f8a1bb",
   "metadata": {},
   "outputs": [],
   "source": [
    "d = M_true.shape[0]"
   ]
  },
  {
   "cell_type": "code",
   "execution_count": 7,
   "id": "2bb04ff4",
   "metadata": {},
   "outputs": [
    {
     "data": {
      "text/plain": [
       "(30000, 9)"
      ]
     },
     "execution_count": 7,
     "metadata": {},
     "output_type": "execute_result"
    }
   ],
   "source": [
    "X_raw = genfromtxt(path_for_actual_data, delimiter = ',')\n",
    "X_raw.shape"
   ]
  },
  {
   "cell_type": "code",
   "execution_count": 8,
   "id": "937e04d0",
   "metadata": {},
   "outputs": [],
   "source": [
    "X_projected = genfromtxt(path_for_projected_data, delimiter = ',')"
   ]
  },
  {
   "cell_type": "code",
   "execution_count": 9,
   "id": "769cf706",
   "metadata": {},
   "outputs": [],
   "source": [
    "n_labels = 2\n",
    "n, d = X_raw.shape\n",
    "n_trn = 10000\n",
    "tau_true = 0.18\n",
    "n_trn = 10000\n",
    "n_runs = 20"
   ]
  },
  {
   "cell_type": "markdown",
   "id": "aa13fa93",
   "metadata": {},
   "source": [
    "## 1. Working directly with the raw data"
   ]
  },
  {
   "cell_type": "markdown",
   "id": "5b7101ae",
   "metadata": {},
   "source": [
    "### Train the model"
   ]
  },
  {
   "cell_type": "code",
   "execution_count": 10,
   "id": "8632d7b9",
   "metadata": {},
   "outputs": [
    {
     "name": "stdout",
     "output_type": "stream",
     "text": [
      "trial number 0 begins.\n",
      "Average squared distance is 0.3415671549142704\n",
      "Far labeled pairs 50.7%\n",
      "trial number 1 begins.\n",
      "Average squared distance is 0.34635898148610783\n",
      "Far labeled pairs 50.78%\n",
      "trial number 2 begins.\n",
      "Average squared distance is 0.3401472173524321\n",
      "Far labeled pairs 49.806666666666665%\n",
      "trial number 3 begins.\n",
      "Average squared distance is 0.34194498210243945\n",
      "Far labeled pairs 50.593333333333334%\n",
      "trial number 4 begins.\n",
      "Average squared distance is 0.3422395284528314\n",
      "Far labeled pairs 50.32666666666667%\n",
      "trial number 5 begins.\n",
      "Average squared distance is 0.3443236081082643\n",
      "Far labeled pairs 50.92%\n",
      "trial number 6 begins.\n",
      "Average squared distance is 0.3403983953899765\n",
      "Far labeled pairs 50.42666666666667%\n",
      "trial number 7 begins.\n",
      "Average squared distance is 0.34231677250547754\n",
      "Far labeled pairs 50.36666666666667%\n",
      "trial number 8 begins.\n",
      "Average squared distance is 0.3436305906887292\n",
      "Far labeled pairs 50.85333333333333%\n",
      "trial number 9 begins.\n",
      "Average squared distance is 0.3423569660592719\n",
      "Far labeled pairs 50.76%\n",
      "trial number 10 begins.\n",
      "Average squared distance is 0.3425767401219186\n",
      "Far labeled pairs 50.8%\n",
      "trial number 11 begins.\n",
      "Average squared distance is 0.34225075861513443\n",
      "Far labeled pairs 50.36666666666667%\n",
      "trial number 12 begins.\n",
      "Average squared distance is 0.34396863886976203\n",
      "Far labeled pairs 51.22666666666667%\n",
      "trial number 13 begins.\n",
      "Average squared distance is 0.3401919429889613\n",
      "Far labeled pairs 50.04666666666667%\n",
      "trial number 14 begins.\n",
      "Average squared distance is 0.340259421203278\n",
      "Far labeled pairs 50.32%\n",
      "trial number 15 begins.\n",
      "Average squared distance is 0.34295565749022316\n",
      "Far labeled pairs 50.64%\n",
      "trial number 16 begins.\n",
      "Average squared distance is 0.3432687184981974\n",
      "Far labeled pairs 50.766666666666666%\n",
      "trial number 17 begins.\n",
      "Average squared distance is 0.3416569414284505\n",
      "Far labeled pairs 50.18%\n",
      "trial number 18 begins.\n",
      "Average squared distance is 0.34458738290667545\n",
      "Far labeled pairs 50.92666666666667%\n",
      "trial number 19 begins.\n",
      "Average squared distance is 0.34366330694182956\n",
      "Far labeled pairs 50.68%\n"
     ]
    }
   ],
   "source": [
    "Model_list_1 = Multi_run(n_runs = n_runs, d = d, k = d, \n",
    "                         X = X_raw, X_projected = X_projected, \n",
    "                         n_trn = n_trn, tau_true = tau_true,\n",
    "                        n_iters = 10001)"
   ]
  },
  {
   "cell_type": "code",
   "execution_count": 11,
   "id": "c1d4b0b3",
   "metadata": {},
   "outputs": [],
   "source": [
    "train_accuracy_list, test_accuracy_lis, r_s_norm_k_list, r_f_norm_k_list = create_report(Model_list_1,\n",
    "                                                                                        n_runs = n_runs,\n",
    "                                                                                        tau_true = tau_true,\n",
    "                                                                                        M_true = M_true,\n",
    "                                                                                        k = None)"
   ]
  },
  {
   "cell_type": "code",
   "execution_count": 12,
   "id": "20229886",
   "metadata": {},
   "outputs": [
    {
     "name": "stdout",
     "output_type": "stream",
     "text": [
      "Mean train accuracy (20 trials) is 0.506\n",
      "Mean test accuracy (20 trials) is 0.5052700000000001\n",
      "Mean Realative Spectral Norm (20 trials) is 2.8755485931259598e+22\n",
      "Mean Realative Frobenius Norm (20 trials) is 2.723464250162629e+22\n"
     ]
    }
   ],
   "source": [
    "print('Mean train accuracy ({} trials) is {}'.format(n_runs, np.mean(train_accuracy_list)))\n",
    "print('Mean test accuracy ({} trials) is {}'.format(n_runs, np.mean(test_accuracy_lis)))\n",
    "print('Mean Realative Spectral Norm ({} trials) is {}'.format(n_runs, np.mean(r_s_norm_k_list)))\n",
    "print('Mean Realative Frobenius Norm ({} trials) is {}'.format(n_runs, np.mean(r_f_norm_k_list)))"
   ]
  },
  {
   "cell_type": "markdown",
   "id": "601d0fb3",
   "metadata": {},
   "source": [
    "# 2. Working with normalized data"
   ]
  },
  {
   "cell_type": "code",
   "execution_count": 13,
   "id": "2c8bcfbc",
   "metadata": {},
   "outputs": [
    {
     "data": {
      "text/plain": [
       "(30000, 9)"
      ]
     },
     "execution_count": 13,
     "metadata": {},
     "output_type": "execute_result"
    }
   ],
   "source": [
    "(X_processed, centers, scales) = preprocess.center_scale(X_raw, scaling='0to1')\n",
    "X_processed.shape"
   ]
  },
  {
   "cell_type": "code",
   "execution_count": 14,
   "id": "14f5c11a",
   "metadata": {},
   "outputs": [
    {
     "name": "stdout",
     "output_type": "stream",
     "text": [
      "trial number 0 begins.\n",
      "Average squared distance is 0.34181577114791206\n",
      "Far labeled pairs 50.54666666666667%\n",
      "trial number 1 begins.\n",
      "Average squared distance is 0.34313320572865863\n",
      "Far labeled pairs 49.88%\n",
      "trial number 2 begins.\n",
      "Average squared distance is 0.3416280441187976\n",
      "Far labeled pairs 50.086666666666666%\n",
      "trial number 3 begins.\n",
      "Average squared distance is 0.34171470322816205\n",
      "Far labeled pairs 50.333333333333336%\n",
      "trial number 4 begins.\n",
      "Average squared distance is 0.3450845063775451\n",
      "Far labeled pairs 50.77333333333333%\n",
      "trial number 5 begins.\n",
      "Average squared distance is 0.34024117032926865\n",
      "Far labeled pairs 50.92666666666667%\n",
      "trial number 6 begins.\n",
      "Average squared distance is 0.34192208699622995\n",
      "Far labeled pairs 50.54%\n",
      "trial number 7 begins.\n",
      "Average squared distance is 0.3430994792053487\n",
      "Far labeled pairs 50.58%\n",
      "trial number 8 begins.\n",
      "Average squared distance is 0.3414259851313652\n",
      "Far labeled pairs 50.61333333333334%\n",
      "trial number 9 begins.\n",
      "Average squared distance is 0.33847978494306674\n",
      "Far labeled pairs 50.13333333333333%\n",
      "trial number 10 begins.\n",
      "Average squared distance is 0.3382451125685508\n",
      "Far labeled pairs 50.193333333333335%\n",
      "trial number 11 begins.\n",
      "Average squared distance is 0.341991873179685\n",
      "Far labeled pairs 50.38%\n",
      "trial number 12 begins.\n",
      "Average squared distance is 0.343718904609495\n",
      "Far labeled pairs 50.586666666666666%\n",
      "trial number 13 begins.\n",
      "Average squared distance is 0.33725112615017616\n",
      "Far labeled pairs 49.84%\n",
      "trial number 14 begins.\n",
      "Average squared distance is 0.3417513995604524\n",
      "Far labeled pairs 50.82%\n",
      "trial number 15 begins.\n",
      "Average squared distance is 0.3401755103759305\n",
      "Far labeled pairs 50.373333333333335%\n",
      "trial number 16 begins.\n",
      "Average squared distance is 0.34255435114889254\n",
      "Far labeled pairs 50.36666666666667%\n",
      "trial number 17 begins.\n",
      "Average squared distance is 0.340362249138343\n",
      "Far labeled pairs 50.18%\n",
      "trial number 18 begins.\n",
      "Average squared distance is 0.3402339755791297\n",
      "Far labeled pairs 50.24666666666667%\n",
      "trial number 19 begins.\n",
      "Average squared distance is 0.3424413148600184\n",
      "Far labeled pairs 50.666666666666664%\n"
     ]
    }
   ],
   "source": [
    "Model_list_2 = Multi_run(n_runs = n_runs, d = d, k = d, \n",
    "                         X = X_processed, X_projected = X_projected, \n",
    "                         n_trn = n_trn, tau_true = tau_true,\n",
    "                        n_iters = 10001)"
   ]
  },
  {
   "cell_type": "code",
   "execution_count": 15,
   "id": "ccad4e8f",
   "metadata": {},
   "outputs": [],
   "source": [
    "train_accuracy_list, test_accuracy_lis, r_s_norm_k_list, r_f_norm_k_list = create_report(Model_list_2,\n",
    "                                                                                         n_runs = n_runs,\n",
    "                                                                                         tau_true = tau_true,\n",
    "                                                                                         M_true = M_true,\n",
    "                                                                                         k = None)"
   ]
  },
  {
   "cell_type": "code",
   "execution_count": 16,
   "id": "1ca96d5e",
   "metadata": {},
   "outputs": [
    {
     "name": "stdout",
     "output_type": "stream",
     "text": [
      "Normalized Data:\n",
      "Mean train accuracy (20 trials) is 0.9957199999999998\n",
      "Mean test accuracy (20 trials) is 0.99512\n",
      "Mean Realative Spectral Norm (20 trials) is 0.7481676427661519\n",
      "Mean Realative Frobenius Norm (20 trials) is 0.7416287512939705\n"
     ]
    }
   ],
   "source": [
    "print('Normalized Data:')\n",
    "print('Mean train accuracy ({} trials) is {}'.format(n_runs, np.mean(train_accuracy_list)))\n",
    "print('Mean test accuracy ({} trials) is {}'.format(n_runs, np.mean(test_accuracy_lis)))\n",
    "print('Mean Realative Spectral Norm ({} trials) is {}'.format(n_runs, np.mean(r_s_norm_k_list)))\n",
    "print('Mean Realative Frobenius Norm ({} trials) is {}'.format(n_runs, np.mean(r_f_norm_k_list)))"
   ]
  },
  {
   "cell_type": "markdown",
   "id": "9812d57f",
   "metadata": {},
   "source": [
    "# 3. Covariance normalization"
   ]
  },
  {
   "cell_type": "code",
   "execution_count": 17,
   "id": "9a217f96",
   "metadata": {},
   "outputs": [
    {
     "data": {
      "text/plain": [
       "(30000, 9)"
      ]
     },
     "execution_count": 17,
     "metadata": {},
     "output_type": "execute_result"
    }
   ],
   "source": [
    "(X_processed, centers, scales) = preprocess.center_scale(X_raw, scaling='0to1')\n",
    "X_processed.shape"
   ]
  },
  {
   "cell_type": "code",
   "execution_count": 18,
   "id": "aff1c1d2",
   "metadata": {},
   "outputs": [],
   "source": [
    "C = np.cov(X_processed.T)"
   ]
  },
  {
   "cell_type": "code",
   "execution_count": 19,
   "id": "f2075b1e",
   "metadata": {},
   "outputs": [],
   "source": [
    "U_c, D_C, V_c = LA.svd(C, full_matrices = False)"
   ]
  },
  {
   "cell_type": "code",
   "execution_count": 20,
   "id": "450fe9cc",
   "metadata": {},
   "outputs": [
    {
     "data": {
      "text/plain": [
       "array([2.08273920e-01, 8.67260556e-02, 5.95708577e-02, 4.16718818e-02,\n",
       "       7.27538067e-03, 5.14832151e-03, 2.23848554e-04, 3.98176294e-05,\n",
       "       9.36067147e-18])"
      ]
     },
     "execution_count": 20,
     "metadata": {},
     "output_type": "execute_result"
    }
   ],
   "source": [
    "D_C"
   ]
  },
  {
   "cell_type": "code",
   "execution_count": 21,
   "id": "5c652fe7",
   "metadata": {},
   "outputs": [],
   "source": [
    "sqrt_C_inv = U_c @ np.diag(np.sqrt(D_C)**-1) @ V_c"
   ]
  },
  {
   "cell_type": "code",
   "execution_count": 22,
   "id": "89e505c6",
   "metadata": {},
   "outputs": [],
   "source": [
    "sqrt_C = U_c @ np.diag(np.sqrt(D_C)) @ V_c"
   ]
  },
  {
   "cell_type": "code",
   "execution_count": 23,
   "id": "c6b3d231",
   "metadata": {},
   "outputs": [],
   "source": [
    "X_processed_normal = X_processed @ sqrt_C_inv"
   ]
  },
  {
   "cell_type": "code",
   "execution_count": 24,
   "id": "f8f552fe",
   "metadata": {},
   "outputs": [],
   "source": [
    "M_true_normal = sqrt_C @ M_true"
   ]
  },
  {
   "cell_type": "code",
   "execution_count": 25,
   "id": "b2f6016d",
   "metadata": {},
   "outputs": [
    {
     "data": {
      "text/plain": [
       "array([-0.02230746, -0.00626123,  0.13828542])"
      ]
     },
     "execution_count": 25,
     "metadata": {},
     "output_type": "execute_result"
    }
   ],
   "source": [
    "M_true_normal[0]"
   ]
  },
  {
   "cell_type": "code",
   "execution_count": 26,
   "id": "fea10fe4",
   "metadata": {},
   "outputs": [],
   "source": [
    "# X_projected = genfromtxt(path_for_projected_data, delimiter = ',')\n",
    "# X_projected_ = X_processed_normal @ M_true_normal\n",
    "# K = np.abs(X_projected_ - X_projected) > 1e-6\n",
    "# len(np.where(K.sum(axis =1) > 0)[0])"
   ]
  },
  {
   "cell_type": "code",
   "execution_count": 27,
   "id": "765dfc53",
   "metadata": {},
   "outputs": [
    {
     "name": "stdout",
     "output_type": "stream",
     "text": [
      "trial number 0 begins.\n",
      "Average squared distance is 0.3403486947359308\n",
      "Far labeled pairs 50.233333333333334%\n",
      "trial number 1 begins.\n",
      "Average squared distance is 0.34419781881721506\n",
      "Far labeled pairs 50.54%\n",
      "trial number 2 begins.\n",
      "Average squared distance is 0.3421442889721755\n",
      "Far labeled pairs 50.193333333333335%\n",
      "trial number 3 begins.\n",
      "Average squared distance is 0.3406357584447579\n",
      "Far labeled pairs 49.32%\n",
      "trial number 4 begins.\n",
      "Average squared distance is 0.34161996144547374\n",
      "Far labeled pairs 50.72666666666667%\n",
      "trial number 5 begins.\n",
      "Average squared distance is 0.33783939113789274\n",
      "Far labeled pairs 50.233333333333334%\n",
      "trial number 6 begins.\n",
      "Average squared distance is 0.34016865213252256\n",
      "Far labeled pairs 50.28%\n",
      "trial number 7 begins.\n",
      "Average squared distance is 0.3428054661676667\n",
      "Far labeled pairs 50.233333333333334%\n",
      "trial number 8 begins.\n",
      "Average squared distance is 0.3408244687128517\n",
      "Far labeled pairs 50.43333333333333%\n",
      "trial number 9 begins.\n",
      "Average squared distance is 0.34076991715640714\n",
      "Far labeled pairs 50.1%\n",
      "trial number 10 begins.\n",
      "Average squared distance is 0.3427449815504699\n",
      "Far labeled pairs 50.14%\n",
      "trial number 11 begins.\n",
      "Average squared distance is 0.3380825403093804\n",
      "Far labeled pairs 49.78666666666667%\n",
      "trial number 12 begins.\n",
      "Average squared distance is 0.34277394399763905\n",
      "Far labeled pairs 50.27333333333333%\n",
      "trial number 13 begins.\n",
      "Average squared distance is 0.341933471031985\n",
      "Far labeled pairs 50.39333333333333%\n",
      "trial number 14 begins.\n",
      "Average squared distance is 0.3401519127629878\n",
      "Far labeled pairs 50.13333333333333%\n",
      "trial number 15 begins.\n",
      "Average squared distance is 0.34300326661493497\n",
      "Far labeled pairs 50.78%\n",
      "trial number 16 begins.\n",
      "Average squared distance is 0.3404354168018309\n",
      "Far labeled pairs 50.693333333333335%\n",
      "trial number 17 begins.\n",
      "Average squared distance is 0.3434220351630852\n",
      "Far labeled pairs 50.72666666666667%\n",
      "trial number 18 begins.\n",
      "Average squared distance is 0.3412877041707478\n",
      "Far labeled pairs 50.586666666666666%\n",
      "trial number 19 begins.\n",
      "Average squared distance is 0.34172444806979263\n",
      "Far labeled pairs 50.346666666666664%\n"
     ]
    }
   ],
   "source": [
    "Model_list_3 = Multi_run(n_runs = n_runs, d = d, k = d, \n",
    "                         X = X_processed_normal, X_projected = X_projected, \n",
    "                         n_trn = n_trn, tau_true = tau_true,\n",
    "                        n_iters = 10001)"
   ]
  },
  {
   "cell_type": "code",
   "execution_count": 28,
   "id": "6276b753",
   "metadata": {},
   "outputs": [],
   "source": [
    "train_accuracy_list, test_accuracy_lis, r_s_norm_k_list, r_f_norm_k_list = create_report(Model_list_3,\n",
    "                                                                                        n_runs = n_runs,\n",
    "                                                                                        tau_true = tau_true,\n",
    "                                                                                        M_true = M_true_normal,\n",
    "                                                                                        k = None)"
   ]
  },
  {
   "cell_type": "code",
   "execution_count": 29,
   "id": "6610833f",
   "metadata": {},
   "outputs": [
    {
     "name": "stdout",
     "output_type": "stream",
     "text": [
      "Covariance normalization:\n",
      "Mean train accuracy (20 trials) is 0.9981450000000001\n",
      "Mean test accuracy (20 trials) is 0.9972800000000002\n",
      "Mean Realative Spectral Norm (20 trials) is 0.04132048288016264\n",
      "Mean Realative Frobenius Norm (20 trials) is 0.045988134828252474\n"
     ]
    }
   ],
   "source": [
    "print('Covariance normalization:')\n",
    "print('Mean train accuracy ({} trials) is {}'.format(n_runs, np.mean(train_accuracy_list)))\n",
    "print('Mean test accuracy ({} trials) is {}'.format(n_runs, np.mean(test_accuracy_lis)))\n",
    "print('Mean Realative Spectral Norm ({} trials) is {}'.format(n_runs, np.mean(r_s_norm_k_list)))\n",
    "print('Mean Realative Frobenius Norm ({} trials) is {}'.format(n_runs, np.mean(r_f_norm_k_list)))"
   ]
  },
  {
   "cell_type": "code",
   "execution_count": 61,
   "id": "b8d6ff48",
   "metadata": {},
   "outputs": [
    {
     "name": "stdout",
     "output_type": "stream",
     "text": [
      "Covariance normalization trancated $M_hat_0:\n",
      "Mean train accuracy (20 trials) is 0.49749499999999997\n",
      "Mean test accuracy (20 trials) is 0.49578000000000005\n",
      "Mean Realative Spectral Norm (20 trials) is 1.0\n",
      "Mean Realative Frobenius Norm (20 trials) is 1.0\n",
      "\n",
      "Covariance normalization trancated $M_hat_1:\n",
      "Mean train accuracy (20 trials) is 0.89774\n",
      "Mean test accuracy (20 trials) is 0.89748\n",
      "Mean Realative Spectral Norm (20 trials) is 0.30094735640574893\n",
      "Mean Realative Frobenius Norm (20 trials) is 0.29388793865997037\n",
      "\n",
      "Covariance normalization trancated $M_hat_2:\n",
      "Mean train accuracy (20 trials) is 0.9787249999999998\n",
      "Mean test accuracy (20 trials) is 0.97855\n",
      "Mean Realative Spectral Norm (20 trials) is 0.052292734341700266\n",
      "Mean Realative Frobenius Norm (20 trials) is 0.06363499343305776\n",
      "\n",
      "Covariance normalization trancated $M_hat_3:\n",
      "Mean train accuracy (20 trials) is 0.998105\n",
      "Mean test accuracy (20 trials) is 0.9972099999999999\n",
      "Mean Realative Spectral Norm (20 trials) is 0.041303981112096\n",
      "Mean Realative Frobenius Norm (20 trials) is 0.04597026616220596\n",
      "\n",
      "Covariance normalization trancated $M_hat_4:\n",
      "Mean train accuracy (20 trials) is 0.9981450000000001\n",
      "Mean test accuracy (20 trials) is 0.9972800000000002\n",
      "Mean Realative Spectral Norm (20 trials) is 0.0413204828801627\n",
      "Mean Realative Frobenius Norm (20 trials) is 0.04598813482825255\n",
      "\n",
      "Covariance normalization trancated $M_hat_5:\n",
      "Mean train accuracy (20 trials) is 0.9981450000000001\n",
      "Mean test accuracy (20 trials) is 0.9972800000000002\n",
      "Mean Realative Spectral Norm (20 trials) is 0.0413204828801627\n",
      "Mean Realative Frobenius Norm (20 trials) is 0.04598813482825254\n",
      "\n",
      "Covariance normalization trancated $M_hat_6:\n",
      "Mean train accuracy (20 trials) is 0.9981450000000001\n",
      "Mean test accuracy (20 trials) is 0.9972800000000002\n",
      "Mean Realative Spectral Norm (20 trials) is 0.0413204828801627\n",
      "Mean Realative Frobenius Norm (20 trials) is 0.04598813482825254\n",
      "\n",
      "Covariance normalization trancated $M_hat_7:\n",
      "Mean train accuracy (20 trials) is 0.9981450000000001\n",
      "Mean test accuracy (20 trials) is 0.9972800000000002\n",
      "Mean Realative Spectral Norm (20 trials) is 0.041320482880162684\n",
      "Mean Realative Frobenius Norm (20 trials) is 0.04598813482825254\n",
      "\n",
      "Covariance normalization trancated $M_hat_8:\n",
      "Mean train accuracy (20 trials) is 0.9981450000000001\n",
      "Mean test accuracy (20 trials) is 0.9972800000000002\n",
      "Mean Realative Spectral Norm (20 trials) is 0.0413204828801627\n",
      "Mean Realative Frobenius Norm (20 trials) is 0.04598813482825254\n",
      "\n"
     ]
    }
   ],
   "source": [
    "for k in range(d):\n",
    "    train_accuracy_list_k, test_accuracy_lis_k, r_s_norm_k_list_k, r_f_norm_k_list_k = create_report(Model_list_3,\n",
    "                                                                                        n_runs = n_runs,\n",
    "                                                                                        tau_true = tau_true,\n",
    "                                                                                        M_true = M_true_normal,\n",
    "                                                                                        k = k)\n",
    "    print('Covariance normalization trancated $M_hat_{}:'.format(k))\n",
    "    print('Mean train accuracy ({} trials) is {}'.format(n_runs, np.mean(train_accuracy_list_k)))\n",
    "    print('Mean test accuracy ({} trials) is {}'.format(n_runs, np.mean(test_accuracy_lis_k)))\n",
    "    print('Mean Realative Spectral Norm ({} trials) is {}'.format(n_runs, np.mean(r_s_norm_k_list_k)))\n",
    "    print('Mean Realative Frobenius Norm ({} trials) is {}\\n'.format(n_runs, np.mean(r_f_norm_k_list_k)))"
   ]
  },
  {
   "cell_type": "markdown",
   "id": "b90b11b7",
   "metadata": {},
   "source": [
    "### Change only some directions based on Covaraince eigenvectors"
   ]
  },
  {
   "cell_type": "code",
   "execution_count": 30,
   "id": "0777f2a5",
   "metadata": {},
   "outputs": [
    {
     "data": {
      "text/plain": [
       "(30000, 9)"
      ]
     },
     "execution_count": 30,
     "metadata": {},
     "output_type": "execute_result"
    }
   ],
   "source": [
    "(X_processed, centers, scales) = preprocess.center_scale(X_raw, scaling='0to1')\n",
    "X_processed.shape"
   ]
  },
  {
   "cell_type": "code",
   "execution_count": 31,
   "id": "3bcdf6d8",
   "metadata": {},
   "outputs": [
    {
     "data": {
      "text/plain": [
       "array([2.08273920e-01, 8.67260556e-02, 5.95708577e-02, 4.16718818e-02,\n",
       "       7.27538067e-03, 5.14832151e-03, 2.23848554e-04, 3.98176294e-05,\n",
       "       9.36067147e-18])"
      ]
     },
     "execution_count": 31,
     "metadata": {},
     "output_type": "execute_result"
    }
   ],
   "source": [
    "C = np.cov(X_processed.T)\n",
    "U_c, D_C, V_c = LA.svd(C, full_matrices = False)\n",
    "D_C"
   ]
  },
  {
   "cell_type": "code",
   "execution_count": 32,
   "id": "9e72304d",
   "metadata": {},
   "outputs": [],
   "source": [
    "D_rescaled = np.ones(D_C.shape)\n",
    "D_rescaled[-1] = D_C[-1]\n",
    "D_rescaled[-2] = D_C[-2]\n",
    "D_rescaled[-3] = D_C[-3]\n",
    "D_rescaled[-4] = D_C[-4]\n",
    "D_rescaled[-5] = D_C[-5]\n",
    "Re_scale_matrix_inv =  U_c @ np.diag(np.sqrt(D_rescaled)**-1) @ V_c\n",
    "Re_scale_matrix =  U_c @ np.diag(np.sqrt(D_rescaled)) @ V_c"
   ]
  },
  {
   "cell_type": "code",
   "execution_count": 33,
   "id": "67450164",
   "metadata": {},
   "outputs": [],
   "source": [
    "X_processed_rescaled = X_processed @ Re_scale_matrix_inv"
   ]
  },
  {
   "cell_type": "code",
   "execution_count": 34,
   "id": "87f51097",
   "metadata": {},
   "outputs": [],
   "source": [
    "M_true_rescaled = Re_scale_matrix @ M_true"
   ]
  },
  {
   "cell_type": "code",
   "execution_count": 35,
   "id": "0a8ce83d",
   "metadata": {},
   "outputs": [
    {
     "name": "stdout",
     "output_type": "stream",
     "text": [
      "trial number 0 begins.\n",
      "Average squared distance is 0.3405529902841727\n",
      "Far labeled pairs 50.36666666666667%\n",
      "trial number 1 begins.\n",
      "Average squared distance is 0.34134225158246884\n",
      "Far labeled pairs 50.63333333333333%\n",
      "trial number 2 begins.\n",
      "Average squared distance is 0.3430093744215146\n",
      "Far labeled pairs 50.54666666666667%\n",
      "trial number 3 begins.\n",
      "Average squared distance is 0.34328090156076874\n",
      "Far labeled pairs 50.46%\n",
      "trial number 4 begins.\n",
      "Average squared distance is 0.34372235162731996\n",
      "Far labeled pairs 51.153333333333336%\n",
      "trial number 5 begins.\n",
      "Average squared distance is 0.34246760144171984\n",
      "Far labeled pairs 50.79333333333334%\n",
      "trial number 6 begins.\n",
      "Average squared distance is 0.3434814968603526\n",
      "Far labeled pairs 50.60666666666667%\n",
      "trial number 7 begins.\n",
      "Average squared distance is 0.3452109052725585\n",
      "Far labeled pairs 50.74666666666667%\n",
      "trial number 8 begins.\n",
      "Average squared distance is 0.3440731854835795\n",
      "Far labeled pairs 51.42666666666667%\n",
      "trial number 9 begins.\n",
      "Average squared distance is 0.3411235982252199\n",
      "Far labeled pairs 50.486666666666665%\n",
      "trial number 10 begins.\n",
      "Average squared distance is 0.34039202708746774\n",
      "Far labeled pairs 50.36666666666667%\n",
      "trial number 11 begins.\n",
      "Average squared distance is 0.34211692683002487\n",
      "Far labeled pairs 51.11333333333334%\n",
      "trial number 12 begins.\n",
      "Average squared distance is 0.33654257878759253\n",
      "Far labeled pairs 50.14666666666667%\n",
      "trial number 13 begins.\n",
      "Average squared distance is 0.3424338543807845\n",
      "Far labeled pairs 50.43333333333333%\n",
      "trial number 14 begins.\n",
      "Average squared distance is 0.3408057438629021\n",
      "Far labeled pairs 50.373333333333335%\n",
      "trial number 15 begins.\n",
      "Average squared distance is 0.34355052592092084\n",
      "Far labeled pairs 50.3%\n",
      "trial number 16 begins.\n",
      "Average squared distance is 0.33970043367133956\n",
      "Far labeled pairs 50.333333333333336%\n",
      "trial number 17 begins.\n",
      "Average squared distance is 0.3476946747907915\n",
      "Far labeled pairs 51.27333333333333%\n",
      "trial number 18 begins.\n",
      "Average squared distance is 0.3432224947757915\n",
      "Far labeled pairs 50.54666666666667%\n",
      "trial number 19 begins.\n",
      "Average squared distance is 0.34279569393696097\n",
      "Far labeled pairs 50.92666666666667%\n"
     ]
    }
   ],
   "source": [
    "Model_list_4 = Multi_run(n_runs = n_runs, d = d, k = d, \n",
    "                         X = X_processed_rescaled, X_projected = X_projected, \n",
    "                         n_trn = n_trn, tau_true = tau_true,\n",
    "                        n_iters = 10001, show_log = False)"
   ]
  },
  {
   "cell_type": "code",
   "execution_count": 36,
   "id": "b5affeb1",
   "metadata": {},
   "outputs": [],
   "source": [
    "train_accuracy_list, test_accuracy_lis, r_s_norm_k_list, r_f_norm_k_list = create_report(Model_list_4,\n",
    "                                                                                        n_runs = n_runs,\n",
    "                                                                                        tau_true = tau_true,\n",
    "                                                                                        M_true = M_true_rescaled,\n",
    "                                                                                        k = None)"
   ]
  },
  {
   "cell_type": "code",
   "execution_count": 37,
   "id": "52ac069c",
   "metadata": {},
   "outputs": [],
   "source": [
    "# r_s_norm_k_list"
   ]
  },
  {
   "cell_type": "code",
   "execution_count": 38,
   "id": "33df638e",
   "metadata": {},
   "outputs": [],
   "source": [
    "# r_f_norm_k_list"
   ]
  },
  {
   "cell_type": "code",
   "execution_count": 39,
   "id": "55d2bb9b",
   "metadata": {},
   "outputs": [
    {
     "name": "stdout",
     "output_type": "stream",
     "text": [
      "Covariance selective normalization:\n",
      "Mean train accuracy (20 trials) is 0.9978200000000002\n",
      "Mean test accuracy (20 trials) is 0.9969199999999999\n",
      "Mean Realative Spectral Norm (20 trials) is 0.045575191324000654\n",
      "Mean Realative Frobenius Norm (20 trials) is 0.04691193959682218\n"
     ]
    }
   ],
   "source": [
    "print('Covariance selective normalization:')\n",
    "print('Mean train accuracy ({} trials) is {}'.format(n_runs, np.mean(train_accuracy_list)))\n",
    "print('Mean test accuracy ({} trials) is {}'.format(n_runs, np.mean(test_accuracy_lis)))\n",
    "print('Mean Realative Spectral Norm ({} trials) is {}'.format(n_runs, np.mean(r_s_norm_k_list)))\n",
    "print('Mean Realative Frobenius Norm ({} trials) is {}'.format(n_runs, np.mean(r_f_norm_k_list)))"
   ]
  },
  {
   "cell_type": "markdown",
   "id": "5d40510a",
   "metadata": {},
   "source": [
    "### The directions that $X$ has no variance on them do not matter for $M$ at all"
   ]
  },
  {
   "cell_type": "code",
   "execution_count": 40,
   "id": "381a1861",
   "metadata": {},
   "outputs": [
    {
     "data": {
      "text/plain": [
       "array([2.08273920e-01, 8.67260556e-02, 5.95708577e-02, 4.16718818e-02,\n",
       "       7.27538067e-03, 5.14832151e-03, 2.23848554e-04, 3.98176294e-05,\n",
       "       9.36067147e-18])"
      ]
     },
     "execution_count": 40,
     "metadata": {},
     "output_type": "execute_result"
    }
   ],
   "source": [
    "C = np.cov(X_processed.T)\n",
    "U_c, D_C, V_c = LA.svd(C, full_matrices = False)\n",
    "D_C"
   ]
  },
  {
   "cell_type": "code",
   "execution_count": 41,
   "id": "b276ff4b",
   "metadata": {},
   "outputs": [],
   "source": [
    "D_rescaled = np.ones(D_C.shape)\n",
    "D_rescaled[-1] = 0\n",
    "D_rescaled[-2] = 0\n",
    "D_rescaled[-3] = 0\n",
    "# D_rescaled[-4] = 0\n",
    "# D_rescaled[-5] = 0\n",
    "# D_rescaled[-6] = 0\n",
    "# Re_scale_matrix_inv =  U_c @ np.diag(np.sqrt(D_rescaled)**-1) @ V_c\n",
    "Re_scale_matrix =  U_c @ np.diag(np.sqrt(D_rescaled)) @ U_c.T"
   ]
  },
  {
   "cell_type": "code",
   "execution_count": 42,
   "id": "68d63e13",
   "metadata": {},
   "outputs": [],
   "source": [
    "M_true_rescaled = Re_scale_matrix @ M_true"
   ]
  },
  {
   "cell_type": "code",
   "execution_count": 43,
   "id": "08c78973",
   "metadata": {},
   "outputs": [
    {
     "data": {
      "text/plain": [
       "30000"
      ]
     },
     "execution_count": 43,
     "metadata": {},
     "output_type": "execute_result"
    }
   ],
   "source": [
    "X_projected = genfromtxt(path_for_projected_data, delimiter = ',')\n",
    "X_projected_ = X_processed @ M_true_rescaled\n",
    "K = np.abs(X_projected_ - X_projected) > 1e-3\n",
    "len(np.where(K.sum(axis =1) > 0)[0])"
   ]
  },
  {
   "cell_type": "code",
   "execution_count": 44,
   "id": "d76f7ccf",
   "metadata": {},
   "outputs": [
    {
     "data": {
      "text/plain": [
       "0.9962696039381317"
      ]
     },
     "execution_count": 44,
     "metadata": {},
     "output_type": "execute_result"
    }
   ],
   "source": [
    "LA.norm(X_projected_[500] - X_projected_[14000])"
   ]
  },
  {
   "cell_type": "code",
   "execution_count": 45,
   "id": "428d7a1b",
   "metadata": {},
   "outputs": [
    {
     "data": {
      "text/plain": [
       "0.9950315860354604"
      ]
     },
     "execution_count": 45,
     "metadata": {},
     "output_type": "execute_result"
    }
   ],
   "source": [
    "LA.norm(X_projected[500] - X_projected[14000])"
   ]
  },
  {
   "cell_type": "code",
   "execution_count": 46,
   "id": "39f6f2ea",
   "metadata": {},
   "outputs": [
    {
     "name": "stdout",
     "output_type": "stream",
     "text": [
      "trial number 0 begins.\n",
      "Average squared distance is 0.3407682187596569\n",
      "Far labeled pairs 49.99333333333333%\n",
      "trial number 1 begins.\n",
      "Average squared distance is 0.34302519925915187\n",
      "Far labeled pairs 51.36%\n",
      "trial number 2 begins.\n",
      "Average squared distance is 0.3438394171108607\n",
      "Far labeled pairs 50.89333333333333%\n",
      "trial number 3 begins.\n",
      "Average squared distance is 0.3373585851572562\n",
      "Far labeled pairs 50.473333333333336%\n",
      "trial number 4 begins.\n",
      "Average squared distance is 0.3415589976585544\n",
      "Far labeled pairs 50.4%\n",
      "trial number 5 begins.\n",
      "Average squared distance is 0.3422419539511573\n",
      "Far labeled pairs 51.22%\n",
      "trial number 6 begins.\n",
      "Average squared distance is 0.34380255881260385\n",
      "Far labeled pairs 50.733333333333334%\n",
      "trial number 7 begins.\n",
      "Average squared distance is 0.34387036440431207\n",
      "Far labeled pairs 50.38666666666666%\n",
      "trial number 8 begins.\n",
      "Average squared distance is 0.34056730767503746\n",
      "Far labeled pairs 50.766666666666666%\n",
      "trial number 9 begins.\n",
      "Average squared distance is 0.3383354405257539\n",
      "Far labeled pairs 50.5%\n",
      "trial number 10 begins.\n",
      "Average squared distance is 0.34001150735890356\n",
      "Far labeled pairs 50.53333333333333%\n",
      "trial number 11 begins.\n",
      "Average squared distance is 0.3426486685699264\n",
      "Far labeled pairs 50.92666666666667%\n",
      "trial number 12 begins.\n",
      "Average squared distance is 0.3444373257719795\n",
      "Far labeled pairs 50.873333333333335%\n",
      "trial number 13 begins.\n",
      "Average squared distance is 0.3409961999881816\n",
      "Far labeled pairs 50.42%\n",
      "trial number 14 begins.\n",
      "Average squared distance is 0.3415684090390694\n",
      "Far labeled pairs 50.333333333333336%\n",
      "trial number 15 begins.\n",
      "Average squared distance is 0.3382804266350829\n",
      "Far labeled pairs 49.833333333333336%\n",
      "trial number 16 begins.\n",
      "Average squared distance is 0.3400609301905346\n",
      "Far labeled pairs 49.986666666666665%\n",
      "trial number 17 begins.\n",
      "Average squared distance is 0.34473831608189104\n",
      "Far labeled pairs 50.78666666666667%\n",
      "trial number 18 begins.\n",
      "Average squared distance is 0.3427408666723925\n",
      "Far labeled pairs 51.026666666666664%\n",
      "trial number 19 begins.\n",
      "Average squared distance is 0.34057753147945624\n",
      "Far labeled pairs 50.473333333333336%\n"
     ]
    }
   ],
   "source": [
    "Model_list_5 = Multi_run(n_runs = n_runs, d = d, k = d, \n",
    "                         X = X_processed, X_projected = X_projected, \n",
    "                         n_trn = n_trn, tau_true = tau_true,\n",
    "                        n_iters = 20001, show_log = False)"
   ]
  },
  {
   "cell_type": "code",
   "execution_count": 47,
   "id": "6dcc7c4a",
   "metadata": {},
   "outputs": [],
   "source": [
    "train_accuracy_list, test_accuracy_lis, r_s_norm_k_list, r_f_norm_k_list = create_report(Model_list_5,\n",
    "                                                                                        n_runs = n_runs,\n",
    "                                                                                        tau_true = tau_true,\n",
    "                                                                                        M_true = M_true_rescaled,\n",
    "                                                                                        k = None)"
   ]
  },
  {
   "cell_type": "code",
   "execution_count": 48,
   "id": "f4b5b27b",
   "metadata": {},
   "outputs": [
    {
     "name": "stdout",
     "output_type": "stream",
     "text": [
      "M_true normalization:\n",
      "Mean train accuracy (20 trials) is 0.9967450000000001\n",
      "Mean test accuracy (20 trials) is 0.9962900000000001\n",
      "Mean Realative Spectral Norm (20 trials) is 0.2507505406485447\n",
      "Mean Realative Frobenius Norm (20 trials) is 0.30587536931195786\n"
     ]
    }
   ],
   "source": [
    "print('M_true normalization:')\n",
    "print('Mean train accuracy ({} trials) is {}'.format(n_runs, np.mean(train_accuracy_list)))\n",
    "print('Mean test accuracy ({} trials) is {}'.format(n_runs, np.mean(test_accuracy_lis)))\n",
    "print('Mean Realative Spectral Norm ({} trials) is {}'.format(n_runs, np.mean(r_s_norm_k_list)))\n",
    "print('Mean Realative Frobenius Norm ({} trials) is {}'.format(n_runs, np.mean(r_f_norm_k_list)))"
   ]
  },
  {
   "cell_type": "code",
   "execution_count": null,
   "id": "1a9a001f",
   "metadata": {},
   "outputs": [],
   "source": []
  }
 ],
 "metadata": {
  "kernelspec": {
   "display_name": "Python 3 (ipykernel)",
   "language": "python",
   "name": "python3"
  },
  "language_info": {
   "codemirror_mode": {
    "name": "ipython",
    "version": 3
   },
   "file_extension": ".py",
   "mimetype": "text/x-python",
   "name": "python",
   "nbconvert_exporter": "python",
   "pygments_lexer": "ipython3",
   "version": "3.9.7"
  }
 },
 "nbformat": 4,
 "nbformat_minor": 5
}
