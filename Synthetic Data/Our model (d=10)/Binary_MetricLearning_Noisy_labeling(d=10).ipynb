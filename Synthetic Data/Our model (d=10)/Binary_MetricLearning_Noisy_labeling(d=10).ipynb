{
 "cells": [
  {
   "cell_type": "code",
   "execution_count": 1,
   "id": "fd283ad6",
   "metadata": {},
   "outputs": [],
   "source": [
    "import numpy as np\n",
    "import matplotlib.pyplot as plt\n",
    "import math\n",
    "import torch\n",
    "import torch.nn as nn\n",
    "import torch.nn.functional as F\n",
    "import torch.optim as optim\n",
    "import torchvision\n",
    "from torch.distributions import Normal as norm\n",
    "from termcolor import colored\n",
    "from sklearn.decomposition import PCA\n",
    "from scipy import linalg as LA\n",
    "from scipy.stats import multivariate_normal\n",
    "from scipy.stats import norm\n",
    "from scipy.stats import multinomial\n",
    "from Main_functions import *\n",
    "from numpy.random import zipf\n",
    "import random\n",
    "from numpy import genfromtxt"
   ]
  },
  {
   "cell_type": "markdown",
   "id": "5322d4e9",
   "metadata": {},
   "source": [
    "### Setting the data distribuation \n",
    "\n",
    "Pairs $(x_i,y_i)\\in \\mathbb{R}^d\\times \\mathbb{R}^d$ for $i=1, \\ldots, N$ are generated i.i.d. from density distribuation $f(\\cdot)\\times f(\\cdot)$.  \n",
    "\n",
    "Parameters:\n",
    "\n",
    "$d:$ dimention of data points\n",
    "\n",
    "$N:$ number of pairs\n",
    "\n",
    "$f(\\cdot):$ density distribuation\n"
   ]
  },
  {
   "cell_type": "markdown",
   "id": "989412b5",
   "metadata": {},
   "source": [
    "### Given the eigenvalue of ground truth $M_t$, we randomly generate it."
   ]
  },
  {
   "cell_type": "code",
   "execution_count": 2,
   "id": "371ced4a",
   "metadata": {},
   "outputs": [],
   "source": [
    "d = 10\n",
    "rank = 5\n",
    "seed = 2023"
   ]
  },
  {
   "cell_type": "code",
   "execution_count": 3,
   "id": "2cd7f2a9",
   "metadata": {},
   "outputs": [
    {
     "data": {
      "text/plain": [
       "array([0.32, 0.89, 0.59, 0.13, 0.14])"
      ]
     },
     "execution_count": 3,
     "metadata": {},
     "output_type": "execute_result"
    }
   ],
   "source": [
    "np.random.seed(seed)\n",
    "non_zero_eigens_of_M_star = np.round(np.random.uniform(low=0.0, high=1.0, size= rank), 2)\n",
    "non_zero_eigens_of_M_star"
   ]
  },
  {
   "cell_type": "code",
   "execution_count": 4,
   "id": "0fbc4ae8",
   "metadata": {},
   "outputs": [
    {
     "data": {
      "text/plain": [
       "array([0.32, 0.89, 0.59, 0.13, 0.14, 0.  , 0.  , 0.  , 0.  , 0.  ])"
      ]
     },
     "execution_count": 4,
     "metadata": {},
     "output_type": "execute_result"
    }
   ],
   "source": [
    "# eigenvalues of $M_t$\n",
    "diag = np.zeros(d)\n",
    "diag[:rank] = non_zero_eigens_of_M_star\n",
    "diag"
   ]
  },
  {
   "cell_type": "code",
   "execution_count": 5,
   "id": "23087886",
   "metadata": {},
   "outputs": [
    {
     "name": "stdout",
     "output_type": "stream",
     "text": [
      "Ground truth M_t and B_t are generated (M_t = B_t @ B_t.T)\n",
      "To access to M_t and B_t, use .M_t and .B_t\n"
     ]
    }
   ],
   "source": [
    "data_model = DG(diag, seed = 22) "
   ]
  },
  {
   "cell_type": "code",
   "execution_count": 6,
   "id": "0ff3f776",
   "metadata": {},
   "outputs": [
    {
     "data": {
      "text/plain": [
       "(array([0.32, 0.89, 0.59, 0.13, 0.14, 0.  , 0.  , 0.  , 0.  , 0.  ]),)"
      ]
     },
     "execution_count": 6,
     "metadata": {},
     "output_type": "execute_result"
    }
   ],
   "source": [
    "data_model.M_diag, "
   ]
  },
  {
   "cell_type": "code",
   "execution_count": 7,
   "id": "74d3f36d",
   "metadata": {},
   "outputs": [
    {
     "data": {
      "text/plain": [
       "((10, 10), (10, 10))"
      ]
     },
     "execution_count": 7,
     "metadata": {},
     "output_type": "execute_result"
    }
   ],
   "source": [
    "data_model.M_t.shape, data_model.B_t.shape"
   ]
  },
  {
   "cell_type": "code",
   "execution_count": 8,
   "id": "80ccb081-84ce-4ba6-8d7e-187990bfd2e5",
   "metadata": {},
   "outputs": [],
   "source": [
    "# data_model.U"
   ]
  },
  {
   "cell_type": "markdown",
   "id": "da0ffa2a",
   "metadata": {},
   "source": [
    "### Given the eigenvalue of covariance matrix Cov, we randomly generate it."
   ]
  },
  {
   "cell_type": "code",
   "execution_count": 9,
   "id": "cc097d37",
   "metadata": {},
   "outputs": [
    {
     "data": {
      "text/plain": [
       "array([0.59, 0.7 , 0.19, 0.04, 0.21, 0.11, 0.73, 0.68, 0.47, 0.45])"
      ]
     },
     "execution_count": 9,
     "metadata": {},
     "output_type": "execute_result"
    }
   ],
   "source": [
    "np.random.seed(2024)\n",
    "diag_cov = np.round(np.random.uniform(low=0.0, high=1.0, size= d), 2)\n",
    "diag_cov"
   ]
  },
  {
   "cell_type": "code",
   "execution_count": 10,
   "id": "6bef2f26",
   "metadata": {},
   "outputs": [],
   "source": [
    "Sigma, U_sigma = random_covariance(diag_cov, seed = 21)"
   ]
  },
  {
   "cell_type": "code",
   "execution_count": 11,
   "id": "591cfc04",
   "metadata": {},
   "outputs": [],
   "source": [
    "f = multivariate_normal(mean = np.zeros(d), cov = Sigma)"
   ]
  },
  {
   "cell_type": "markdown",
   "id": "20d951e1",
   "metadata": {},
   "source": [
    "### What is the average of squared norm of points generating where $x\\sim f(x)$ with $\\mathbb{E}(x) = \\mu$ and ${\\rm Cov}(x) = \\Sigma$\n",
    "\n",
    "If $x\\sim f(x)$ where $\\mathbb{E}(x) = \\mu$ and ${\\rm Cov}(x) = \\Sigma$, then \n",
    "\\begin{align}\n",
    "\\mathbb{E}\\left(x^\\top Mx\\right) & = \\mathbb{E}\\left({\\rm tr}(x^\\top Mx)\\right)\\\\\n",
    " & = \\mathbb{E}\\left({\\rm tr}(xx^\\top M)\\right)\\\\\n",
    " & = {\\rm tr}\\left(\\mathbb{E}\\left(xx^\\top\\right)M\\right)\\\\\n",
    " & = {\\rm tr}\\left(\\left[{\\rm Cov}(x) - \\mathbb{E}(x)\\mathbb{E}(x)^\\top\\right]M\\right)\n",
    "\\end{align}\n",
    "\n",
    "If we set  $\\mu = \\mathbf{0}$, then \n",
    "$$\\mathbb{E}\\left(x^\\top Mx\\right) = {\\rm tr}\\left(\\Sigma M\\right).$$\n",
    "Therefore, since $x$ and $y$ are independent, \n",
    "$$\\mathbb{E}\\left(\\|x-y\\|_M^2\\right) = 2{\\rm tr}\\left(\\Sigma M\\right).$$"
   ]
  },
  {
   "cell_type": "code",
   "execution_count": 12,
   "id": "47ead991",
   "metadata": {},
   "outputs": [
    {
     "name": "stdout",
     "output_type": "stream",
     "text": [
      "squared norm mean = 1.6983720913430767\n"
     ]
    }
   ],
   "source": [
    "snm = 2 * np.trace(data_model.M_t @ Sigma)\n",
    "print(\"squared norm mean = {}\".format(snm))"
   ]
  },
  {
   "cell_type": "markdown",
   "id": "3ef599d3",
   "metadata": {},
   "source": [
    "### Check the average empirically"
   ]
  },
  {
   "cell_type": "code",
   "execution_count": 13,
   "id": "c1543e1b",
   "metadata": {},
   "outputs": [
    {
     "name": "stdout",
     "output_type": "stream",
     "text": [
      "emperical squared norm mean = 1.7197533768399575\n"
     ]
    }
   ],
   "source": [
    "N = 5000\n",
    "X_1, Y_1 = sample(f, N)\n",
    "sn = (((X_1 - Y_1) @ data_model.B_t)**2).sum()/N\n",
    "print(\"emperical squared norm mean = {}\".format(sn))"
   ]
  },
  {
   "cell_type": "markdown",
   "id": "b2662fc6",
   "metadata": {},
   "source": [
    "### Set $\\tau$ to generate data points (binary case!)"
   ]
  },
  {
   "cell_type": "code",
   "execution_count": 14,
   "id": "873f693c",
   "metadata": {},
   "outputs": [],
   "source": [
    "tau = [1.3]\n",
    "N = 20000\n",
    "noise = 0.208"
   ]
  },
  {
   "cell_type": "code",
   "execution_count": 15,
   "id": "31307a90",
   "metadata": {},
   "outputs": [],
   "source": [
    "X, Y, D_noisy, D_no_noisy = data_model.generate(f, N, tau = np.array(tau), \n",
    "                                          noise_type = 'Noisy_labeling', noise_par = noise)"
   ]
  },
  {
   "cell_type": "code",
   "execution_count": 16,
   "id": "e4196229",
   "metadata": {},
   "outputs": [
    {
     "name": "stdout",
     "output_type": "stream",
     "text": [
      "the amount of noise: 0.1029\n"
     ]
    }
   ],
   "source": [
    "noise_amount = (D_noisy != D_no_noisy).mean()\n",
    "print('the amount of noise: {}'.format(noise_amount))"
   ]
  },
  {
   "cell_type": "code",
   "execution_count": 17,
   "id": "2912ed17",
   "metadata": {},
   "outputs": [
    {
     "name": "stdout",
     "output_type": "stream",
     "text": [
      "number of pairs with 0 as their labels is 10201\n",
      "number of pairs with 1 as their labels is 9799\n"
     ]
    }
   ],
   "source": [
    "for i in range(len(tau)+1):\n",
    "    print('number of pairs with {} as their labels is {}'.format(i,(D_no_noisy==i).sum()))"
   ]
  },
  {
   "cell_type": "code",
   "execution_count": 18,
   "id": "366e2ad0-b925-434f-aebc-7cf7fb0b5be5",
   "metadata": {},
   "outputs": [
    {
     "data": {
      "text/plain": [
       "0.50595"
      ]
     },
     "execution_count": 18,
     "metadata": {},
     "output_type": "execute_result"
    }
   ],
   "source": [
    "(D_noisy == 0).sum()/N"
   ]
  },
  {
   "cell_type": "markdown",
   "id": "8a75781b",
   "metadata": {
    "tags": []
   },
   "source": [
    "### change to PyTorch tensor!"
   ]
  },
  {
   "cell_type": "code",
   "execution_count": 19,
   "id": "562e4598",
   "metadata": {},
   "outputs": [],
   "source": [
    "X = torch.tensor(X, dtype = torch.float64)\n",
    "Y = torch.tensor(Y, dtype = torch.float64)\n",
    "D_noisy = torch.tensor(D_noisy, dtype = torch.torch.int64)\n",
    "D_no_noisy = torch.tensor(D_no_noisy, dtype = torch.torch.int64)"
   ]
  },
  {
   "cell_type": "code",
   "execution_count": 20,
   "id": "b76ac4d6",
   "metadata": {},
   "outputs": [],
   "source": [
    "X, Y, D, X_T, Y_T, D_T, D_no_noise_T, X_test, Y_test, D_test, D_no_noise_test = train_test_split(X, \n",
    "                                                                                                 Y, \n",
    "                                                                                                 D_noisy, \n",
    "                                                                                                 D_no_noisy, \n",
    "                                                                                                 n_train = 15000)"
   ]
  },
  {
   "cell_type": "code",
   "execution_count": 21,
   "id": "a271cfd5",
   "metadata": {},
   "outputs": [
    {
     "data": {
      "text/plain": [
       "(torch.float64, torch.int64)"
      ]
     },
     "execution_count": 21,
     "metadata": {},
     "output_type": "execute_result"
    }
   ],
   "source": [
    "X.dtype, D.dtype"
   ]
  },
  {
   "cell_type": "markdown",
   "id": "33fb6ece",
   "metadata": {},
   "source": [
    "## Set the model and train it"
   ]
  },
  {
   "cell_type": "code",
   "execution_count": 22,
   "id": "e8d1e2ed",
   "metadata": {},
   "outputs": [],
   "source": [
    "k = 10\n",
    "n_labels = len(tau)+1"
   ]
  },
  {
   "cell_type": "code",
   "execution_count": 23,
   "id": "14e5cba7",
   "metadata": {},
   "outputs": [],
   "source": [
    "model = ML(d, k, n_labels, \n",
    "   X_T, Y_T, D_T, D_no_noise_T, \n",
    "   X_test, Y_test, D_test, D_no_noise_test)"
   ]
  },
  {
   "cell_type": "code",
   "execution_count": 24,
   "id": "614d86a5",
   "metadata": {},
   "outputs": [
    {
     "name": "stdout",
     "output_type": "stream",
     "text": [
      "Starting Tau:  tensor([0.9698], dtype=torch.float64, requires_grad=True)\n",
      "epoch 0: loss = 0.7999717179547341\n",
      "train accuracy with noise 0.5066\n",
      "train accuracy without noise 0.5096666666666667\n",
      "test accuracy with noise 0.504\n",
      "test accuracy without noise 0.5112\n",
      "epoch 5000:\n",
      " norm of B.grad = 1.838811566713398e-10,\n",
      " loss = 0.4563198817113805\n",
      "tensor([2.8747], dtype=torch.float64, requires_grad=True)\n",
      "train accuracy with noise 0.8558\n",
      "train accuracy without noise 0.9468666666666666\n",
      "test accuracy with noise 0.8492\n",
      "test accuracy without noise 0.9412\n",
      "epoch 10000:\n",
      " norm of B.grad = 3.217120636088546e-16,\n",
      " loss = 0.4563198485981512\n",
      "tensor([2.8749], dtype=torch.float64, requires_grad=True)\n",
      "train accuracy with noise 0.8557333333333333\n",
      "train accuracy without noise 0.9468\n",
      "test accuracy with noise 0.8492\n",
      "test accuracy without noise 0.9412\n",
      "epoch 15000:\n",
      " norm of B.grad = 1.2400711777036183e-21,\n",
      " loss = 0.45631984859809344\n",
      "tensor([2.8749], dtype=torch.float64, requires_grad=True)\n",
      "train accuracy with noise 0.8557333333333333\n",
      "train accuracy without noise 0.9468\n",
      "test accuracy with noise 0.8492\n",
      "test accuracy without noise 0.9412\n",
      "epoch 20000:\n",
      " norm of B.grad = 9.705130867325902e-23,\n",
      " loss = 0.4563198485980935\n",
      "tensor([2.8749], dtype=torch.float64, requires_grad=True)\n",
      "train accuracy with noise 0.8557333333333333\n",
      "train accuracy without noise 0.9468\n",
      "test accuracy with noise 0.8492\n",
      "test accuracy without noise 0.9412\n",
      "epoch 25000:\n",
      " norm of B.grad = 6.012794386028656e-23,\n",
      " loss = 0.45631984859809355\n",
      "tensor([2.8749], dtype=torch.float64, requires_grad=True)\n",
      "train accuracy with noise 0.8557333333333333\n",
      "train accuracy without noise 0.9468\n",
      "test accuracy with noise 0.8492\n",
      "test accuracy without noise 0.9412\n",
      "epoch 30000:\n",
      " norm of B.grad = 3.8157194389750446e-23,\n",
      " loss = 0.4563198485980935\n",
      "tensor([2.8749], dtype=torch.float64, requires_grad=True)\n",
      "train accuracy with noise 0.8557333333333333\n",
      "train accuracy without noise 0.9468\n",
      "test accuracy with noise 0.8492\n",
      "test accuracy without noise 0.9412\n"
     ]
    }
   ],
   "source": [
    "model.train(learning_rate = 5e-1, \n",
    "            n_iters = 30001, \n",
    "            decay = .95,\n",
    "            f = f, \n",
    "            B_star = data_model.B_t, \n",
    "            tau_star = data_model.tau_t, \n",
    "            N = 1000)"
   ]
  },
  {
   "cell_type": "code",
   "execution_count": 25,
   "id": "642b5e05",
   "metadata": {},
   "outputs": [],
   "source": [
    "N = 10000\n",
    "X_new, Y_new, _, D_new = data_model.generate(f, N, tau = np.array(tau), \n",
    "                               noise_type = None, noise_par = None)"
   ]
  },
  {
   "cell_type": "code",
   "execution_count": 26,
   "id": "6ac9f347",
   "metadata": {},
   "outputs": [],
   "source": [
    "X_new = torch.tensor(X_new, dtype = torch.float64)\n",
    "Y_new = torch.tensor(Y_new, dtype = torch.float64)\n",
    "D_new = torch.tensor(D_new, dtype = torch.torch.int64)"
   ]
  },
  {
   "cell_type": "code",
   "execution_count": 27,
   "id": "cd34c226",
   "metadata": {},
   "outputs": [
    {
     "name": "stdout",
     "output_type": "stream",
     "text": [
      "accuracy on unseen data 0.9457\n"
     ]
    }
   ],
   "source": [
    "ac_unseen = model.accuracy(X_new, Y_new, D_new)\n",
    "print('accuracy on unseen data {}'.format(ac_unseen))"
   ]
  },
  {
   "cell_type": "markdown",
   "id": "071ac5c0",
   "metadata": {},
   "source": [
    "### Relative errors\n",
    "\n",
    "$$\\frac{\\left\\|\\frac{\\hat{M}}{\\hat{\\tau}} - \\frac{M^*}{\\tau^*}\\right\\|_2}{\\left\\|\\frac{M^*}{\\tau^*}\\right\\|_2}$$"
   ]
  },
  {
   "cell_type": "code",
   "execution_count": 28,
   "id": "c5e1f2df",
   "metadata": {},
   "outputs": [],
   "source": [
    "M_hat_normal = model.B @ model.B.T / model.Tau[0] "
   ]
  },
  {
   "cell_type": "code",
   "execution_count": 29,
   "id": "6cf42ccf",
   "metadata": {},
   "outputs": [],
   "source": [
    "M_t_normal = data_model.M_t/tau[0]"
   ]
  },
  {
   "cell_type": "code",
   "execution_count": 30,
   "id": "6835fe58",
   "metadata": {},
   "outputs": [
    {
     "data": {
      "text/plain": [
       "0.20736804889292856"
      ]
     },
     "execution_count": 30,
     "metadata": {},
     "output_type": "execute_result"
    }
   ],
   "source": [
    "np.sqrt(np.sum((M_t_normal - M_hat_normal.detach().numpy())**2))/np.sqrt((M_t_normal**2).sum())"
   ]
  },
  {
   "cell_type": "markdown",
   "id": "efe98178",
   "metadata": {},
   "source": [
    "$$\\left\\|\\frac{\\hat{M}}{\\hat{\\tau}} - \\frac{M^*}{\\tau^*}\\right\\|_\\infty$$"
   ]
  },
  {
   "cell_type": "code",
   "execution_count": 31,
   "id": "f4c7762b",
   "metadata": {},
   "outputs": [
    {
     "data": {
      "text/plain": [
       "0.04857210153103603"
      ]
     },
     "execution_count": 31,
     "metadata": {},
     "output_type": "execute_result"
    }
   ],
   "source": [
    "(np.abs(M_t_normal - M_hat_normal.detach().numpy())).max()"
   ]
  },
  {
   "cell_type": "markdown",
   "id": "58c3eef2",
   "metadata": {},
   "source": [
    "$$\\left|\\frac{\\hat{M}}{\\hat{\\tau}} - \\frac{M^*}{\\tau^*}\\right|_{L_1(f)}$$"
   ]
  },
  {
   "cell_type": "code",
   "execution_count": 32,
   "id": "fcc1ec90",
   "metadata": {},
   "outputs": [
    {
     "data": {
      "text/plain": [
       "0.1800561145142473"
      ]
     },
     "execution_count": 32,
     "metadata": {},
     "output_type": "execute_result"
    }
   ],
   "source": [
    "L_1_f_norm(f, model.B.detach().numpy(), model.Tau.detach().numpy(), \n",
    "           data_model.B_t, data_model.tau_t, N = 10000)"
   ]
  },
  {
   "cell_type": "markdown",
   "id": "2e03a593",
   "metadata": {},
   "source": [
    "$$\\left|\\hat{\\tau} - \\frac{\\tau^*}{s}\\right|$$"
   ]
  },
  {
   "cell_type": "code",
   "execution_count": 33,
   "id": "629530e9",
   "metadata": {},
   "outputs": [],
   "source": [
    "# np.abs(model.Tau.detach().numpy()[0] - data_model.tau_t[0]/s)"
   ]
  },
  {
   "cell_type": "markdown",
   "id": "d8afb6ef",
   "metadata": {},
   "source": [
    "$$\\frac{\\left|\\hat{\\tau} - \\frac{\\tau^*}{s}\\right|}{\\frac{\\tau^*}{s}}$$"
   ]
  },
  {
   "cell_type": "code",
   "execution_count": 34,
   "id": "e636bad6",
   "metadata": {},
   "outputs": [],
   "source": [
    "# np.abs(model.Tau.detach().numpy()[0] - data_model.tau_t[0]/s)/ (data_model.tau_t[0]/s)"
   ]
  },
  {
   "cell_type": "code",
   "execution_count": 35,
   "id": "9d96894a",
   "metadata": {},
   "outputs": [
    {
     "data": {
      "text/plain": [
       "0.012987124303062321"
      ]
     },
     "execution_count": 35,
     "metadata": {},
     "output_type": "execute_result"
    }
   ],
   "source": [
    "(np.abs(M_t_normal - M_hat_normal.detach().numpy())).mean()"
   ]
  },
  {
   "cell_type": "code",
   "execution_count": 36,
   "id": "c7cc0a4a",
   "metadata": {},
   "outputs": [
    {
     "data": {
      "text/plain": [
       "0.04857210153103603"
      ]
     },
     "execution_count": 36,
     "metadata": {},
     "output_type": "execute_result"
    }
   ],
   "source": [
    "(np.abs(M_t_normal - M_hat_normal.detach().numpy())).max()"
   ]
  },
  {
   "cell_type": "code",
   "execution_count": 37,
   "id": "63d1911d-f23e-42c7-abd0-8cfaa2e30192",
   "metadata": {},
   "outputs": [
    {
     "data": {
      "text/plain": [
       "0.20736804889292856"
      ]
     },
     "execution_count": 37,
     "metadata": {},
     "output_type": "execute_result"
    }
   ],
   "source": [
    "np.sqrt(np.sum((M_t_normal - M_hat_normal.detach().numpy())**2))/np.sqrt((M_t_normal**2).sum())"
   ]
  },
  {
   "cell_type": "code",
   "execution_count": 38,
   "id": "40028187",
   "metadata": {},
   "outputs": [
    {
     "data": {
      "text/plain": [
       "0.8699792556868479"
      ]
     },
     "execution_count": 38,
     "metadata": {},
     "output_type": "execute_result"
    }
   ],
   "source": [
    "np.sqrt((M_t_normal**2).sum())"
   ]
  },
  {
   "cell_type": "code",
   "execution_count": 39,
   "id": "219f467f",
   "metadata": {},
   "outputs": [
    {
     "name": "stdout",
     "output_type": "stream",
     "text": [
      "[2.87487491]\n",
      "[1.3]\n",
      "2.2114422373481095\n"
     ]
    }
   ],
   "source": [
    "print(model.Tau.detach().numpy())\n",
    "print(np.array(tau))\n",
    "print(model.Tau.detach().numpy()[0]/np.array(tau)[0])"
   ]
  },
  {
   "cell_type": "code",
   "execution_count": 40,
   "id": "65a9248b",
   "metadata": {},
   "outputs": [
    {
     "data": {
      "text/plain": [
       "0.17879308737628827"
      ]
     },
     "execution_count": 40,
     "metadata": {},
     "output_type": "execute_result"
    }
   ],
   "source": [
    "L_1_f_norm(f, model.B.detach().numpy(), model.Tau.detach().numpy(), \n",
    "           data_model.B_t, data_model.tau_t, N = 10000)"
   ]
  },
  {
   "cell_type": "code",
   "execution_count": 2,
   "id": "61fcd1d5",
   "metadata": {},
   "outputs": [
    {
     "ename": "NameError",
     "evalue": "name 'np' is not defined",
     "output_type": "error",
     "traceback": [
      "\u001b[0;31m---------------------------------------------------------------------------\u001b[0m",
      "\u001b[0;31mNameError\u001b[0m                                 Traceback (most recent call last)",
      "\u001b[0;32m/var/folders/0y/hx4crw9178xfvr_01vxxcmkh0000gn/T/ipykernel_11683/2739346662.py\u001b[0m in \u001b[0;36m<module>\u001b[0;34m\u001b[0m\n\u001b[0;32m----> 1\u001b[0;31m \u001b[0ms_prime\u001b[0m \u001b[0;34m=\u001b[0m \u001b[0mnp\u001b[0m\u001b[0;34m.\u001b[0m\u001b[0marray\u001b[0m\u001b[0;34m(\u001b[0m\u001b[0mtau\u001b[0m\u001b[0;34m)\u001b[0m\u001b[0;34m[\u001b[0m\u001b[0;36m0\u001b[0m\u001b[0;34m]\u001b[0m\u001b[0;34m/\u001b[0m\u001b[0mmodel\u001b[0m\u001b[0;34m.\u001b[0m\u001b[0mTau\u001b[0m\u001b[0;34m.\u001b[0m\u001b[0mdetach\u001b[0m\u001b[0;34m(\u001b[0m\u001b[0;34m)\u001b[0m\u001b[0;34m.\u001b[0m\u001b[0mnumpy\u001b[0m\u001b[0;34m(\u001b[0m\u001b[0;34m)\u001b[0m\u001b[0;34m[\u001b[0m\u001b[0;36m0\u001b[0m\u001b[0;34m]\u001b[0m\u001b[0;34m\u001b[0m\u001b[0;34m\u001b[0m\u001b[0m\n\u001b[0m\u001b[1;32m      2\u001b[0m \u001b[0mprint\u001b[0m\u001b[0;34m(\u001b[0m\u001b[0ms_prime\u001b[0m\u001b[0;34m)\u001b[0m\u001b[0;34m\u001b[0m\u001b[0;34m\u001b[0m\u001b[0m\n",
      "\u001b[0;31mNameError\u001b[0m: name 'np' is not defined"
     ]
    }
   ],
   "source": [
    "s_prime = np.array(tau)[0]/model.Tau.detach().numpy()[0]\n",
    "print(s_prime)"
   ]
  },
  {
   "cell_type": "code",
   "execution_count": 42,
   "id": "2f629670",
   "metadata": {},
   "outputs": [
    {
     "name": "stdout",
     "output_type": "stream",
     "text": [
      "0.4717615780351006\n",
      "0.45631984859809355\n",
      "0.4563198485980935\n"
     ]
    }
   ],
   "source": [
    "print(loss(X_T - Y_T, D_T, data_model.B_t/np.sqrt(s_prime), data_model.tau_t/s_prime).item())\n",
    "print(loss(X_T - Y_T, D_T, model.B, model.Tau).item())\n",
    "print(model.loss_history[-1].item())"
   ]
  },
  {
   "cell_type": "code",
   "execution_count": 43,
   "id": "f7b01b3c",
   "metadata": {},
   "outputs": [
    {
     "name": "stdout",
     "output_type": "stream",
     "text": [
      "0.6435669048378596\n",
      "0.6394614976265417\n"
     ]
    }
   ],
   "source": [
    "print(loss(X_T - Y_T, D_T, data_model.B_t/data_model.tau_t[0], np.zeros(1)).item())\n",
    "print(loss(X_T - Y_T, D_T, model.B/model.Tau[0], np.zeros(1)).item())"
   ]
  },
  {
   "cell_type": "code",
   "execution_count": 44,
   "id": "540bba9a",
   "metadata": {},
   "outputs": [
    {
     "name": "stdout",
     "output_type": "stream",
     "text": [
      "test accuracy with noise (Using ground truth) =  0.898\n",
      "test accuracy without noise (Using ground truth) =  1.0\n"
     ]
    }
   ],
   "source": [
    "Pred_test = pred(X_test, Y_test, data_model.B_t, np.array(tau))\n",
    "print(\"test accuracy with noise (Using ground truth) = \", (Pred_test == D_test).sum().item()/D_test.shape[0])\n",
    "print(\"test accuracy without noise (Using ground truth) = \", (Pred_test == D_no_noise_test).sum().item()/D_no_noise_test.shape[0])"
   ]
  },
  {
   "cell_type": "code",
   "execution_count": 45,
   "id": "f1da1159",
   "metadata": {},
   "outputs": [
    {
     "name": "stdout",
     "output_type": "stream",
     "text": [
      "test accuracy with noise 0.8492\n",
      "test accuracy without noise 0.9412\n"
     ]
    }
   ],
   "source": [
    "Pred_test = pred(X_test, Y_test, model.B, model.Tau)\n",
    "print(\"test accuracy with noise\", (Pred_test == D_test).sum().item()/D_test.shape[0])\n",
    "print(\"test accuracy without noise\", (Pred_test == D_no_noise_test).sum().item()/D_no_noise_test.shape[0])"
   ]
  },
  {
   "cell_type": "code",
   "execution_count": 46,
   "id": "b4a27e04",
   "metadata": {},
   "outputs": [],
   "source": [
    "U_hat, S_hat, V_hat = LA.svd(M_hat_normal.detach().numpy(), full_matrices=False)"
   ]
  },
  {
   "cell_type": "code",
   "execution_count": 47,
   "id": "aa095a83",
   "metadata": {},
   "outputs": [],
   "source": [
    "U_t, S_t, V_t = LA.svd(M_t_normal, full_matrices=False)"
   ]
  },
  {
   "cell_type": "code",
   "execution_count": 48,
   "id": "4ca829e8",
   "metadata": {},
   "outputs": [
    {
     "data": {
      "text/plain": [
       "(1.4423064120095144, 1.5923076923076906)"
      ]
     },
     "execution_count": 48,
     "metadata": {},
     "output_type": "execute_result"
    }
   ],
   "source": [
    "S_hat.sum(), S_t.sum()"
   ]
  },
  {
   "cell_type": "code",
   "execution_count": 49,
   "id": "43c2af6c",
   "metadata": {},
   "outputs": [
    {
     "data": {
      "text/plain": [
       "array([5.48242975e-01, 4.41496080e-01, 2.37639476e-01, 1.02630534e-01,\n",
       "       9.29223005e-02, 1.93750466e-02, 9.67568355e-16, 4.31297207e-17,\n",
       "       1.67336947e-17, 5.74515291e-18])"
      ]
     },
     "execution_count": 49,
     "metadata": {},
     "output_type": "execute_result"
    }
   ],
   "source": [
    "S_hat"
   ]
  },
  {
   "cell_type": "code",
   "execution_count": 50,
   "id": "87c13445",
   "metadata": {},
   "outputs": [
    {
     "data": {
      "text/plain": [
       "array([6.84615385e-01, 4.53846154e-01, 2.46153846e-01, 1.07692308e-01,\n",
       "       1.00000000e-01, 4.36695175e-17, 2.06400798e-17, 1.41402615e-17,\n",
       "       1.24080830e-17, 2.09411824e-18])"
      ]
     },
     "execution_count": 50,
     "metadata": {},
     "output_type": "execute_result"
    }
   ],
   "source": [
    "S_t"
   ]
  },
  {
   "cell_type": "code",
   "execution_count": 51,
   "id": "81c62c5d",
   "metadata": {},
   "outputs": [
    {
     "data": {
      "image/png": "[encoded data removed]",
      "text/plain": [
       "<Figure size 432x288 with 1 Axes>"
      ]
     },
     "metadata": {
      "needs_background": "light"
     },
     "output_type": "display_data"
    }
   ],
   "source": [
    "plt.plot(S_hat, label = 'eigenvalues of M_hat/tau_hat', color= 'red')\n",
    "plt.plot(S_t, label = 'eigenvalues of M_star/tau_star', color = 'blue')\n",
    "plt.legend()\n",
    "plt.xlabel('#eigenvalue', fontsize=10)\n",
    "plt.ylabel('eigenvalue', fontsize=10)\n",
    "plt.title('eigenvalues of  M_hat/tau_hat and M_star/tau_star (Noisy_labeling)', fontsize= 12)\n",
    "plt.savefig(\"Images/Noisy_labeling/eigenNoisy_labeling\")\n",
    "plt.show()"
   ]
  },
  {
   "cell_type": "code",
   "execution_count": 52,
   "id": "52ea474e",
   "metadata": {},
   "outputs": [
    {
     "data": {
      "image/png": "[encoded data removed]",
      "text/plain": [
       "<Figure size 432x288 with 1 Axes>"
      ]
     },
     "metadata": {
      "needs_background": "light"
     },
     "output_type": "display_data"
    }
   ],
   "source": [
    "H = []\n",
    "m = 5\n",
    "for i in range(m):\n",
    "    H.append(proj(U_hat[:, i], U_t[:, :m]))\n",
    "    \n",
    "plt.plot([j+1 for j in range(m)], H, label = '1 - Cosine')\n",
    "plt.legend()\n",
    "plt.savefig(\"Images/Noisy_labeling/Cosine\")\n",
    "plt.show()"
   ]
  },
  {
   "cell_type": "code",
   "execution_count": 53,
   "id": "b50ad6dc",
   "metadata": {},
   "outputs": [],
   "source": [
    "np.savetxt(\"CSVs/Noisy_labeling/Cosine.csv\", \n",
    "           H,\n",
    "           delimiter =\", \", \n",
    "           fmt ='% s')"
   ]
  },
  {
   "cell_type": "code",
   "execution_count": 54,
   "id": "8b85af1a",
   "metadata": {},
   "outputs": [
    {
     "name": "stdout",
     "output_type": "stream",
     "text": [
      "0.973279221457072\n",
      "0.9818600283972175\n",
      "0.9862987342781209\n",
      "0.9726098732050529\n",
      "0.9579533704825323\n",
      "-0.03467831029353652\n",
      "-0.5183661122082401\n",
      "0.24674735543917986\n",
      "0.016789469143352227\n",
      "0.28489352164722315\n"
     ]
    }
   ],
   "source": [
    "for i in range(d):\n",
    "    print(np.dot(U_hat[:,i], U_t[:,i]))"
   ]
  },
  {
   "cell_type": "code",
   "execution_count": 55,
   "id": "b572a29a",
   "metadata": {},
   "outputs": [
    {
     "data": {
      "text/plain": [
       "array([ 0.97327922,  0.98186003,  0.98629873,  0.97260987,  0.95795337,\n",
       "       -0.03467831, -0.51836611,  0.24674736,  0.01678947,  0.28489352])"
      ]
     },
     "execution_count": 55,
     "metadata": {},
     "output_type": "execute_result"
    }
   ],
   "source": [
    "np.diag(U_hat.T @ U_t)"
   ]
  },
  {
   "cell_type": "code",
   "execution_count": 56,
   "id": "21af9a27",
   "metadata": {},
   "outputs": [
    {
     "data": {
      "image/png": "[encoded data removed]",
      "text/plain": [
       "<Figure size 432x288 with 1 Axes>"
      ]
     },
     "metadata": {
      "needs_background": "light"
     },
     "output_type": "display_data"
    }
   ],
   "source": [
    "I = model.epoch_history\n",
    "plt.plot(I, model.train_accuracy_with_noise, label = 'train_accuracy_with_noise', color = 'black')\n",
    "plt.plot(I, model.train_accuracy_without_noise, label = 'train_accuracy_without_noise', color = 'red')\n",
    "plt.plot(I, model.test_accuracy_with_noise, label = 'test_accuracy_with_noise', color = 'green')\n",
    "plt.plot(I, model.test_accuracy_without_noise, label = 'test_accuracy_without_noise', color = 'blue')\n",
    "plt.legend()\n",
    "\n",
    "plt.xlabel('epoch', fontsize=10)\n",
    "plt.ylabel('accuracy', fontsize=10)\n",
    "plt.title('Test and Train accuracy vs Epochs (Noisy_labeling)', fontsize=12)\n",
    "plt.savefig(\"Images/Noisy_labeling/Test_and_Train_accuracy_vs_epochs\")\n",
    "plt.show()"
   ]
  },
  {
   "cell_type": "code",
   "execution_count": 57,
   "id": "b3a000e8",
   "metadata": {},
   "outputs": [],
   "source": [
    "np.savetxt(\"CSVs/Noisy_labeling/model_epoch_history.csv\", \n",
    "           model.epoch_history,\n",
    "           delimiter =\", \", \n",
    "           fmt ='% s')"
   ]
  },
  {
   "cell_type": "code",
   "execution_count": 58,
   "id": "ba577321",
   "metadata": {},
   "outputs": [],
   "source": [
    "np.savetxt(\"CSVs/Noisy_labeling/model_train_accuracy_with_noise.csv\", \n",
    "           model.train_accuracy_with_noise,\n",
    "           delimiter =\", \", \n",
    "           fmt ='% s')"
   ]
  },
  {
   "cell_type": "code",
   "execution_count": 59,
   "id": "6ae11a82",
   "metadata": {},
   "outputs": [],
   "source": [
    "np.savetxt(\"CSVs/Noisy_labeling/model_train_accuracy_without_noise.csv\", \n",
    "           model.train_accuracy_without_noise,\n",
    "           delimiter =\", \", \n",
    "           fmt ='% s')"
   ]
  },
  {
   "cell_type": "code",
   "execution_count": 60,
   "id": "81d8e45f",
   "metadata": {},
   "outputs": [],
   "source": [
    "np.savetxt(\"CSVs/Noisy_labeling/model_test_accuracy_with_noise.csv\", \n",
    "           model.test_accuracy_with_noise,\n",
    "           delimiter =\", \", \n",
    "           fmt ='% s')"
   ]
  },
  {
   "cell_type": "code",
   "execution_count": 61,
   "id": "7fa2e33f",
   "metadata": {},
   "outputs": [],
   "source": [
    "np.savetxt(\"CSVs/Noisy_labeling/model_test_accuracy_without_noise.csv\", \n",
    "           model.test_accuracy_without_noise,\n",
    "           delimiter =\", \", \n",
    "           fmt ='% s')"
   ]
  },
  {
   "cell_type": "code",
   "execution_count": 62,
   "id": "abc49f33",
   "metadata": {},
   "outputs": [
    {
     "data": {
      "text/plain": [
       "0.4563198485980935"
      ]
     },
     "execution_count": 62,
     "metadata": {},
     "output_type": "execute_result"
    }
   ],
   "source": [
    "model.loss_history[-1].item()"
   ]
  },
  {
   "cell_type": "code",
   "execution_count": 63,
   "id": "aa16aadb",
   "metadata": {},
   "outputs": [],
   "source": [
    "# loss(X_T - Y_T, D_T, model.B, model.Tau).item()\n",
    "l_value = loss(X_T - Y_T, D_T, data_model.B_t/np.sqrt(s_prime), data_model.tau_t/s_prime).item()\n",
    "I_ = np.array([l_value for _ in I])"
   ]
  },
  {
   "cell_type": "code",
   "execution_count": 64,
   "id": "290f6d99",
   "metadata": {},
   "outputs": [
    {
     "data": {
      "image/png": "[encoded data removed]",
      "text/plain": [
       "<Figure size 432x288 with 1 Axes>"
      ]
     },
     "metadata": {
      "needs_background": "light"
     },
     "output_type": "display_data"
    }
   ],
   "source": [
    "plt.plot(I[:], model.loss_history[:], label = 'loss_history', color = 'blue')\n",
    "plt.plot(I[:], I_[:], label = 'loss_on_M_star', color = 'red')\n",
    "plt.legend()\n",
    "plt.xlabel('# iteration', fontsize=10)\n",
    "plt.ylabel('loss', fontsize=10)\n",
    "plt.title('loss_history vs iteration (Noisy_labeling)', fontsize=12)\n",
    "plt.savefig(\"Images/Noisy_labeling/loss_history_vs_iteration\")\n",
    "plt.show()"
   ]
  },
  {
   "cell_type": "code",
   "execution_count": 65,
   "id": "22a85ff6",
   "metadata": {},
   "outputs": [],
   "source": [
    "np.savetxt(\"CSVs/Noisy_labeling/model.loss_history.csv\", \n",
    "           model.loss_history,\n",
    "           delimiter =\", \", \n",
    "           fmt ='% s')"
   ]
  },
  {
   "cell_type": "code",
   "execution_count": 66,
   "id": "483defb8",
   "metadata": {},
   "outputs": [],
   "source": [
    "np.savetxt(\"CSVs/Noisy_labeling/true_loss_history.csv\", \n",
    "           I_,\n",
    "           delimiter =\", \", \n",
    "           fmt ='% s')"
   ]
  },
  {
   "cell_type": "code",
   "execution_count": 67,
   "id": "6dd2ed6d",
   "metadata": {},
   "outputs": [
    {
     "data": {
      "text/plain": [
       "0.17608872433132183"
      ]
     },
     "execution_count": 67,
     "metadata": {},
     "output_type": "execute_result"
    }
   ],
   "source": [
    "model.L_1_f_norm_history[-1]"
   ]
  },
  {
   "cell_type": "code",
   "execution_count": 68,
   "id": "56d6f6a4",
   "metadata": {
    "scrolled": true
   },
   "outputs": [
    {
     "data": {
      "image/png": "[encoded data removed]",
      "text/plain": [
       "<Figure size 432x288 with 1 Axes>"
      ]
     },
     "metadata": {
      "needs_background": "light"
     },
     "output_type": "display_data"
    }
   ],
   "source": [
    "plt.plot(I[:], model.L_1_f_norm_history[:], label = 'L_1_f_norm_history', color = 'blue')\n",
    "plt.legend()\n",
    "plt.xlabel('# iteration', fontsize=10)\n",
    "plt.ylabel('norm_history', fontsize=10)\n",
    "plt.title('L_1_f_norm_history vs iteration (Noisy_labeling)', fontsize=12)\n",
    "plt.savefig(\"Images/Noisy_labeling/norm_history_vs_iteration\")\n",
    "plt.show()"
   ]
  },
  {
   "cell_type": "code",
   "execution_count": 69,
   "id": "8bd9a8d3",
   "metadata": {},
   "outputs": [],
   "source": [
    "np.savetxt(\"CSVs/Noisy_labeling/model_L_1_f_norm_history.csv\", \n",
    "           model.L_1_f_norm_history,\n",
    "           delimiter =\", \", \n",
    "           fmt ='% s')"
   ]
  },
  {
   "cell_type": "markdown",
   "id": "91334e81",
   "metadata": {},
   "source": [
    "### Sample Complexity"
   ]
  },
  {
   "cell_type": "code",
   "execution_count": 70,
   "id": "3776bcc1",
   "metadata": {},
   "outputs": [],
   "source": [
    "noise = 0.2\n",
    "d = 10\n",
    "k = 10\n",
    "n_labels = len(tau)+1"
   ]
  },
  {
   "cell_type": "code",
   "execution_count": 71,
   "id": "b0f21314",
   "metadata": {
    "scrolled": true
   },
   "outputs": [
    {
     "name": "stdout",
     "output_type": "stream",
     "text": [
      "round for N = 10 has started\n",
      "round for N = 20 has started\n",
      "round for N = 30 has started\n",
      "round for N = 40 has started\n",
      "round for N = 50 has started\n",
      "round for N = 60 has started\n",
      "round for N = 70 has started\n",
      "round for N = 80 has started\n",
      "round for N = 90 has started\n",
      "round for N = 100 has started\n",
      "round for N = 200 has started\n",
      "round for N = 300 has started\n",
      "round for N = 400 has started\n",
      "round for N = 500 has started\n",
      "round for N = 600 has started\n",
      "round for N = 700 has started\n",
      "round for N = 800 has started\n",
      "round for N = 900 has started\n",
      "round for N = 1000 has started\n",
      "round for N = 2000 has started\n",
      "round for N = 3000 has started\n",
      "round for N = 4000 has started\n",
      "round for N = 5000 has started\n",
      "round for N = 10000 has started\n",
      "round for N = 15000 has started\n"
     ]
    }
   ],
   "source": [
    "H = []\n",
    "J = []\n",
    "N = 0\n",
    "while N <= 10000:\n",
    "    if N < 100:\n",
    "        N += 10\n",
    "    elif N < 1000:\n",
    "        N += 100\n",
    "    elif N < 5000:\n",
    "        N+= 1000\n",
    "    else: N += 5000\n",
    "    \n",
    "    \n",
    "    X, Y, D_noisy, D_no_noisy = data_model.generate(f, \n",
    "                                                    N + 2000, \n",
    "                                                    tau = np.array(tau), \n",
    "                                                    noise_type = 'Noisy_labeling', \n",
    "                                                    noise_par = noise)\n",
    "    X = torch.tensor(X, dtype = torch.float64)\n",
    "    Y = torch.tensor(Y, dtype = torch.float64)\n",
    "    D_noisy = torch.tensor(D_noisy, dtype = torch.torch.int64)\n",
    "    D_no_noisy = torch.tensor(D_no_noisy, dtype = torch.torch.int64)\n",
    "        \n",
    "    print('round for N = {} has started'.format(N))\n",
    "    \n",
    "    J.append(N)\n",
    "    X, Y, D, X_T, Y_T, D_T, D_no_noise_T, X_test, Y_test, D_test, D_no_noise_test = train_test_split(X, \n",
    "                                                                                                     Y, \n",
    "                                                                                                 D_noisy, \n",
    "                                                                                                 D_no_noisy, \n",
    "                                                                                                 n_train = N)\n",
    "    model = ML(d, k, n_labels, \n",
    "               X_T, Y_T, \n",
    "               D_T, D_no_noise_T, \n",
    "               X_test, Y_test, \n",
    "               D_test, D_no_noise_test) \n",
    "    \n",
    "    model.train(learning_rate = 1e-1, \n",
    "                n_iters = 30000, \n",
    "                decay = .95, \n",
    "                show_log = False)\n",
    "    H.append(model)"
   ]
  },
  {
   "cell_type": "code",
   "execution_count": 72,
   "id": "2d39ad4d",
   "metadata": {},
   "outputs": [
    {
     "data": {
      "text/plain": [
       "0.9529"
      ]
     },
     "execution_count": 72,
     "metadata": {},
     "output_type": "execute_result"
    }
   ],
   "source": [
    "H[-1].accuracy(X_new, Y_new, D_new)"
   ]
  },
  {
   "cell_type": "code",
   "execution_count": 73,
   "id": "1f3a83fa",
   "metadata": {},
   "outputs": [],
   "source": [
    "test_accuracy_no_noise  = [H[i].accuracy(X_new, Y_new, D_new) for i in range(len(H))]"
   ]
  },
  {
   "cell_type": "code",
   "execution_count": 74,
   "id": "e4ff48ac",
   "metadata": {},
   "outputs": [
    {
     "data": {
      "image/png": "[encoded data removed]",
      "text/plain": [
       "<Figure size 432x288 with 1 Axes>"
      ]
     },
     "metadata": {
      "needs_background": "light"
     },
     "output_type": "display_data"
    }
   ],
   "source": [
    "plt.plot(J, test_accuracy_no_noise, label = 'test_accuracy (no noise)', color = 'blue')\n",
    "plt.legend()\n",
    "plt.xlabel('# samples', fontsize=10)\n",
    "plt.ylabel('accuracy', fontsize=10)\n",
    "plt.title('test_accuracy (no noise) vs sample complexity (Noisy_labeling)', fontsize=12)\n",
    "plt.savefig(\"Images/Noisy_labeling/test_accuracy_(no_noise)_vs_sample_complexity\")\n",
    "plt.show()"
   ]
  },
  {
   "cell_type": "code",
   "execution_count": 75,
   "id": "5f01c91e",
   "metadata": {},
   "outputs": [],
   "source": [
    "np.savetxt(\"CSVs/Noisy_labeling/test_accuracy_no_noise.csv\", \n",
    "           test_accuracy_no_noise,\n",
    "           delimiter =\", \", \n",
    "           fmt ='% s')"
   ]
  },
  {
   "cell_type": "code",
   "execution_count": 76,
   "id": "0556af48",
   "metadata": {},
   "outputs": [],
   "source": [
    "np.savetxt(\"CSVs/Noisy_labeling/number_samples_list.csv\", \n",
    "           J,\n",
    "           delimiter =\", \", \n",
    "           fmt ='% s')"
   ]
  },
  {
   "cell_type": "code",
   "execution_count": 77,
   "id": "01ee03d9",
   "metadata": {},
   "outputs": [],
   "source": [
    "test_accuracy_noisy  = [H[i].accuracy(H[i].X_test, H[i].Y_test, H[i].D_test) for i in range(len(H))]"
   ]
  },
  {
   "cell_type": "code",
   "execution_count": 78,
   "id": "3f9deb36",
   "metadata": {},
   "outputs": [
    {
     "data": {
      "image/png": "[encoded data removed]",
      "text/plain": [
       "<Figure size 432x288 with 1 Axes>"
      ]
     },
     "metadata": {
      "needs_background": "light"
     },
     "output_type": "display_data"
    }
   ],
   "source": [
    "plt.plot(J, test_accuracy_noisy, label = 'test_accuracy(noisy)', color = 'blue')\n",
    "plt.legend()\n",
    "plt.xlabel('# samples', fontsize=10)\n",
    "plt.ylabel('accuracy', fontsize=10)\n",
    "plt.title('test_accuracy (noisy) vs sample complexity (Noisy_labeling)', fontsize=10)\n",
    "plt.savefig(\"Images/Noisy_labeling/test_accuracy_(noisy)_vs_sample_complexity\")\n",
    "plt.show()"
   ]
  },
  {
   "cell_type": "code",
   "execution_count": 79,
   "id": "1e8f78da",
   "metadata": {},
   "outputs": [],
   "source": [
    "np.savetxt(\"CSVs/Noisy_labeling/test_accuracy_noisy.csv\", \n",
    "           test_accuracy_noisy,\n",
    "           delimiter =\", \", \n",
    "           fmt ='% s')"
   ]
  },
  {
   "cell_type": "code",
   "execution_count": 80,
   "id": "2930c688",
   "metadata": {},
   "outputs": [],
   "source": [
    "train_accuracy_noisy  = [H[i].accuracy(H[i].X_T, H[i].Y_T, H[i].D_T) for i in range(len(H))]"
   ]
  },
  {
   "cell_type": "code",
   "execution_count": 81,
   "id": "85ef2531",
   "metadata": {},
   "outputs": [
    {
     "data": {
      "image/png": "[encoded data removed]",
      "text/plain": [
       "<Figure size 432x288 with 1 Axes>"
      ]
     },
     "metadata": {
      "needs_background": "light"
     },
     "output_type": "display_data"
    }
   ],
   "source": [
    "plt.plot(J, train_accuracy_noisy, label = 'train_accuracy (noisy)', color = 'blue')\n",
    "plt.legend()\n",
    "plt.xlabel('# samples', fontsize=10)\n",
    "plt.ylabel('accuracy', fontsize=10)\n",
    "plt.title('train_accuracy (noisy) vs sample complexity (Noisy_labeling)', fontsize=12)\n",
    "plt.savefig(\"Images/Noisy_labeling/train_accuracy_(noisy)_vs_sample_complexity\")\n",
    "plt.show()"
   ]
  },
  {
   "cell_type": "code",
   "execution_count": 82,
   "id": "dd212478",
   "metadata": {},
   "outputs": [],
   "source": [
    "np.savetxt(\"CSVs/Noisy_labeling/train_accuracy_noisy.csv\", \n",
    "           train_accuracy_noisy,\n",
    "           delimiter =\", \", \n",
    "           fmt ='% s')"
   ]
  },
  {
   "cell_type": "code",
   "execution_count": 83,
   "id": "a7df28d0",
   "metadata": {},
   "outputs": [],
   "source": [
    "train_accuracy_no_noisy  = [H[i].accuracy(H[i].X_T, H[i].Y_T, H[i].D_no_noise_T) for i in range(len(H))]"
   ]
  },
  {
   "cell_type": "code",
   "execution_count": 84,
   "id": "25e7ba8e",
   "metadata": {},
   "outputs": [
    {
     "data": {
      "image/png": "[encoded data removed]",
      "text/plain": [
       "<Figure size 432x288 with 1 Axes>"
      ]
     },
     "metadata": {
      "needs_background": "light"
     },
     "output_type": "display_data"
    }
   ],
   "source": [
    "plt.plot(J, train_accuracy_no_noisy, label = 'train_accuracy (no noise)', color = 'blue')\n",
    "plt.legend()\n",
    "plt.xlabel('# samples', fontsize=10)\n",
    "plt.ylabel('accuracy', fontsize=10)\n",
    "plt.title('train_accuracy (no noise) vs sample complexity (Noisy_labeling)', fontsize=12)\n",
    "plt.savefig(\"Images/Noisy_labeling/train_accuracy_(no_noise)_vs_sample_complexity\")\n",
    "plt.show()"
   ]
  },
  {
   "cell_type": "code",
   "execution_count": 85,
   "id": "de46fc03",
   "metadata": {},
   "outputs": [],
   "source": [
    "np.savetxt(\"CSVs/Noisy_labeling/train_accuracy_no_noisy.csv\", \n",
    "           train_accuracy_no_noisy,\n",
    "           delimiter =\", \", \n",
    "           fmt ='% s')"
   ]
  },
  {
   "cell_type": "code",
   "execution_count": 86,
   "id": "fb194766",
   "metadata": {},
   "outputs": [
    {
     "data": {
      "image/png": "[encoded data removed]",
      "text/plain": [
       "<Figure size 432x288 with 1 Axes>"
      ]
     },
     "metadata": {
      "needs_background": "light"
     },
     "output_type": "display_data"
    }
   ],
   "source": [
    "plt.plot(J, train_accuracy_no_noisy, label = 'train_accuracy (no noise)', color = 'blue')\n",
    "plt.plot(J, train_accuracy_noisy, label = 'train_accuracy (noisy)', color = 'red')\n",
    "plt.plot(J, test_accuracy_noisy, label = 'test_accuracy(noisy)', color = 'green')\n",
    "plt.plot(J, test_accuracy_no_noise, label = 'test_accuracy (no noise)', color = 'magenta')\n",
    "\n",
    "plt.legend()\n",
    "plt.xlabel('# samples', fontsize=10)\n",
    "plt.ylabel('accuracy', fontsize=10)\n",
    "plt.title('train_accuracy (no noise) vs sample complexity (Noisy_labeling)', fontsize=12)\n",
    "plt.savefig(\"Images/Noisy_labeling/accuracy_vs_sample_complexity\")\n",
    "plt.show()"
   ]
  },
  {
   "cell_type": "code",
   "execution_count": 87,
   "id": "f1f1c7b3",
   "metadata": {},
   "outputs": [
    {
     "data": {
      "image/png": "[encoded data removed]",
      "text/plain": [
       "<Figure size 432x288 with 1 Axes>"
      ]
     },
     "metadata": {
      "needs_background": "light"
     },
     "output_type": "display_data"
    }
   ],
   "source": [
    "I = H[-1].epoch_history[:]\n",
    "plt.plot(I, H[-1].train_accuracy_with_noise[:], label = 'train_accuracy_with_noise', color = 'black')\n",
    "plt.plot(I, H[-1].train_accuracy_without_noise[:], label = 'train_accuracy_without_noise', color = 'red')\n",
    "plt.plot(I, H[-1].test_accuracy_with_noise[:], label = 'test_accuracy_with_noise', color = 'green')\n",
    "plt.plot(I, H[-1].test_accuracy_without_noise[:], label = 'test_accuracy_without_noise', color = 'blue')\n",
    "plt.legend()\n",
    "plt.xlabel('# Epoch', fontsize=10)\n",
    "plt.ylabel('Accuracy', fontsize=10)\n",
    "plt.title('Accuracy vs Epoch', fontsize=12)\n",
    "plt.savefig('Images/Noisy_labeling/Accuracy_vs_Epoch')\n",
    "plt.show()"
   ]
  },
  {
   "cell_type": "markdown",
   "id": "e7434d83-257f-4307-bcc9-0f2f6d066b3a",
   "metadata": {
    "tags": []
   },
   "source": [
    "### How much noise breaks the model!"
   ]
  },
  {
   "cell_type": "code",
   "execution_count": 88,
   "id": "93495969-a9b7-4cb7-89d4-c1e071e37814",
   "metadata": {},
   "outputs": [
    {
     "name": "stdout",
     "output_type": "stream",
     "text": [
      "[1.3]\n"
     ]
    }
   ],
   "source": [
    "print(tau)\n",
    "N = 20000"
   ]
  },
  {
   "cell_type": "code",
   "execution_count": 89,
   "id": "216bbf84-2571-46f8-a803-35cbf67cfd0f",
   "metadata": {},
   "outputs": [
    {
     "name": "stdout",
     "output_type": "stream",
     "text": [
      "the amount of noise: 0.2938\n"
     ]
    }
   ],
   "source": [
    "X, Y, D_noisy, D_no_noisy = data_model.generate(f, N, tau = np.array(tau), \n",
    "                                          noise_type = 'Noisy_labeling', noise_par = 0.6)\n",
    "noise_amount = (D_noisy != D_no_noisy).mean()\n",
    "print('the amount of noise: {}'.format(noise_amount))"
   ]
  },
  {
   "cell_type": "code",
   "execution_count": 90,
   "id": "4fcc3ece-d4d6-4274-aec0-95228e69564f",
   "metadata": {},
   "outputs": [
    {
     "data": {
      "text/plain": [
       "(10050, 9950, 0.4975)"
      ]
     },
     "execution_count": 90,
     "metadata": {},
     "output_type": "execute_result"
    }
   ],
   "source": [
    "(D_no_noisy == 0).sum(), (D_no_noisy == 1).sum(), (D_no_noisy == 1).sum()/N"
   ]
  },
  {
   "cell_type": "code",
   "execution_count": 91,
   "id": "782489d0-5fd6-40d9-b36e-397d6c235116",
   "metadata": {},
   "outputs": [],
   "source": [
    "noise_list = 2 * genfromtxt('CSVs/logistic/noise_list_history.csv', delimiter = ',')"
   ]
  },
  {
   "cell_type": "code",
   "execution_count": 92,
   "id": "441fadd6",
   "metadata": {},
   "outputs": [
    {
     "data": {
      "text/plain": [
       "array([0.        , 0.09857143, 0.19985714, 0.29235714, 0.36664286,\n",
       "       0.43607143, 0.48335714, 0.54057143, 0.57214286, 0.60142857,\n",
       "       0.63114286, 0.68142857, 0.70957143, 0.74157143, 0.7675    ,\n",
       "       0.78614286, 0.80714286, 0.90271429, 0.992     ])"
      ]
     },
     "execution_count": 92,
     "metadata": {},
     "output_type": "execute_result"
    }
   ],
   "source": [
    "noise_list"
   ]
  },
  {
   "cell_type": "code",
   "execution_count": 93,
   "id": "5693a13b-02ba-4c41-b23d-83445655572b",
   "metadata": {},
   "outputs": [
    {
     "name": "stdout",
     "output_type": "stream",
     "text": [
      "the amount of noise: 0.0\n",
      "train_accuracy (noisey) = 0.9971666666666666\n",
      "test_accuracy (noisey) = 0.994\n",
      "train_accuracy (no noise) = 0.9971666666666666\n",
      "test_accuracy (no noise) = 0.994\n",
      "\n",
      "\n",
      "the amount of noise: 0.04864285714285714\n",
      "train_accuracy (noisey) = 0.9216111111111112\n",
      "test_accuracy (noisey) = 0.9229\n",
      "train_accuracy (no noise) = 0.9682777777777778\n",
      "test_accuracy (no noise) = 0.9683\n",
      "\n",
      "\n",
      "the amount of noise: 0.09896428571428571\n",
      "train_accuracy (noisey) = 0.8608888888888889\n",
      "test_accuracy (noisey) = 0.8593\n",
      "train_accuracy (no noise) = 0.9502777777777778\n",
      "test_accuracy (no noise) = 0.9523\n",
      "\n",
      "\n",
      "the amount of noise: 0.14539285714285713\n",
      "train_accuracy (noisey) = 0.8078888888888889\n",
      "test_accuracy (noisey) = 0.8075\n",
      "train_accuracy (no noise) = 0.9315555555555556\n",
      "test_accuracy (no noise) = 0.9332\n",
      "\n",
      "\n",
      "the amount of noise: 0.17735714285714285\n",
      "train_accuracy (noisey) = 0.7728333333333334\n",
      "test_accuracy (noisey) = 0.7751\n",
      "train_accuracy (no noise) = 0.9207222222222222\n",
      "test_accuracy (no noise) = 0.9225\n",
      "\n",
      "\n",
      "the amount of noise: 0.21817857142857142\n",
      "train_accuracy (noisey) = 0.7347777777777778\n",
      "test_accuracy (noisey) = 0.7257\n",
      "train_accuracy (no noise) = 0.9117222222222222\n",
      "test_accuracy (no noise) = 0.9109\n",
      "\n",
      "\n",
      "the amount of noise: 0.245\n",
      "train_accuracy (noisey) = 0.7097777777777777\n",
      "test_accuracy (noisey) = 0.7067\n",
      "train_accuracy (no noise) = 0.9120555555555555\n",
      "test_accuracy (no noise) = 0.906\n",
      "\n",
      "\n",
      "the amount of noise: 0.26707142857142857\n",
      "train_accuracy (noisey) = 0.6858333333333333\n",
      "test_accuracy (noisey) = 0.6954\n",
      "train_accuracy (no noise) = 0.9037777777777778\n",
      "test_accuracy (no noise) = 0.9081\n",
      "\n",
      "\n",
      "the amount of noise: 0.2875357142857143\n",
      "train_accuracy (noisey) = 0.6754444444444444\n",
      "test_accuracy (noisey) = 0.6641\n",
      "train_accuracy (no noise) = 0.8979444444444444\n",
      "test_accuracy (no noise) = 0.8963\n",
      "\n",
      "\n",
      "the amount of noise: 0.3079642857142857\n",
      "train_accuracy (noisey) = 0.653\n",
      "test_accuracy (noisey) = 0.644\n",
      "train_accuracy (no noise) = 0.887\n",
      "test_accuracy (no noise) = 0.8863\n",
      "\n",
      "\n",
      "the amount of noise: 0.31735714285714284\n",
      "train_accuracy (noisey) = 0.6411666666666667\n",
      "test_accuracy (noisey) = 0.6405\n",
      "train_accuracy (no noise) = 0.8880555555555556\n",
      "test_accuracy (no noise) = 0.8855\n",
      "\n",
      "\n",
      "the amount of noise: 0.33832142857142855\n",
      "train_accuracy (noisey) = 0.6251111111111111\n",
      "test_accuracy (noisey) = 0.6184\n",
      "train_accuracy (no noise) = 0.8791666666666667\n",
      "test_accuracy (no noise) = 0.8754\n",
      "\n",
      "\n",
      "the amount of noise: 0.34932142857142856\n",
      "train_accuracy (noisey) = 0.6166111111111111\n",
      "test_accuracy (noisey) = 0.6167\n",
      "train_accuracy (no noise) = 0.8786111111111111\n",
      "test_accuracy (no noise) = 0.881\n",
      "\n",
      "\n",
      "the amount of noise: 0.3715\n",
      "train_accuracy (noisey) = 0.6\n",
      "test_accuracy (noisey) = 0.5844\n",
      "train_accuracy (no noise) = 0.8706666666666667\n",
      "test_accuracy (no noise) = 0.8646\n",
      "\n",
      "\n",
      "the amount of noise: 0.38171428571428573\n",
      "train_accuracy (noisey) = 0.5882777777777778\n",
      "test_accuracy (noisey) = 0.5787\n",
      "train_accuracy (no noise) = 0.8462777777777778\n",
      "test_accuracy (no noise) = 0.8469\n",
      "\n",
      "\n",
      "the amount of noise: 0.3957857142857143\n",
      "train_accuracy (noisey) = 0.5791666666666667\n",
      "test_accuracy (noisey) = 0.5786\n",
      "train_accuracy (no noise) = 0.8786666666666667\n",
      "test_accuracy (no noise) = 0.8737\n",
      "\n",
      "\n",
      "the amount of noise: 0.40182142857142855\n",
      "train_accuracy (noisey) = 0.5717777777777778\n",
      "test_accuracy (noisey) = 0.5658\n",
      "train_accuracy (no noise) = 0.847\n",
      "test_accuracy (no noise) = 0.8451\n",
      "\n",
      "\n",
      "the amount of noise: 0.44735714285714284\n",
      "train_accuracy (noisey) = 0.5330555555555555\n",
      "test_accuracy (noisey) = 0.5318\n",
      "train_accuracy (no noise) = 0.7692777777777777\n",
      "test_accuracy (no noise) = 0.767\n",
      "\n",
      "\n",
      "the amount of noise: 0.49060714285714285\n",
      "train_accuracy (noisey) = 0.516\n",
      "test_accuracy (noisey) = 0.5001\n",
      "train_accuracy (no noise) = 0.6376666666666667\n",
      "test_accuracy (no noise) = 0.6378\n",
      "\n",
      "\n"
     ]
    }
   ],
   "source": [
    "N=28000\n",
    "d = 10\n",
    "k = 10\n",
    "n_labels = len(tau) + 1\n",
    "noise_list_history = []\n",
    "model_history = []\n",
    "for noise in noise_list:\n",
    "    X, Y, D_noisy, D_no_noisy = data_model.generate(f, N, tau = np.array(tau), \n",
    "                                                    noise_type = 'Noisy_labeling', noise_par = noise)\n",
    "    noise_amount = (D_noisy != D_no_noisy).mean()\n",
    "    print('the amount of noise: {}'.format(noise_amount))\n",
    "    noise_list_history.append(noise_amount)\n",
    "    \n",
    "    X = torch.tensor(X, dtype = torch.float64)\n",
    "    Y = torch.tensor(Y, dtype = torch.float64)\n",
    "    D_noisy = torch.tensor(D_noisy, dtype = torch.torch.int64)\n",
    "    D_no_noisy = torch.tensor(D_no_noisy, dtype = torch.torch.int64)\n",
    "    \n",
    "    X, Y, D, X_T, Y_T, D_T, D_no_noise_T, X_test, Y_test, D_test, D_no_noise_test = train_test_split(X,\n",
    "                                                                                                     Y, \n",
    "                                                                                                     D_noisy, \n",
    "                                                                                                     D_no_noisy, \n",
    "                                                                                                    n_train = 18000)\n",
    "    model = ML(d, k, n_labels, \n",
    "               X_T, Y_T, D_T, D_no_noise_T,\n",
    "               X_test, Y_test, D_test, D_no_noise_test)\n",
    "    \n",
    "    model.train(learning_rate = 1e-1, \n",
    "                n_iters = 30001, \n",
    "                decay = .95, \n",
    "                show_log = False)\n",
    "    \n",
    "    model_history.append(model)\n",
    "    \n",
    "    print('train_accuracy (noisey) = {}'.format(model_history[-1].accuracy(model_history[-1].X_T, \n",
    "                                                                           model_history[-1].Y_T, \n",
    "                                                                           model_history[-1].D_T)))\n",
    "    \n",
    "    print('test_accuracy (noisey) = {}'.format(model_history[-1].accuracy(model_history[-1].X_test, \n",
    "                                                                          model_history[-1].Y_test, \n",
    "                                                                          model_history[-1].D_test)))\n",
    "    \n",
    "    print('train_accuracy (no noise) = {}'.format(model_history[-1].accuracy(model_history[-1].X_T, \n",
    "                                                                             model_history[-1].Y_T, \n",
    "                                                                             model_history[-1].D_no_noise_T)))\n",
    "    \n",
    "    print('test_accuracy (no noise) = {}'.format(model_history[-1].accuracy(model_history[-1].X_test, \n",
    "                                                                            model_history[-1].Y_test, \n",
    "                                                                            model_history[-1].D_no_noise_test)))\n",
    "    print('\\n')"
   ]
  },
  {
   "cell_type": "code",
   "execution_count": 94,
   "id": "6f7a926e",
   "metadata": {},
   "outputs": [],
   "source": [
    "np.savetxt(\"CSVs/Noisy_labeling/noise_list_history.csv\", \n",
    "           noise_list_history,\n",
    "           delimiter =\", \", \n",
    "           fmt ='% s')"
   ]
  },
  {
   "cell_type": "code",
   "execution_count": 95,
   "id": "184b1dd1-dd70-4fee-8394-f5c982c8ae9c",
   "metadata": {},
   "outputs": [],
   "source": [
    "# plt.plot(noise_par_list, noise_list_history, label = 'variance VS noise', color = 'blue')\n",
    "# plt.legend()\n",
    "# plt.ylabel('# Noise', fontsize = 10)\n",
    "# plt.xlabel('variance', fontsize = 10)\n",
    "# # plt.title('unseen_accuracy (no noise) vs sample complexity', fontsize = 10)\n",
    "# plt.show()"
   ]
  },
  {
   "cell_type": "code",
   "execution_count": 96,
   "id": "9bdca8ad-02a2-4190-baab-87c9774e205b",
   "metadata": {},
   "outputs": [],
   "source": [
    "X_new, Y_new, _, D_new = data_model.generate(f, \n",
    "                                             N = 10000, \n",
    "                                             tau = np.array(tau), \n",
    "                                             noise_type = None, \n",
    "                                             noise_par = None)\n",
    "X_new = torch.tensor(X_new, dtype = torch.float64)\n",
    "Y_new = torch.tensor(Y_new, dtype = torch.float64)\n",
    "D_new = torch.tensor(D_new, dtype = torch.torch.int64)"
   ]
  },
  {
   "cell_type": "code",
   "execution_count": 97,
   "id": "cb695bdf-ac89-4b56-9a07-d92500fb4a47",
   "metadata": {},
   "outputs": [
    {
     "data": {
      "image/png": "[encoded data removed]",
      "text/plain": [
       "<Figure size 432x288 with 1 Axes>"
      ]
     },
     "metadata": {
      "needs_background": "light"
     },
     "output_type": "display_data"
    }
   ],
   "source": [
    "test_accuracy_no_noise  = [model_history[i].accuracy(X_new, \n",
    "                                                     Y_new, \n",
    "                                                     D_new) for i in range(len(model_history))]\n",
    "\n",
    "plt.plot(noise_list_history, test_accuracy_no_noise, label = 'test_accuracy (no noise)', color = 'blue')\n",
    "plt.legend()\n",
    "plt.xlabel('noise', fontsize = 10)\n",
    "plt.ylabel('accuracy', fontsize = 10)\n",
    "plt.title('test_accuracy (no noise) vs noise', fontsize = 12)\n",
    "plt.savefig('Images/Noisy_labeling/Test_accuracy_(no_noise)_vs_noise')\n",
    "plt.show()"
   ]
  },
  {
   "cell_type": "code",
   "execution_count": 98,
   "id": "00228699",
   "metadata": {},
   "outputs": [],
   "source": [
    "np.savetxt(\"CSVs/Noisy_labeling/test_accuracy_no_noise.csv\", \n",
    "           test_accuracy_no_noise,\n",
    "           delimiter =\", \", \n",
    "           fmt ='% s')"
   ]
  },
  {
   "cell_type": "code",
   "execution_count": 99,
   "id": "9e4976e8-9e82-4dee-aab9-61de4b4de604",
   "metadata": {},
   "outputs": [
    {
     "data": {
      "text/plain": [
       "[(0.0, 0.9941),\n",
       " (0.04864285714285714, 0.9667),\n",
       " (0.09896428571428571, 0.9499),\n",
       " (0.14539285714285713, 0.9318),\n",
       " (0.17735714285714285, 0.9183),\n",
       " (0.21817857142857142, 0.9064),\n",
       " (0.245, 0.9111),\n",
       " (0.26707142857142857, 0.9016),\n",
       " (0.2875357142857143, 0.8976),\n",
       " (0.3079642857142857, 0.8847),\n",
       " (0.31735714285714284, 0.8879),\n",
       " (0.33832142857142855, 0.8713),\n",
       " (0.34932142857142856, 0.8808),\n",
       " (0.3715, 0.868),\n",
       " (0.38171428571428573, 0.8444),\n",
       " (0.3957857142857143, 0.8696),\n",
       " (0.40182142857142855, 0.844),\n",
       " (0.44735714285714284, 0.7723),\n",
       " (0.49060714285714285, 0.6367)]"
      ]
     },
     "execution_count": 99,
     "metadata": {},
     "output_type": "execute_result"
    }
   ],
   "source": [
    "[(noise_list_history[i], test_accuracy_no_noise[i]) for i in range(len(noise_list_history))]"
   ]
  },
  {
   "cell_type": "code",
   "execution_count": 100,
   "id": "d283a47a-6297-42e7-9c98-a3b3b36adf5d",
   "metadata": {},
   "outputs": [
    {
     "data": {
      "image/png": "[encoded data removed]",
      "text/plain": [
       "<Figure size 432x288 with 1 Axes>"
      ]
     },
     "metadata": {
      "needs_background": "light"
     },
     "output_type": "display_data"
    }
   ],
   "source": [
    "test_accuracy_noisy  = [model_history[i].accuracy(model_history[i].X_test, \n",
    "                                                  model_history[i].Y_test, \n",
    "                                                  model_history[i].D_test) for i in range(len(model_history))]\n",
    "\n",
    "plt.plot(noise_list_history, test_accuracy_noisy, label = 'test_accuracy(noisy)', color = 'blue')\n",
    "plt.legend()\n",
    "plt.xlabel('noise', fontsize = 10)\n",
    "plt.ylabel('accuracy', fontsize = 10)\n",
    "plt.title('test_accuracy (noisy) vs noise', fontsize = 12)\n",
    "plt.savefig('Images/Noisy_labeling/test_accuracy_(noisy)_vs_noise')\n",
    "plt.show()"
   ]
  },
  {
   "cell_type": "code",
   "execution_count": 101,
   "id": "cab9a903",
   "metadata": {},
   "outputs": [],
   "source": [
    "np.savetxt(\"CSVs/Noisy_labeling/test_accuracy_noisy.csv\", \n",
    "           test_accuracy_noisy,\n",
    "           delimiter =\", \", \n",
    "           fmt ='% s')"
   ]
  },
  {
   "cell_type": "code",
   "execution_count": 102,
   "id": "079f5cc2-86ee-46ec-9daf-78c1dd0d6302",
   "metadata": {},
   "outputs": [
    {
     "data": {
      "image/png": "[encoded data removed]",
      "text/plain": [
       "<Figure size 432x288 with 1 Axes>"
      ]
     },
     "metadata": {
      "needs_background": "light"
     },
     "output_type": "display_data"
    }
   ],
   "source": [
    "train_accuracy_noisy  = [model_history[i].accuracy(model_history[i].X_T, \n",
    "                                                   model_history[i].Y_T, \n",
    "                                                   model_history[i].D_T) for i in range(len(model_history))]\n",
    "\n",
    "plt.plot(noise_list_history, train_accuracy_noisy, label = 'train_accuracy (noisy)', color = 'blue')\n",
    "plt.legend()\n",
    "plt.xlabel('noise', fontsize = 10)\n",
    "plt.ylabel('accuracy', fontsize = 10)\n",
    "plt.title('train_accuracy (noisy) vs noise', fontsize = 10)\n",
    "plt.savefig('Images/Noisy_labeling/train_accuracy_(noisy)_vs_noise')\n",
    "plt.show()"
   ]
  },
  {
   "cell_type": "code",
   "execution_count": 103,
   "id": "f8ca9933",
   "metadata": {},
   "outputs": [],
   "source": [
    "np.savetxt(\"CSVs/Noisy_labeling/train_accuracy_noisy.csv\", \n",
    "           train_accuracy_noisy,\n",
    "           delimiter =\", \", \n",
    "           fmt ='% s')"
   ]
  },
  {
   "cell_type": "code",
   "execution_count": 104,
   "id": "0d91cfb7",
   "metadata": {},
   "outputs": [],
   "source": [
    "train_accuracy_no_noisy  = [model_history[i].accuracy(model_history[i].X_T, \n",
    "                                                      model_history[i].Y_T, \n",
    "                                                      model_history[i].D_no_noise_T) for i in range(len(model_history))]"
   ]
  },
  {
   "cell_type": "code",
   "execution_count": 105,
   "id": "ca7d40aa",
   "metadata": {},
   "outputs": [],
   "source": [
    "np.savetxt(\"CSVs/Noisy_labeling/train_accuracy_no_noisy.csv\", \n",
    "           train_accuracy_no_noisy,\n",
    "           delimiter =\", \", \n",
    "           fmt ='% s')"
   ]
  },
  {
   "cell_type": "code",
   "execution_count": 106,
   "id": "12f2e989-e034-4eef-a4e3-f55d9d1f1938",
   "metadata": {},
   "outputs": [
    {
     "data": {
      "image/png": "[encoded data removed]",
      "text/plain": [
       "<Figure size 432x288 with 1 Axes>"
      ]
     },
     "metadata": {
      "needs_background": "light"
     },
     "output_type": "display_data"
    }
   ],
   "source": [
    "plt.plot(noise_list_history, \n",
    "         train_accuracy_no_noisy, \n",
    "         label = 'train_accuracy (no noise)', color = 'blue')\n",
    "plt.legend()\n",
    "plt.xlabel('noise', fontsize = 10)\n",
    "plt.ylabel('accuracy', fontsize = 10)\n",
    "plt.title('train_accuracy (no noise) vs noise', fontsize = 12)\n",
    "plt.savefig('Images/Noisy_labeling/train_accuracy_(no_noise)_vs_noise')\n",
    "plt.show()"
   ]
  },
  {
   "cell_type": "code",
   "execution_count": 107,
   "id": "b740fe12-186e-414f-9d7c-cc5935ce4237",
   "metadata": {},
   "outputs": [
    {
     "data": {
      "text/plain": [
       "(0.49060714285714285, 0.6376666666666667)"
      ]
     },
     "execution_count": 107,
     "metadata": {},
     "output_type": "execute_result"
    }
   ],
   "source": [
    "noise_list_history[-1], train_accuracy_no_noisy[-1]"
   ]
  },
  {
   "cell_type": "code",
   "execution_count": null,
   "id": "e270788b",
   "metadata": {},
   "outputs": [],
   "source": []
  }
 ],
 "metadata": {
  "kernelspec": {
   "display_name": "Python 3 (ipykernel)",
   "language": "python",
   "name": "python3"
  },
  "language_info": {
   "codemirror_mode": {
    "name": "ipython",
    "version": 3
   },
   "file_extension": ".py",
   "mimetype": "text/x-python",
   "name": "python",
   "nbconvert_exporter": "python",
   "pygments_lexer": "ipython3",
   "version": "3.9.7"
  }
 },
 "nbformat": 4,
 "nbformat_minor": 5
}
