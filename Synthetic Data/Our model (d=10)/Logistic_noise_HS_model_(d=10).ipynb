{
 "cells": [
  {
   "cell_type": "code",
   "execution_count": 1,
   "id": "fd283ad6",
   "metadata": {},
   "outputs": [],
   "source": [
    "import numpy as np\n",
    "import matplotlib.pyplot as plt\n",
    "import math\n",
    "import torch\n",
    "import torch.nn as nn\n",
    "import torch.nn.functional as F\n",
    "import torch.optim as optim\n",
    "import torchvision\n",
    "from torch.distributions import Normal as norm\n",
    "from termcolor import colored\n",
    "from sklearn.decomposition import PCA\n",
    "from scipy import linalg as LA\n",
    "from scipy.stats import multivariate_normal\n",
    "from scipy.stats import norm\n",
    "from scipy.stats import multinomial\n",
    "from scipy.stats import logistic\n",
    "from scipy.stats import expon, uniform, laplace\n",
    "from Main_functions import *\n",
    "import random\n",
    "from numpy import genfromtxt"
   ]
  },
  {
   "cell_type": "markdown",
   "id": "5322d4e9",
   "metadata": {},
   "source": [
    "### Setting the data distribuation \n",
    "\n",
    "Pairs $(x_i,y_i)\\in \\mathbb{R}^d\\times \\mathbb{R}^d$ for $i=1, \\ldots, N$ are generated i.i.d. from density distribuation $f(\\cdot)\\times f(\\cdot)$.  \n",
    "\n",
    "Parameters:\n",
    "\n",
    "$d:$ dimention of data points\n",
    "\n",
    "$N:$ number of pairs\n",
    "\n",
    "$f(\\cdot):$ density distribuation\n"
   ]
  },
  {
   "cell_type": "markdown",
   "id": "39240958",
   "metadata": {},
   "source": [
    "### Given the eigenvalues of ground truth $M_t$, we randomly generate it."
   ]
  },
  {
   "cell_type": "code",
   "execution_count": 2,
   "id": "f8a44b14",
   "metadata": {},
   "outputs": [],
   "source": [
    "csv_path = 'CSVs/logistic_HS_'\n",
    "image_path = 'Images/logistic_HS_'\n",
    "title_suffix = '\\n (Logistic Noise Hyperbolic-Secant model)'\n",
    "noise_type = 'Logistic'\n",
    "model_type = 'HS'"
   ]
  },
  {
   "cell_type": "code",
   "execution_count": 3,
   "id": "48c08599",
   "metadata": {},
   "outputs": [],
   "source": [
    "d = 10\n",
    "rank = 5\n",
    "seed = 2023"
   ]
  },
  {
   "cell_type": "code",
   "execution_count": 4,
   "id": "58397b68",
   "metadata": {},
   "outputs": [],
   "source": [
    "np.random.seed(seed)\n",
    "non_zero_eigens_of_M_star = np.round(np.random.uniform(low=0.0, high=1.0, size= rank), 2)"
   ]
  },
  {
   "cell_type": "code",
   "execution_count": 5,
   "id": "42909a2d",
   "metadata": {},
   "outputs": [
    {
     "data": {
      "text/plain": [
       "array([0.32, 0.89, 0.59, 0.13, 0.14])"
      ]
     },
     "execution_count": 5,
     "metadata": {},
     "output_type": "execute_result"
    }
   ],
   "source": [
    "#random.seed(seed)\n",
    "# non_zero_eigens_of_M_star = random.choices(np.arange(1, 31), k = rank)\n",
    "# random.uniform()\n",
    "non_zero_eigens_of_M_star"
   ]
  },
  {
   "cell_type": "code",
   "execution_count": 6,
   "id": "0fbc4ae8",
   "metadata": {},
   "outputs": [
    {
     "data": {
      "text/plain": [
       "array([0.32, 0.89, 0.59, 0.13, 0.14, 0.  , 0.  , 0.  , 0.  , 0.  ])"
      ]
     },
     "execution_count": 6,
     "metadata": {},
     "output_type": "execute_result"
    }
   ],
   "source": [
    "diag = np.zeros(d)\n",
    "diag[:rank] = non_zero_eigens_of_M_star\n",
    "diag"
   ]
  },
  {
   "cell_type": "code",
   "execution_count": 7,
   "id": "23087886",
   "metadata": {},
   "outputs": [
    {
     "name": "stdout",
     "output_type": "stream",
     "text": [
      "Ground truth M_t and B_t are generated (M_t = B_t @ B_t.T)\n",
      "To access to M_t and B_t, use .M_t and .B_t\n"
     ]
    }
   ],
   "source": [
    "data_model = DG(diag, seed = 22)"
   ]
  },
  {
   "cell_type": "code",
   "execution_count": 8,
   "id": "0ff3f776",
   "metadata": {},
   "outputs": [
    {
     "data": {
      "text/plain": [
       "array([0.32, 0.89, 0.59, 0.13, 0.14, 0.  , 0.  , 0.  , 0.  , 0.  ])"
      ]
     },
     "execution_count": 8,
     "metadata": {},
     "output_type": "execute_result"
    }
   ],
   "source": [
    "data_model.M_diag"
   ]
  },
  {
   "cell_type": "code",
   "execution_count": 9,
   "id": "74d3f36d",
   "metadata": {},
   "outputs": [
    {
     "data": {
      "text/plain": [
       "((10, 10), (10, 10))"
      ]
     },
     "execution_count": 9,
     "metadata": {},
     "output_type": "execute_result"
    }
   ],
   "source": [
    "data_model.M_t.shape, data_model.B_t.shape"
   ]
  },
  {
   "cell_type": "markdown",
   "id": "5488a2f7",
   "metadata": {},
   "source": [
    "### Given the eigenvalue of covariance matrix Cov, we randomly generate it."
   ]
  },
  {
   "cell_type": "code",
   "execution_count": 10,
   "id": "60e25a0f",
   "metadata": {},
   "outputs": [],
   "source": [
    "np.random.seed(2024)\n",
    "diag_cov = np.round(np.random.uniform(low=0.0, high=1.0, size= d), 2)"
   ]
  },
  {
   "cell_type": "code",
   "execution_count": 11,
   "id": "931ccc10",
   "metadata": {},
   "outputs": [],
   "source": [
    "# print(diag_cov)"
   ]
  },
  {
   "cell_type": "code",
   "execution_count": 12,
   "id": "dcb4b6a2",
   "metadata": {},
   "outputs": [],
   "source": [
    "# diag_cov.sort()"
   ]
  },
  {
   "cell_type": "code",
   "execution_count": 13,
   "id": "b8c33ef7",
   "metadata": {},
   "outputs": [],
   "source": [
    "# print(diag_cov)"
   ]
  },
  {
   "cell_type": "code",
   "execution_count": 14,
   "id": "911a6515",
   "metadata": {},
   "outputs": [
    {
     "data": {
      "text/plain": [
       "4.17"
      ]
     },
     "execution_count": 14,
     "metadata": {},
     "output_type": "execute_result"
    }
   ],
   "source": [
    "diag_cov.sum()"
   ]
  },
  {
   "cell_type": "code",
   "execution_count": 15,
   "id": "53605447",
   "metadata": {},
   "outputs": [],
   "source": [
    "Sigma, U_sigma = random_covariance(diag_cov, seed = 21)"
   ]
  },
  {
   "cell_type": "code",
   "execution_count": 16,
   "id": "591cfc04",
   "metadata": {},
   "outputs": [],
   "source": [
    "f = multivariate_normal(mean = np.zeros(d), cov = Sigma)"
   ]
  },
  {
   "cell_type": "markdown",
   "id": "5f1e38c8",
   "metadata": {},
   "source": [
    "### What is the average of squared norm of points generating where $x\\sim f(x)$ with $\\mathbb{E}(x) = \\mu$ and ${\\rm Cov}(x) = \\Sigma$\n",
    "\n",
    "If $x\\sim f(x)$ where $\\mathbb{E}(x) = \\mu$ and ${\\rm Cov}(x) = \\Sigma$, then \n",
    "\\begin{align}\n",
    "\\mathbb{E}\\left(x^\\top Mx\\right) & = \\mathbb{E}\\left({\\rm tr}(x^\\top Mx)\\right)\\\\\n",
    " & = \\mathbb{E}\\left({\\rm tr}(xx^\\top M)\\right)\\\\\n",
    " & = {\\rm tr}\\left(\\mathbb{E}\\left(xx^\\top\\right)M\\right)\\\\\n",
    " & = {\\rm tr}\\left(\\left[{\\rm Cov}(x) - \\mathbb{E}(x)\\mathbb{E}(x)^\\top\\right]M\\right)\n",
    "\\end{align}\n",
    "\n",
    "If we set  $\\mu = \\mathbf{0}$, then \n",
    "$$\\mathbb{E}\\left(x^\\top Mx\\right) = {\\rm tr}\\left(\\Sigma M\\right).$$\n",
    "Therefore, since $x$ and $y$ are independent, \n",
    "$$\\mathbb{E}\\left(\\|x-y\\|_M^2\\right) = 2{\\rm tr}\\left(\\Sigma M\\right).$$"
   ]
  },
  {
   "cell_type": "markdown",
   "id": "5bf11d41",
   "metadata": {},
   "source": [
    "$$\\mathbb{E}\\left((x-y)^\\top (x-y)\\right) = \\mathbb{E}\\left(x^\\top x + y^\\top y - x^\\top y - y^\\top x\\right) = 2{\\rm Cov}(x)$$"
   ]
  },
  {
   "cell_type": "code",
   "execution_count": 17,
   "id": "98d5aab8",
   "metadata": {},
   "outputs": [
    {
     "name": "stdout",
     "output_type": "stream",
     "text": [
      "squared norm mean = 1.6983720913430767\n"
     ]
    }
   ],
   "source": [
    "snm = 2 * np.trace(data_model.M_t @ Sigma)\n",
    "print(\"squared norm mean = {}\".format(snm))"
   ]
  },
  {
   "cell_type": "markdown",
   "id": "7cc2ae3e",
   "metadata": {},
   "source": [
    "### Check the average empirically"
   ]
  },
  {
   "cell_type": "code",
   "execution_count": 18,
   "id": "0ae0f999",
   "metadata": {},
   "outputs": [
    {
     "name": "stdout",
     "output_type": "stream",
     "text": [
      "emperical squared norm mean = 1.7357384841106784\n"
     ]
    }
   ],
   "source": [
    "N = 10000\n",
    "X_1, Y_1 = sample(f, N)\n",
    "sn = (((X_1 - Y_1) @ data_model.B_t)**2).sum()/N\n",
    "print(\"emperical squared norm mean = {}\".format(sn))"
   ]
  },
  {
   "cell_type": "markdown",
   "id": "c128a3e9",
   "metadata": {},
   "source": [
    "### Set $\\tau$ to generate data points (binary case!)"
   ]
  },
  {
   "cell_type": "code",
   "execution_count": 19,
   "id": "873f693c",
   "metadata": {},
   "outputs": [],
   "source": [
    "tau = [1.3]\n",
    "N = 20000\n",
    "s = .2"
   ]
  },
  {
   "cell_type": "code",
   "execution_count": 20,
   "id": "31307a90",
   "metadata": {},
   "outputs": [],
   "source": [
    "X, Y, D_noisy, D_no_noisy = data_model.generate(f, N, tau = np.array(tau), \n",
    "                                                noise_type = noise_type, noise_par = s)"
   ]
  },
  {
   "cell_type": "code",
   "execution_count": 21,
   "id": "b8eecbc6",
   "metadata": {},
   "outputs": [
    {
     "name": "stdout",
     "output_type": "stream",
     "text": [
      "the amount of noise: 0.10375\n"
     ]
    }
   ],
   "source": [
    "noise_amount = (D_noisy != D_no_noisy).mean()\n",
    "print('the amount of noise: {}'.format(noise_amount))"
   ]
  },
  {
   "cell_type": "code",
   "execution_count": 22,
   "id": "133ec772",
   "metadata": {},
   "outputs": [
    {
     "name": "stdout",
     "output_type": "stream",
     "text": [
      "number of pairs with 0 as their labels is 10251\n",
      "number of pairs with 1 as their labels is 9749\n"
     ]
    }
   ],
   "source": [
    "for i in range(len(tau)+1):\n",
    "    print('number of pairs with {} as their labels is {}'.format(i, (D_no_noisy==i).sum()))"
   ]
  },
  {
   "cell_type": "code",
   "execution_count": 23,
   "id": "956bd956",
   "metadata": {},
   "outputs": [
    {
     "data": {
      "text/plain": [
       "0.51255"
      ]
     },
     "execution_count": 23,
     "metadata": {},
     "output_type": "execute_result"
    }
   ],
   "source": [
    "(D_no_noisy== 0).sum()/N"
   ]
  },
  {
   "cell_type": "markdown",
   "id": "8ac47f7b",
   "metadata": {},
   "source": [
    "### Change to PyTorch tensor!"
   ]
  },
  {
   "cell_type": "code",
   "execution_count": 24,
   "id": "95fad745",
   "metadata": {},
   "outputs": [],
   "source": [
    "X = torch.tensor(X, dtype = torch.float64)\n",
    "Y = torch.tensor(Y, dtype = torch.float64)\n",
    "D_noisy = torch.tensor(D_noisy, dtype = torch.torch.int64)\n",
    "D_no_noisy = torch.tensor(D_no_noisy, dtype = torch.torch.int64)"
   ]
  },
  {
   "cell_type": "code",
   "execution_count": 25,
   "id": "b76ac4d6",
   "metadata": {},
   "outputs": [],
   "source": [
    "X, Y, D, X_T, Y_T, D_T, D_no_noise_T, X_test, Y_test, D_test, D_no_noise_test = train_test_split(X, \n",
    "                                                                                                 Y, \n",
    "                                                                                                 D_noisy, \n",
    "                                                                                                 D_no_noisy, \n",
    "                                                                                                 n_train = 15000)"
   ]
  },
  {
   "cell_type": "code",
   "execution_count": 26,
   "id": "9b78dbfb",
   "metadata": {},
   "outputs": [
    {
     "data": {
      "text/plain": [
       "(torch.float64, torch.int64)"
      ]
     },
     "execution_count": 26,
     "metadata": {},
     "output_type": "execute_result"
    }
   ],
   "source": [
    "X.dtype, D.dtype"
   ]
  },
  {
   "cell_type": "markdown",
   "id": "b6e7f28e",
   "metadata": {},
   "source": [
    "## Set the model and train it"
   ]
  },
  {
   "cell_type": "code",
   "execution_count": 27,
   "id": "e8d1e2ed",
   "metadata": {},
   "outputs": [],
   "source": [
    "k = 10\n",
    "n_labels = len(tau) + 1"
   ]
  },
  {
   "cell_type": "code",
   "execution_count": 28,
   "id": "14e5cba7",
   "metadata": {},
   "outputs": [],
   "source": [
    "model = ML(d, k, n_labels, \n",
    "   X_T, Y_T, D_T, D_no_noise_T, \n",
    "   X_test, Y_test, D_test, D_no_noise_test, Type = model_type)"
   ]
  },
  {
   "cell_type": "code",
   "execution_count": 29,
   "id": "56a0e3ea",
   "metadata": {},
   "outputs": [
    {
     "name": "stdout",
     "output_type": "stream",
     "text": [
      "Starting Tau:  tensor([0.8025], dtype=torch.float64, requires_grad=True)\n",
      "epoch 0: loss = 0.5149599615466414\n",
      "train accuracy with noise 0.49946666666666667\n",
      "train accuracy without noise 0.5148\n",
      "test accuracy with noise 0.4904\n",
      "test accuracy without noise 0.5058\n",
      "epoch 5000:\n",
      " norm of B.grad = 3.606434573672077e-08,\n",
      " loss = -0.21296856214128226\n",
      "tensor([3.6390], dtype=torch.float64, requires_grad=True)\n",
      "train accuracy with noise 0.8979333333333334\n",
      "train accuracy without noise 0.9887333333333334\n",
      "test accuracy with noise 0.895\n",
      "test accuracy without noise 0.9908\n",
      "epoch 10000:\n",
      " norm of B.grad = 3.689101347381606e-21,\n",
      " loss = -0.2129920609593716\n",
      "tensor([3.6501], dtype=torch.float64, requires_grad=True)\n",
      "train accuracy with noise 0.8976666666666666\n",
      "train accuracy without noise 0.9884666666666667\n",
      "test accuracy with noise 0.8946\n",
      "test accuracy without noise 0.9912\n",
      "epoch 15000:\n",
      " norm of B.grad = 6.992232796842781e-32,\n",
      " loss = -0.21299206095937154\n",
      "tensor([3.6501], dtype=torch.float64, requires_grad=True)\n",
      "train accuracy with noise 0.8976666666666666\n",
      "train accuracy without noise 0.9884666666666667\n",
      "test accuracy with noise 0.8946\n",
      "test accuracy without noise 0.9912\n",
      "epoch 20000:\n",
      " norm of B.grad = 7.375531174825379e-32,\n",
      " loss = -0.21299206095937154\n",
      "tensor([3.6501], dtype=torch.float64, requires_grad=True)\n",
      "train accuracy with noise 0.8976666666666666\n",
      "train accuracy without noise 0.9884666666666667\n",
      "test accuracy with noise 0.8946\n",
      "test accuracy without noise 0.9912\n",
      "epoch 25000:\n",
      " norm of B.grad = 7.375531174825379e-32,\n",
      " loss = -0.21299206095937154\n",
      "tensor([3.6501], dtype=torch.float64, requires_grad=True)\n",
      "train accuracy with noise 0.8976666666666666\n",
      "train accuracy without noise 0.9884666666666667\n",
      "test accuracy with noise 0.8946\n",
      "test accuracy without noise 0.9912\n",
      "epoch 30000:\n",
      " norm of B.grad = 7.375531174825379e-32,\n",
      " loss = -0.21299206095937154\n",
      "tensor([3.6501], dtype=torch.float64, requires_grad=True)\n",
      "train accuracy with noise 0.8976666666666666\n",
      "train accuracy without noise 0.9884666666666667\n",
      "test accuracy with noise 0.8946\n",
      "test accuracy without noise 0.9912\n"
     ]
    }
   ],
   "source": [
    "model.train(learning_rate = 5e-1, \n",
    "            n_iters = 30001, \n",
    "            decay = .95,\n",
    "            f = f, \n",
    "            B_star = data_model.B_t, \n",
    "            tau_star = data_model.tau_t, \n",
    "            N = 1000)\n",
    "# N here is used to generate N samples to estimate L_1_f_norm"
   ]
  },
  {
   "cell_type": "code",
   "execution_count": 30,
   "id": "53a3667f",
   "metadata": {},
   "outputs": [],
   "source": [
    "X_new, Y_new, _, D_new = data_model.generate(f, \n",
    "                                             N = 10000, \n",
    "                                             tau = np.array(tau), \n",
    "                                             noise_type = None, \n",
    "                                             noise_par = None)"
   ]
  },
  {
   "cell_type": "code",
   "execution_count": 31,
   "id": "6ac9f347",
   "metadata": {},
   "outputs": [],
   "source": [
    "X_new = torch.tensor(X_new, dtype = torch.float64)\n",
    "Y_new = torch.tensor(Y_new, dtype = torch.float64)\n",
    "D_new = torch.tensor(D_new, dtype = torch.torch.int64)"
   ]
  },
  {
   "cell_type": "code",
   "execution_count": 32,
   "id": "cd34c226",
   "metadata": {},
   "outputs": [
    {
     "name": "stdout",
     "output_type": "stream",
     "text": [
      "accuracy on unseen data 0.989\n"
     ]
    }
   ],
   "source": [
    "ac_unseen = model.accuracy(X_new, Y_new, D_new)\n",
    "print('accuracy on unseen data {}'.format(ac_unseen))"
   ]
  },
  {
   "cell_type": "code",
   "execution_count": 33,
   "id": "7cb74ecf-5df6-4fa5-b6ca-b9b407a55184",
   "metadata": {},
   "outputs": [
    {
     "name": "stdout",
     "output_type": "stream",
     "text": [
      "0.19570724902469844\n",
      "0.5699709616166891\n"
     ]
    }
   ],
   "source": [
    "M_hat = (model.B @ model.B.T).detach().numpy()*s\n",
    "M_star = data_model.M_t\n",
    "tau_hat = model.Tau.detach().numpy()[0]*s\n",
    "tau_star = data_model.tau_t[0]\n",
    "\n",
    "print((np.abs(M_hat - M_star)).max())\n",
    "print(np.abs(tau_hat-tau_star))"
   ]
  },
  {
   "cell_type": "markdown",
   "id": "9b0562d4",
   "metadata": {},
   "source": [
    "### Error Bar"
   ]
  },
  {
   "cell_type": "code",
   "execution_count": 34,
   "id": "0b5cf08d",
   "metadata": {},
   "outputs": [],
   "source": [
    "n_runs = 20"
   ]
  },
  {
   "cell_type": "code",
   "execution_count": 35,
   "id": "2a4fdd9a",
   "metadata": {},
   "outputs": [
    {
     "name": "stdout",
     "output_type": "stream",
     "text": [
      "round i = 0 started\n",
      "round i = 1 started\n",
      "round i = 2 started\n",
      "round i = 3 started\n",
      "round i = 4 started\n",
      "round i = 5 started\n",
      "round i = 6 started\n",
      "round i = 7 started\n",
      "round i = 8 started\n",
      "round i = 9 started\n",
      "round i = 10 started\n",
      "round i = 11 started\n",
      "round i = 12 started\n",
      "round i = 13 started\n",
      "round i = 14 started\n",
      "round i = 15 started\n",
      "round i = 16 started\n",
      "round i = 17 started\n",
      "round i = 18 started\n",
      "round i = 19 started\n"
     ]
    }
   ],
   "source": [
    "models_list = []\n",
    "for i in range(n_runs):\n",
    "    print('round i = {} started'.format(i))\n",
    "    X, Y, D, X_T, Y_T, D_T, D_no_noise_T, X_test, Y_test, D_test, D_no_noise_test = gen_data(f, \n",
    "                                                                                             N, \n",
    "                                                                                             tau = np.array(tau), \n",
    "                                                                                             noise_type = noise_type,\n",
    "                                                                                             noise_par = s,\n",
    "                                                                                             data_model = data_model)\n",
    "    model = ML(d, k, n_labels, \n",
    "               X_T, Y_T, D_T, D_no_noise_T, \n",
    "               X_test, Y_test, D_test, \n",
    "               D_no_noise_test, Type = model_type) \n",
    "    \n",
    "    model.train(learning_rate = 5e-1, \n",
    "                n_iters = 30001, \n",
    "                decay = .95,\n",
    "                f = f, \n",
    "                B_star = data_model.B_t, \n",
    "                tau_star = data_model.tau_t, \n",
    "                N = 1000,\n",
    "               show_log = False)\n",
    "    models_list.append(model)"
   ]
  },
  {
   "cell_type": "code",
   "execution_count": 36,
   "id": "3c7e10e6",
   "metadata": {},
   "outputs": [],
   "source": [
    "M_hat_normal_list = [models_list[i].B @ models_list[i].B.T / models_list[i].Tau[0] for i in range(n_runs)]"
   ]
  },
  {
   "cell_type": "code",
   "execution_count": 37,
   "id": "deb10022",
   "metadata": {},
   "outputs": [],
   "source": [
    "M_t_normal = data_model.M_t/tau[0]\n",
    "U_t, S_t, V_t = LA.svd(M_t_normal, full_matrices=False)"
   ]
  },
  {
   "cell_type": "code",
   "execution_count": 38,
   "id": "b10e4cf1",
   "metadata": {},
   "outputs": [
    {
     "data": {
      "text/plain": [
       "(20, 10)"
      ]
     },
     "execution_count": 38,
     "metadata": {},
     "output_type": "execute_result"
    }
   ],
   "source": [
    "eigen_list_M_hat_normal = np.array([LA.svd(M_hat_normal_list[i].detach().numpy(), full_matrices=False)[1] \n",
    "                                for i in range(n_runs)])\n",
    "eigen_list_M_hat_normal.shape"
   ]
  },
  {
   "cell_type": "code",
   "execution_count": 39,
   "id": "c8b1c671",
   "metadata": {},
   "outputs": [],
   "source": [
    "mean_eigens = eigen_list_M_hat_normal.mean(axis = 0)"
   ]
  },
  {
   "cell_type": "code",
   "execution_count": 40,
   "id": "53ae7323",
   "metadata": {},
   "outputs": [],
   "source": [
    "std_eigens = eigen_list_M_hat_normal.std(axis = 0)"
   ]
  },
  {
   "cell_type": "code",
   "execution_count": 41,
   "id": "5b3e5e29",
   "metadata": {},
   "outputs": [
    {
     "data": {
      "image/png": "[encoded data removed]",
      "text/plain": [
       "<Figure size 432x288 with 1 Axes>"
      ]
     },
     "metadata": {
      "needs_background": "light"
     },
     "output_type": "display_data"
    }
   ],
   "source": [
    "plot_with_y_error_bar(x= [i for i in range(d)], \n",
    "                      y = eigen_list_M_hat_normal, \n",
    "                      z = S_t, \n",
    "                      x_label = 'index', \n",
    "                      y_label = 'eigenvalue', \n",
    "                      title = 'average eigenvalues of  M_hat/tau_hat and M_star/tau_star' + title_suffix, \n",
    "                      xy_label = 'eigenvalues of M_hat/tau_hat', \n",
    "                      xz_label = 'eigenvalues of M_star/tau_star',\n",
    "                      save_path = image_path + \"mean_eigen\")"
   ]
  },
  {
   "cell_type": "code",
   "execution_count": null,
   "id": "846dfc57",
   "metadata": {},
   "outputs": [],
   "source": []
  },
  {
   "cell_type": "markdown",
   "id": "6a8581fd",
   "metadata": {},
   "source": [
    "### Relative errors"
   ]
  },
  {
   "cell_type": "markdown",
   "id": "02bbc8cc",
   "metadata": {},
   "source": [
    "$$\\frac{\\left\\|\\frac{\\hat{M}}{\\hat{\\tau}} - \\frac{M^*}{\\tau^*}\\right\\|_2}{\\left\\|\\frac{M^*}{\\tau^*}\\right\\|_2}$$"
   ]
  },
  {
   "cell_type": "code",
   "execution_count": null,
   "id": "043d38a2",
   "metadata": {},
   "outputs": [],
   "source": [
    "M_hat_normal = model.B @ model.B.T / model.Tau[0]\n",
    "M_t_normal = data_model.M_t/tau[0]"
   ]
  },
  {
   "cell_type": "code",
   "execution_count": null,
   "id": "d6c31a62",
   "metadata": {},
   "outputs": [],
   "source": [
    "np.sqrt(np.sum((M_t_normal - M_hat_normal.detach().numpy())**2))/np.sqrt((M_t_normal**2).sum())"
   ]
  },
  {
   "cell_type": "markdown",
   "id": "902711f7",
   "metadata": {},
   "source": [
    "$$\\left\\|\\frac{\\hat{M}}{\\hat{\\tau}} - \\frac{M^*}{\\tau^*}\\right\\|_\\infty$$"
   ]
  },
  {
   "cell_type": "code",
   "execution_count": null,
   "id": "824388b6",
   "metadata": {},
   "outputs": [],
   "source": [
    "(np.abs(M_t_normal - M_hat_normal.detach().numpy())).max()"
   ]
  },
  {
   "cell_type": "markdown",
   "id": "f1a46789",
   "metadata": {},
   "source": [
    "$$\\left|\\frac{\\hat{M}}{\\hat{\\tau}} - \\frac{M^*}{\\tau^*}\\right|_{L_1(f)}$$"
   ]
  },
  {
   "cell_type": "code",
   "execution_count": null,
   "id": "4fcff7fd",
   "metadata": {},
   "outputs": [],
   "source": [
    "L_1_f_norm(f, model.B.detach().numpy(), model.Tau.detach().numpy(), \n",
    "           data_model.B_t, data_model.tau_t, N = 10000)"
   ]
  },
  {
   "cell_type": "markdown",
   "id": "d8a45e13",
   "metadata": {},
   "source": [
    "$$\\left|\\hat{\\tau} - \\frac{\\tau^*}{s}\\right|$$"
   ]
  },
  {
   "cell_type": "code",
   "execution_count": null,
   "id": "dc16b7de",
   "metadata": {},
   "outputs": [],
   "source": [
    "np.abs(model.Tau.detach().numpy()[0] - data_model.tau_t[0]/s)"
   ]
  },
  {
   "cell_type": "markdown",
   "id": "b0f51058",
   "metadata": {},
   "source": [
    "$$\\frac{\\left|\\hat{\\tau} - \\frac{\\tau^*}{s}\\right|}{\\frac{\\tau^*}{s}}$$"
   ]
  },
  {
   "cell_type": "code",
   "execution_count": null,
   "id": "2de9235e",
   "metadata": {},
   "outputs": [],
   "source": [
    "np.abs(model.Tau.detach().numpy()[0] - data_model.tau_t[0]/s)/ (data_model.tau_t[0]/s)"
   ]
  },
  {
   "cell_type": "code",
   "execution_count": null,
   "id": "2af7ad5d",
   "metadata": {},
   "outputs": [],
   "source": [
    "model.Tau.detach().numpy()[0], data_model.tau_t[0]/s"
   ]
  },
  {
   "cell_type": "code",
   "execution_count": null,
   "id": "9d96894a",
   "metadata": {},
   "outputs": [],
   "source": [
    "(np.abs(M_t_normal - M_hat_normal.detach().numpy())).max()"
   ]
  },
  {
   "cell_type": "code",
   "execution_count": null,
   "id": "e7d45bcc-1bac-418e-8a96-b2401fa26dcf",
   "metadata": {},
   "outputs": [],
   "source": [
    "(np.abs(M_t_normal - M_hat_normal.detach().numpy())).mean()"
   ]
  },
  {
   "cell_type": "code",
   "execution_count": null,
   "id": "02be65e5-9320-413e-b384-9eadec61f730",
   "metadata": {},
   "outputs": [],
   "source": [
    "np.sqrt(np.sum((M_t_normal - M_hat_normal.detach().numpy())**2))/np.sqrt((M_t_normal**2).sum())"
   ]
  },
  {
   "cell_type": "code",
   "execution_count": null,
   "id": "b1283765-660f-4a9d-999d-1d0b6be958b1",
   "metadata": {},
   "outputs": [],
   "source": [
    "np.sqrt((M_t_normal**2).sum())"
   ]
  },
  {
   "cell_type": "code",
   "execution_count": null,
   "id": "c770999e",
   "metadata": {},
   "outputs": [],
   "source": [
    "print(model.Tau.detach().numpy())\n",
    "print(np.array(tau))\n",
    "print(np.array(tau)[0]/model.Tau.detach().numpy()[0], s)"
   ]
  },
  {
   "cell_type": "code",
   "execution_count": null,
   "id": "b72e1058-62a2-493c-9509-5898da141e3a",
   "metadata": {},
   "outputs": [],
   "source": [
    "# B_star_normal = data_model.B_t/np.sqrt(tau[0])\n",
    "# B_hat_normal = model.B.detach().numpy() /np.sqrt(model.Tau.detach().numpy()[0])"
   ]
  },
  {
   "cell_type": "code",
   "execution_count": null,
   "id": "9f8bfb27-05b9-4136-99ef-66bde57ff781",
   "metadata": {},
   "outputs": [],
   "source": [
    "# def L_1_f_norm(f, B, tau, B_hat, tau_hat, N = 10000):\n",
    "#     B_star_normal = B / np.sqrt(tau[0])\n",
    "#     B_hat_normal = B_hat /np.sqrt(tau_hat[0])\n",
    "#     X, Y = sample(f, N)\n",
    "#     Z = X - Y \n",
    "#     temp = ((Z @ B_star_normal)**2).sum(axis = 1) - ((Z @ B_hat_normal)**2).sum(axis = 1)\n",
    "#     return np.abs(temp).mean()"
   ]
  },
  {
   "cell_type": "code",
   "execution_count": null,
   "id": "51f2f297-77e2-482a-8ab8-6bca3f5d4fb8",
   "metadata": {},
   "outputs": [],
   "source": [
    "# def L_1_f_norm(f, B_star_normal, B_hat_normal, N = 10000):\n",
    "#     X, Y = sample(f, N)\n",
    "#     Z = X - Y \n",
    "#     temp = ((Z @ B_star_normal)**2).sum(axis = 1) - ((Z @ B_hat_normal)**2).sum(axis = 1)\n",
    "#     return np.abs(temp).mean()  "
   ]
  },
  {
   "cell_type": "code",
   "execution_count": null,
   "id": "898f852f-7973-4ef1-8887-1af9d1e49ddf",
   "metadata": {},
   "outputs": [],
   "source": [
    "L_1_f_norm(f, model.B.detach().numpy(), model.Tau.detach().numpy(), \n",
    "           data_model.B_t, data_model.tau_t, N = 10000)"
   ]
  },
  {
   "cell_type": "code",
   "execution_count": null,
   "id": "f352d276-ca04-4c5a-aab9-4aa76fdb5e55",
   "metadata": {},
   "outputs": [],
   "source": [
    "# def L_1_f_norm_new(f, B, tau, B_hat, tau_hat, N = 10000):\n",
    "#     X, Y = sample(f, N)\n",
    "#     Z = X - Y \n",
    "#     temp = ((Z @ B)**2).sum(axis = 1) - tau[0] - ((Z @ B_hat)**2).sum(axis = 1) + tau_hat[0]\n",
    "#     return np.abs(temp).mean() "
   ]
  },
  {
   "cell_type": "code",
   "execution_count": null,
   "id": "94326913-a104-49ad-a816-eea0c03abf46",
   "metadata": {},
   "outputs": [],
   "source": [
    "# L_1_f_norm_new(f, data_model.B_t, data_model.tau_t,\n",
    "#                model.B.detach().numpy()*np.sqrt(s), model.Tau.detach().numpy()*s, N = 10000)"
   ]
  },
  {
   "cell_type": "code",
   "execution_count": null,
   "id": "372a7983-9384-46e3-824f-1b13a7ea2d98",
   "metadata": {},
   "outputs": [],
   "source": [
    "print(loss(X_T - Y_T, D_T, data_model.B_t/np.sqrt(s), data_model.tau_t/s, Type = model_type).item())\n",
    "print(loss(X_T - Y_T, D_T, model.B, model.Tau, Type = model_type).item())\n",
    "print(model.loss_history[-1].item())"
   ]
  },
  {
   "cell_type": "code",
   "execution_count": null,
   "id": "562d06e9-6c45-4dc9-90f7-5e88b52a7a13",
   "metadata": {},
   "outputs": [],
   "source": [
    "print(loss(X_T - Y_T, D_T, data_model.B_t/data_model.tau_t[0], np.zeros(1), Type = model_type).item())\n",
    "print(loss(X_T - Y_T, D_T, model.B/model.Tau[0], np.zeros(1), Type = model_type).item())"
   ]
  },
  {
   "cell_type": "code",
   "execution_count": null,
   "id": "540bba9a",
   "metadata": {},
   "outputs": [],
   "source": [
    "Pred_test = pred(X_test, Y_test, data_model.B_t, np.array(tau))\n",
    "print(\"test accuracy with noise (Using ground truth) = \", (Pred_test == D_test).sum().item()/D_test.shape[0])\n",
    "print(\"test accuracy without noise (Using ground truth) = \", (Pred_test == D_no_noise_test).sum().item()/D_no_noise_test.shape[0])"
   ]
  },
  {
   "cell_type": "code",
   "execution_count": null,
   "id": "f1da1159",
   "metadata": {},
   "outputs": [],
   "source": [
    "Pred_test = pred(X_test, Y_test, model.B, model.Tau)\n",
    "print(\"test accuracy with noise\", (Pred_test == D_test).sum().item()/D_test.shape[0])\n",
    "print(\"test accuracy without noise\", (Pred_test == D_no_noise_test).sum().item()/D_no_noise_test.shape[0])"
   ]
  },
  {
   "cell_type": "code",
   "execution_count": null,
   "id": "b4a27e04",
   "metadata": {},
   "outputs": [],
   "source": [
    "U_hat, S_hat, V_hat = LA.svd(M_hat_normal.detach().numpy(), full_matrices=False)"
   ]
  },
  {
   "cell_type": "code",
   "execution_count": null,
   "id": "aa095a83",
   "metadata": {},
   "outputs": [],
   "source": [
    "U_t, S_t, V_t = LA.svd(M_t_normal, full_matrices=False)"
   ]
  },
  {
   "cell_type": "code",
   "execution_count": null,
   "id": "4ca829e8",
   "metadata": {},
   "outputs": [],
   "source": [
    "S_hat.sum(), S_t.sum()"
   ]
  },
  {
   "cell_type": "code",
   "execution_count": null,
   "id": "43c2af6c",
   "metadata": {},
   "outputs": [],
   "source": [
    "S_hat"
   ]
  },
  {
   "cell_type": "code",
   "execution_count": null,
   "id": "87c13445",
   "metadata": {},
   "outputs": [],
   "source": [
    "S_t"
   ]
  },
  {
   "cell_type": "code",
   "execution_count": null,
   "id": "40a01ceb",
   "metadata": {},
   "outputs": [],
   "source": [
    "((S_hat - S_t)**2).sum()"
   ]
  },
  {
   "cell_type": "code",
   "execution_count": null,
   "id": "ebb7a76e",
   "metadata": {},
   "outputs": [],
   "source": [
    "plt.plot(S_hat, label = 'eigenvalues of M_hat/tau_hat', color= 'red')\n",
    "plt.plot(S_t, label = 'eigenvalues of M_star/tau_star', color = 'blue')\n",
    "plt.legend()\n",
    "plt.xlabel('#eigenvalue', fontsize=10)\n",
    "plt.ylabel('eigenvalue', fontsize=10)\n",
    "plt.title('eigenvalues of  M_hat/tau_hat and M_star/tau_star' + title_suffix, fontsize= 12)\n",
    "plt.savefig(image_path + \"eigen\")\n",
    "plt.show()"
   ]
  },
  {
   "cell_type": "code",
   "execution_count": null,
   "id": "28dde75d",
   "metadata": {},
   "outputs": [],
   "source": [
    "# np.savetxt(csv_path + \"eigen_S_star_normal.csv\", \n",
    "#            S_t,\n",
    "#            delimiter =\", \", \n",
    "#            fmt ='% s')"
   ]
  },
  {
   "cell_type": "code",
   "execution_count": null,
   "id": "7dc38397",
   "metadata": {},
   "outputs": [],
   "source": [
    "np.savetxt(csv_path + \"eigen.csv\", \n",
    "           S_hat,\n",
    "           delimiter =\", \", \n",
    "           fmt ='% s')"
   ]
  },
  {
   "cell_type": "code",
   "execution_count": null,
   "id": "d22c2e09",
   "metadata": {},
   "outputs": [],
   "source": [
    "H = []\n",
    "m = 7\n",
    "for i in range(m):\n",
    "    H.append(proj(U_hat[:, i], U_t[:, :m]))\n",
    "    \n",
    "plt.plot([j+1 for j in range(m)], H, label = '1 - Cosine')\n",
    "plt.legend()\n",
    "plt.xlabel('i-th eigenvector of M_hat', fontsize=10)\n",
    "plt.ylabel('component', fontsize=10)\n",
    "plt.title('Component of first {} eigenvectore of M_hat \\n on the space of first {} eigenvectore of M_t'.format(m, m) + title_suffix, \n",
    "          fontsize= 13)\n",
    "plt.savefig(image_path + \"Cosine\")\n",
    "plt.show()"
   ]
  },
  {
   "cell_type": "code",
   "execution_count": null,
   "id": "e4302049-2833-4fe6-a7c4-64767c78e2c2",
   "metadata": {},
   "outputs": [],
   "source": [
    "np.savetxt(csv_path + \"Cosine.csv\", \n",
    "           H,\n",
    "           delimiter =\", \", \n",
    "           fmt ='% s')"
   ]
  },
  {
   "cell_type": "code",
   "execution_count": null,
   "id": "aa928fdd",
   "metadata": {},
   "outputs": [],
   "source": [
    "for i in range(d):\n",
    "    print(np.dot(U_hat[:,i], U_t[:,i]))"
   ]
  },
  {
   "cell_type": "code",
   "execution_count": null,
   "id": "7a030291",
   "metadata": {},
   "outputs": [],
   "source": [
    "np.diag(U_hat.T @ U_t)"
   ]
  },
  {
   "cell_type": "code",
   "execution_count": null,
   "id": "21af9a27",
   "metadata": {},
   "outputs": [],
   "source": [
    "I = model.epoch_history\n",
    "plt.plot(I, model.train_accuracy_with_noise, label = 'train_accuracy_with_noise', color = 'black')\n",
    "plt.plot(I, model.train_accuracy_without_noise, label = 'train_accuracy_without_noise', color = 'red')\n",
    "plt.plot(I, model.test_accuracy_with_noise, label = 'test_accuracy_with_noise', color = 'green')\n",
    "plt.plot(I, model.test_accuracy_without_noise, label = 'test_accuracy_without_noise', color = 'blue')\n",
    "plt.legend()\n",
    "\n",
    "plt.xlabel('epoch', fontsize=10)\n",
    "plt.ylabel('accuracy', fontsize=10)\n",
    "plt.title('Test and Train accuracy vs epochs' + title_suffix, fontsize=10)\n",
    "plt.savefig(image_path + \"Test_and_Train_accuracy_vs_epochs\")\n",
    "plt.show()"
   ]
  },
  {
   "cell_type": "code",
   "execution_count": null,
   "id": "5b5cc4dc-07ab-4e62-bbc6-99e5f8298aea",
   "metadata": {},
   "outputs": [],
   "source": [
    "np.savetxt(csv_path + \"model_epoch_history.csv\", \n",
    "           model.epoch_history,\n",
    "           delimiter =\", \", \n",
    "           fmt ='% s')"
   ]
  },
  {
   "cell_type": "code",
   "execution_count": null,
   "id": "975bc7a0-1aad-412c-9c9d-f4cf82012b15",
   "metadata": {},
   "outputs": [],
   "source": [
    "np.savetxt(csv_path + \"model_train_accuracy_with_noise.csv\", \n",
    "           model.train_accuracy_with_noise,\n",
    "           delimiter =\", \", \n",
    "           fmt ='% s')"
   ]
  },
  {
   "cell_type": "code",
   "execution_count": null,
   "id": "c140fe6e-1520-448c-9a8a-4d17c590c51e",
   "metadata": {},
   "outputs": [],
   "source": [
    "np.savetxt(csv_path + \"model_train_accuracy_without_noise.csv\", \n",
    "           model.train_accuracy_without_noise,\n",
    "           delimiter =\", \", \n",
    "           fmt ='% s')"
   ]
  },
  {
   "cell_type": "code",
   "execution_count": null,
   "id": "ace65042-4b84-41ee-80c1-2a395951d49e",
   "metadata": {},
   "outputs": [],
   "source": [
    "np.savetxt(csv_path + \"model_test_accuracy_with_noise.csv\", \n",
    "           model.test_accuracy_with_noise,\n",
    "           delimiter =\", \", \n",
    "           fmt ='% s')"
   ]
  },
  {
   "cell_type": "code",
   "execution_count": null,
   "id": "ddcf3d0f-a363-4203-8ab0-1ac4789cda9e",
   "metadata": {},
   "outputs": [],
   "source": [
    "np.savetxt(csv_path + \"model_test_accuracy_without_noise.csv\", \n",
    "           model.test_accuracy_without_noise,\n",
    "           delimiter =\", \", \n",
    "           fmt ='% s')"
   ]
  },
  {
   "cell_type": "code",
   "execution_count": null,
   "id": "badb68d8-f550-443f-8fc1-b6e3eeccdc0b",
   "metadata": {},
   "outputs": [],
   "source": [
    "model.loss_history[-1]"
   ]
  },
  {
   "cell_type": "code",
   "execution_count": null,
   "id": "0b27bc11-b134-44fd-ab8f-38ce15548227",
   "metadata": {},
   "outputs": [],
   "source": [
    "l_value = loss(X_T - Y_T, D_T, data_model.B_t/np.sqrt(s), data_model.tau_t/s, Type = model_type).item()\n",
    "I_ = np.array([l_value for _ in I])"
   ]
  },
  {
   "cell_type": "code",
   "execution_count": null,
   "id": "6edb2de9-a68a-4782-84a0-b7b9859b2ae2",
   "metadata": {},
   "outputs": [],
   "source": [
    "plt.plot(I[:], model.loss_history[:], label = 'loss_history', color = 'blue')\n",
    "plt.plot(I[:], I_[:], label = 'loss_on_M_star', color = 'red')\n",
    "plt.legend()\n",
    "plt.xlabel('# iteration', fontsize=10)\n",
    "plt.ylabel('loss', fontsize=10)\n",
    "plt.title('loss_history vs iteration' + title_suffix, fontsize=12)\n",
    "plt.savefig(image_path + \"loss_history_vs_iteration\")\n",
    "plt.show()"
   ]
  },
  {
   "cell_type": "code",
   "execution_count": null,
   "id": "6e4772f6",
   "metadata": {},
   "outputs": [],
   "source": [
    "np.savetxt(csv_path + \"index_loss_history.csv\", \n",
    "           I,\n",
    "           delimiter =\", \", \n",
    "           fmt ='% s')"
   ]
  },
  {
   "cell_type": "code",
   "execution_count": null,
   "id": "c5b0133e-482e-4f37-8375-9ed31d234535",
   "metadata": {},
   "outputs": [],
   "source": [
    "np.savetxt(csv_path + \"model.loss_history.csv\", \n",
    "           model.loss_history,\n",
    "           delimiter =\", \", \n",
    "           fmt ='% s')"
   ]
  },
  {
   "cell_type": "code",
   "execution_count": null,
   "id": "fb369fe9-480c-4bf2-8ccd-b386d5f12f5e",
   "metadata": {},
   "outputs": [],
   "source": [
    "np.savetxt(csv_path + \"true_loss_history.csv\", \n",
    "           I_,\n",
    "           delimiter =\", \", \n",
    "           fmt ='% s')"
   ]
  },
  {
   "cell_type": "code",
   "execution_count": null,
   "id": "c9bb4c59-31ec-4bb0-b075-bb1ab7ca9212",
   "metadata": {},
   "outputs": [],
   "source": [
    "model.L_1_f_norm_history[-1]"
   ]
  },
  {
   "cell_type": "code",
   "execution_count": null,
   "id": "7f8199da-712c-42f8-b0aa-6653b6db1f59",
   "metadata": {},
   "outputs": [],
   "source": [
    "plt.plot(I[:], model.L_1_f_norm_history[:], label = 'L_1_f_norm_history', color = 'blue')\n",
    "plt.legend()\n",
    "plt.xlabel('# iteration', fontsize=10)\n",
    "plt.ylabel('norm_history', fontsize=10)\n",
    "plt.title('L_1_f_norm_history vs iteration' + title_suffix, fontsize=12)\n",
    "plt.savefig(image_path + \"norm_history_vs_iteration\")\n",
    "plt.show()"
   ]
  },
  {
   "cell_type": "code",
   "execution_count": null,
   "id": "0c510d6c-5194-406b-9d26-429f09426099",
   "metadata": {},
   "outputs": [],
   "source": [
    "np.savetxt(csv_path + \"model_L_1_f_norm_history.csv\", \n",
    "           model.L_1_f_norm_history,\n",
    "           delimiter =\", \", \n",
    "           fmt ='% s')"
   ]
  },
  {
   "cell_type": "markdown",
   "id": "e2e5b8ca-dd74-406c-b57d-812e97b3e875",
   "metadata": {
    "tags": []
   },
   "source": [
    "## Sample complexity"
   ]
  },
  {
   "cell_type": "code",
   "execution_count": null,
   "id": "587a4c2a",
   "metadata": {},
   "outputs": [],
   "source": [
    "k = 10\n",
    "n_labels = len(tau)+1"
   ]
  },
  {
   "cell_type": "code",
   "execution_count": null,
   "id": "b0f21314",
   "metadata": {
    "scrolled": true
   },
   "outputs": [],
   "source": [
    "H = []\n",
    "J = []\n",
    "N = 0\n",
    "while N <= 10000:\n",
    "    if N < 100:\n",
    "        N += 10\n",
    "    elif N < 1000:\n",
    "        N += 100\n",
    "    elif N < 5000:\n",
    "        N+= 1000\n",
    "    else: N += 5000\n",
    "    \n",
    "    \n",
    "    X, Y, D_noisy, D_no_noisy = data_model.generate(f, \n",
    "                                                    N + 2000, \n",
    "                                                    tau = np.array(tau), \n",
    "                                                    noise_type = noise_type, \n",
    "                                                    noise_par = s)\n",
    "    X = torch.tensor(X, dtype = torch.float64)\n",
    "    Y = torch.tensor(Y, dtype = torch.float64)\n",
    "    D_noisy = torch.tensor(D_noisy, dtype = torch.torch.int64)\n",
    "    D_no_noisy = torch.tensor(D_no_noisy, dtype = torch.torch.int64)\n",
    "        \n",
    "    print('round for N = {} has started'.format(N))\n",
    "    \n",
    "    J.append(N)\n",
    "    X, Y, D, X_T, Y_T, D_T, D_no_noise_T, X_test, Y_test, D_test, D_no_noise_test = train_test_split(X, \n",
    "                                                                                                     Y, \n",
    "                                                                                                 D_noisy, \n",
    "                                                                                                 D_no_noisy, \n",
    "                                                                                                 n_train = N)\n",
    "\n",
    "    \n",
    "    model = ML(d, k, n_labels, \n",
    "               X_T, Y_T, \n",
    "               D_T, D_no_noise_T, \n",
    "               X_test, Y_test, \n",
    "               D_test, D_no_noise_test, \n",
    "               Type = model_type) \n",
    "    \n",
    "    model.train(learning_rate = 1e-1, \n",
    "                n_iters = 30000, \n",
    "                decay = .96, \n",
    "                show_log = False)\n",
    "    H.append(model)"
   ]
  },
  {
   "cell_type": "code",
   "execution_count": null,
   "id": "4afd924b",
   "metadata": {},
   "outputs": [],
   "source": [
    "H[-1].accuracy(X_new, Y_new, D_new)"
   ]
  },
  {
   "cell_type": "code",
   "execution_count": null,
   "id": "6e5b7d0a",
   "metadata": {},
   "outputs": [],
   "source": [
    "test_accuracy_no_noise  = [H[i].accuracy(X_new, Y_new, D_new) for i in range(len(H))]"
   ]
  },
  {
   "cell_type": "code",
   "execution_count": null,
   "id": "a86c9c97",
   "metadata": {},
   "outputs": [],
   "source": [
    "plt.plot(J, test_accuracy_no_noise, label = 'test_accuracy (no noise)', color = 'blue')\n",
    "plt.legend()\n",
    "plt.xlabel('# samples', fontsize=10)\n",
    "plt.ylabel('accuracy', fontsize=10)\n",
    "plt.title('test_accuracy (no noise) vs sample complexity' + title_suffix, fontsize=12)\n",
    "plt.savefig(image_path + \"test_accuracy_no_noise_vs_sample_complexity\")\n",
    "plt.show()"
   ]
  },
  {
   "cell_type": "code",
   "execution_count": null,
   "id": "ed0b4974-05ed-41eb-b91b-cb59de26e44f",
   "metadata": {},
   "outputs": [],
   "source": [
    "np.savetxt(csv_path + \"test_accuracy_no_noise.csv\", \n",
    "           test_accuracy_no_noise,\n",
    "           delimiter =\", \", \n",
    "           fmt ='% s')"
   ]
  },
  {
   "cell_type": "code",
   "execution_count": null,
   "id": "6480a7c5-e16c-4046-961d-5d34c592e8bb",
   "metadata": {},
   "outputs": [],
   "source": [
    "np.savetxt(csv_path + \"number_samples_list.csv\", \n",
    "           J,\n",
    "           delimiter =\", \", \n",
    "           fmt ='% s')"
   ]
  },
  {
   "cell_type": "code",
   "execution_count": null,
   "id": "5b08d6ee",
   "metadata": {},
   "outputs": [],
   "source": [
    "test_accuracy_noisy  = [H[i].accuracy(H[i].X_test, H[i].Y_test, H[i].D_test) for i in range(len(H))]"
   ]
  },
  {
   "cell_type": "code",
   "execution_count": null,
   "id": "058044e0",
   "metadata": {},
   "outputs": [],
   "source": [
    "plt.plot(J, test_accuracy_noisy, label = 'test_accuracy(noisy)', color = 'blue')\n",
    "plt.legend()\n",
    "plt.xlabel('# samples', fontsize=10)\n",
    "plt.ylabel('accuracy', fontsize=10)\n",
    "plt.title('test_accuracy (noisy) vs sample complexity' + title_suffix, fontsize=12)\n",
    "plt.savefig(image_path + \"test_accuracy_noisy_vs_sample_complexity\")\n",
    "plt.show()"
   ]
  },
  {
   "cell_type": "code",
   "execution_count": null,
   "id": "6c2d5950-7cea-4f09-b0ff-7b4305824f1e",
   "metadata": {},
   "outputs": [],
   "source": [
    "np.savetxt(csv_path + \"test_accuracy_noisy.csv\", \n",
    "           test_accuracy_noisy,\n",
    "           delimiter =\", \", \n",
    "           fmt ='% s')"
   ]
  },
  {
   "cell_type": "code",
   "execution_count": null,
   "id": "09015211",
   "metadata": {},
   "outputs": [],
   "source": [
    "train_accuracy_noisy  = [H[i].accuracy(H[i].X_T, H[i].Y_T, H[i].D_T) for i in range(len(H))]"
   ]
  },
  {
   "cell_type": "code",
   "execution_count": null,
   "id": "b6baea3e",
   "metadata": {},
   "outputs": [],
   "source": [
    "plt.plot(J, train_accuracy_noisy, label = 'train_accuracy (noisy)', color = 'blue')\n",
    "plt.legend()\n",
    "plt.xlabel('# samples', fontsize=10)\n",
    "plt.ylabel('accuracy', fontsize=10)\n",
    "plt.title('train_accuracy (noisy) vs sample complexity' + title_suffix, fontsize=12)\n",
    "plt.savefig(image_path + \"train_accuracy_noisy_vs_sample_complexity\")\n",
    "plt.show()"
   ]
  },
  {
   "cell_type": "code",
   "execution_count": null,
   "id": "0a2e4e1a-6994-4380-b98b-957a4d72cdcb",
   "metadata": {},
   "outputs": [],
   "source": [
    "np.savetxt(csv_path + \"train_accuracy_noisy.csv\", \n",
    "           train_accuracy_noisy,\n",
    "           delimiter =\", \", \n",
    "           fmt ='% s')"
   ]
  },
  {
   "cell_type": "code",
   "execution_count": null,
   "id": "1906aceb",
   "metadata": {},
   "outputs": [],
   "source": [
    "train_accuracy_no_noisy  = [H[i].accuracy(H[i].X_T, H[i].Y_T, H[i].D_no_noise_T) for i in range(len(H))]"
   ]
  },
  {
   "cell_type": "code",
   "execution_count": null,
   "id": "0ad5002e",
   "metadata": {},
   "outputs": [],
   "source": [
    "plt.plot(J, train_accuracy_no_noisy, label = 'train_accuracy (no noise)', color = 'blue')\n",
    "plt.legend()\n",
    "plt.xlabel('# samples', fontsize=10)\n",
    "plt.ylabel('accuracy', fontsize=10)\n",
    "plt.title('train_accuracy (no noise) vs sample complexity' + title_suffix, fontsize=12)\n",
    "plt.savefig(image_path + \"train_accuracy_no_noise_vs_sample_complexity\")\n",
    "plt.show()"
   ]
  },
  {
   "cell_type": "markdown",
   "id": "9c40138e-b555-47a9-a1e6-f09bf46b5479",
   "metadata": {},
   "source": [
    "### "
   ]
  },
  {
   "cell_type": "code",
   "execution_count": null,
   "id": "716c0452-f16a-4209-9191-023084481479",
   "metadata": {},
   "outputs": [],
   "source": [
    "np.savetxt(csv_path + \"train_accuracy_no_noisy.csv\", \n",
    "           train_accuracy_no_noisy,\n",
    "           delimiter =\", \", \n",
    "           fmt ='% s')"
   ]
  },
  {
   "cell_type": "code",
   "execution_count": null,
   "id": "b168846c-b40b-4fd1-b38a-a75f3dda6504",
   "metadata": {},
   "outputs": [],
   "source": [
    "plt.plot(J, train_accuracy_noisy, label = 'train_accuracy (noisy)', color = 'red')\n",
    "plt.plot(J, train_accuracy_no_noisy, label = 'train_accuracy (no noise)', color = 'blue')\n",
    "plt.plot(J, test_accuracy_noisy, label = 'test_accuracy(noisy)', color = 'green')\n",
    "plt.plot(J, test_accuracy_no_noise, label = 'test_accuracy (no noise)', color = 'magenta')\n",
    "\n",
    "plt.legend()\n",
    "plt.xlabel('# samples', fontsize=10)\n",
    "plt.ylabel('accuracy', fontsize=10)\n",
    "plt.title('accuracy vs sample complexity' + title_suffix, fontsize=12)\n",
    "plt.savefig(csv_path + \"accuracy_vs_sample_complexity\")\n",
    "plt.show()"
   ]
  },
  {
   "cell_type": "code",
   "execution_count": null,
   "id": "aeef7cc2",
   "metadata": {
    "scrolled": true
   },
   "outputs": [],
   "source": [
    "I = H[-1].epoch_history[:]\n",
    "plt.plot(I, H[-1].train_accuracy_with_noise[:], label = 'train_accuracy_with_noise', color = 'black')\n",
    "plt.plot(I, H[-1].train_accuracy_without_noise[:], label = 'train_accuracy_without_noise', color = 'red')\n",
    "plt.plot(I, H[-1].test_accuracy_with_noise[:], label = 'test_accuracy_with_noise', color = 'green')\n",
    "plt.plot(I, H[-1].test_accuracy_without_noise[:], label = 'test_accuracy_without_noise', color = 'blue')\n",
    "plt.legend()\n",
    "plt.xlabel('# Epoch', fontsize = 10)\n",
    "plt.ylabel('Accuracy', fontsize = 10)\n",
    "plt.title('Accuracy vs Epoch' + title_suffix, fontsize = 12)\n",
    "plt.savefig(image_path + 'Accuracy_vs_Epoch')\n",
    "plt.show()"
   ]
  },
  {
   "cell_type": "markdown",
   "id": "00283195-6891-4f05-bd4f-2317eb5670e0",
   "metadata": {
    "tags": []
   },
   "source": [
    "## How much noise breaks the model!"
   ]
  },
  {
   "cell_type": "code",
   "execution_count": null,
   "id": "896bca64-0ae8-466b-8e6b-4308cd217a5f",
   "metadata": {},
   "outputs": [],
   "source": [
    "N = 20000"
   ]
  },
  {
   "cell_type": "code",
   "execution_count": null,
   "id": "3782f071-e72d-452b-b16b-f16042aa2c72",
   "metadata": {},
   "outputs": [],
   "source": [
    "X, Y, D_noisy, D_no_noisy = data_model.generate(f, N = 20000, tau = np.array(tau), \n",
    "                                          noise_type = noise_type, noise_par = 50)\n",
    "noise_amount = (D_noisy != D_no_noisy).mean()\n",
    "print('the amount of noise: {}'.format(noise_amount))"
   ]
  },
  {
   "cell_type": "code",
   "execution_count": null,
   "id": "32fede61-499b-45c9-a6df-0f99e3e20091",
   "metadata": {},
   "outputs": [],
   "source": [
    "(D_no_noisy == 0).sum(), (D_no_noisy == 1).sum(), (D_no_noisy == 1).sum()/N"
   ]
  },
  {
   "cell_type": "code",
   "execution_count": null,
   "id": "3745917b-fe39-4b9e-82f6-387de5c8a009",
   "metadata": {},
   "outputs": [],
   "source": [
    "noise_par_list = [i/10 for i in range(11)] + [1+ i/5 for i in range(1,6)] + [2.5, 4, 50]"
   ]
  },
  {
   "cell_type": "code",
   "execution_count": null,
   "id": "0eed1d21-2bc9-4e95-abc6-67ae0099741e",
   "metadata": {},
   "outputs": [],
   "source": [
    "# np.savetxt(\"CSVs/logistic/scale_list.csv\", \n",
    "#            noise_par_list,\n",
    "#            delimiter =\", \", \n",
    "#            fmt ='% s')"
   ]
  },
  {
   "cell_type": "code",
   "execution_count": null,
   "id": "03b228b4-b1c0-4cb8-afcb-7d65e6977cea",
   "metadata": {},
   "outputs": [],
   "source": [
    "N = 28000\n",
    "d = 10\n",
    "k = 10\n",
    "n_labels = len(tau) + 1\n",
    "noise_list_history = []\n",
    "model_history = []\n",
    "for noise in noise_par_list:\n",
    "    X, Y, D_noisy, D_no_noisy = data_model.generate(f, N, tau = np.array(tau), \n",
    "                                                    noise_type = noise_type, noise_par = noise)\n",
    "    noise_amount = (D_noisy != D_no_noisy).mean()\n",
    "    print('the amount of noise: {}'.format(noise_amount))\n",
    "    noise_list_history.append(noise_amount)\n",
    "    \n",
    "    X = torch.tensor(X, dtype = torch.float64)\n",
    "    Y = torch.tensor(Y, dtype = torch.float64)\n",
    "    D_noisy = torch.tensor(D_noisy, dtype = torch.torch.int64)\n",
    "    D_no_noisy = torch.tensor(D_no_noisy, dtype = torch.torch.int64)\n",
    "    \n",
    "    X, Y, D, X_T, Y_T, D_T, D_no_noise_T, X_test, Y_test, D_test, D_no_noise_test = train_test_split(X,\n",
    "                                                                                                     Y, \n",
    "                                                                                                     D_noisy, \n",
    "                                                                                                     D_no_noisy, \n",
    "                                                                                                     n_train = 18000)\n",
    "    model = ML(d, k, n_labels, \n",
    "               X_T, Y_T, D_T, D_no_noise_T,\n",
    "               X_test, Y_test, D_test, D_no_noise_test, Type = model_type)\n",
    "    \n",
    "    model.train(learning_rate = 1e-1, \n",
    "                n_iters = 30001, \n",
    "                decay = .95, \n",
    "                show_log = False)\n",
    "    \n",
    "    model_history.append(model)\n",
    "    \n",
    "    print('train_accuracy (noisey) = {}'.format(model_history[-1].accuracy(model_history[-1].X_T, \n",
    "                                                                           model_history[-1].Y_T, \n",
    "                                                                           model_history[-1].D_T)))\n",
    "    \n",
    "    print('test_accuracy (noisey) = {}'.format(model_history[-1].accuracy(model_history[-1].X_test, \n",
    "                                                                          model_history[-1].Y_test, \n",
    "                                                                          model_history[-1].D_test)))\n",
    "    \n",
    "    print('train_accuracy (no noise) = {}'.format(model_history[-1].accuracy(model_history[-1].X_T, \n",
    "                                                                             model_history[-1].Y_T, \n",
    "                                                                             model_history[-1].D_no_noise_T)))\n",
    "    \n",
    "    print('test_accuracy (no noise) = {}'.format(model_history[-1].accuracy(model_history[-1].X_test, \n",
    "                                                                            model_history[-1].Y_test, \n",
    "                                                                            model_history[-1].D_no_noise_test)))\n",
    "    print('\\n')"
   ]
  },
  {
   "cell_type": "code",
   "execution_count": null,
   "id": "179ab07f-a6b0-4be7-bcfc-2b28739ac1bc",
   "metadata": {},
   "outputs": [],
   "source": [
    "np.savetxt(csv_path + \"noise_list_history.csv\", \n",
    "           noise_list_history,\n",
    "           delimiter =\", \", \n",
    "           fmt ='% s')"
   ]
  },
  {
   "cell_type": "code",
   "execution_count": null,
   "id": "5d1df879-ac1a-47cd-a39d-59a32b9cec55",
   "metadata": {},
   "outputs": [],
   "source": [
    "plt.plot(noise_par_list, noise_list_history, label = 'variance VS noise', color = 'blue')\n",
    "plt.legend()\n",
    "plt.ylabel('# Noise', fontsize = 10)\n",
    "plt.xlabel('variance', fontsize = 10)\n",
    "# plt.title('unseen_accuracy (no noise) vs sample complexity', fontsize = 10)\n",
    "plt.show()"
   ]
  },
  {
   "cell_type": "code",
   "execution_count": null,
   "id": "6ef44b76-44aa-4053-bbee-75ac92844312",
   "metadata": {},
   "outputs": [],
   "source": [
    "X_new, Y_new, _, D_new = data_model.generate(f, \n",
    "                                             N = 10000, \n",
    "                                             tau = np.array(tau), \n",
    "                                             noise_type = None, \n",
    "                                             noise_par = None)\n",
    "X_new = torch.tensor(X_new, dtype = torch.float64)\n",
    "Y_new = torch.tensor(Y_new, dtype = torch.float64)\n",
    "D_new = torch.tensor(D_new, dtype = torch.torch.int64)"
   ]
  },
  {
   "cell_type": "code",
   "execution_count": null,
   "id": "4e821523",
   "metadata": {},
   "outputs": [],
   "source": [
    "test_accuracy_no_noise  = [model_history[i].accuracy(X_new, Y_new, D_new) for i in range(len(model_history))]\n",
    "\n",
    "plt.plot(noise_list_history, test_accuracy_no_noise, label = 'test_accuracy (no noise)', color = 'blue')\n",
    "plt.legend()\n",
    "plt.xlabel('noise', fontsize = 10)\n",
    "plt.ylabel('accuracy', fontsize = 10)\n",
    "plt.title('Test_accuracy (no noise) vs noise' + title_suffix, fontsize = 12)\n",
    "plt.savefig(image_path + 'Test_accuracy_no_noise_vs_noise')\n",
    "plt.show()"
   ]
  },
  {
   "cell_type": "code",
   "execution_count": null,
   "id": "99a46e98-f168-41a3-a8d5-92d9023fc14b",
   "metadata": {},
   "outputs": [],
   "source": [
    "np.savetxt(csv_path + \"test_accuracy_no_noise.csv\", \n",
    "           test_accuracy_no_noise,\n",
    "           delimiter =\", \", \n",
    "           fmt ='% s')"
   ]
  },
  {
   "cell_type": "code",
   "execution_count": null,
   "id": "0b33eab2-33fe-4536-9400-11aeea5dcf9e",
   "metadata": {},
   "outputs": [],
   "source": [
    "[(noise_list_history[i], test_accuracy_no_noise[i]) for i in range(len(noise_list_history))]"
   ]
  },
  {
   "cell_type": "code",
   "execution_count": null,
   "id": "c8166452",
   "metadata": {},
   "outputs": [],
   "source": [
    "test_accuracy_noisy  = [model_history[i].accuracy(model_history[i].X_test, \n",
    "                                                  model_history[i].Y_test, \n",
    "                                                  model_history[i].D_test) for i in range(len(model_history))]\n",
    "\n",
    "plt.plot(noise_list_history, test_accuracy_noisy, label = 'test_accuracy(noisy)', color = 'blue')\n",
    "plt.legend()\n",
    "plt.xlabel('noise', fontsize = 10)\n",
    "plt.ylabel('accuracy', fontsize = 10)\n",
    "plt.title('test_accuracy (noisy) vs noise' + title_suffix, fontsize = 12)\n",
    "plt.savefig(image_path + 'test_accuracy_noisy_vs_noise')\n",
    "plt.show()"
   ]
  },
  {
   "cell_type": "code",
   "execution_count": null,
   "id": "c8e48ef4-5d27-4eeb-b5a3-27a3fdc76b32",
   "metadata": {},
   "outputs": [],
   "source": [
    "np.savetxt(csv_path + \"test_accuracy_noisy.csv\", \n",
    "           test_accuracy_noisy,\n",
    "           delimiter =\", \", \n",
    "           fmt ='% s')"
   ]
  },
  {
   "cell_type": "code",
   "execution_count": null,
   "id": "6ad02bbb",
   "metadata": {},
   "outputs": [],
   "source": [
    "train_accuracy_noisy  = [model_history[i].accuracy(model_history[i].X_T, \n",
    "                                                   model_history[i].Y_T, \n",
    "                                                   model_history[i].D_T) for i in range(len(model_history))]\n",
    "\n",
    "plt.plot(noise_list_history, train_accuracy_noisy, label = 'train_accuracy (noisy)', color = 'blue')\n",
    "plt.legend()\n",
    "plt.xlabel('noise', fontsize = 10)\n",
    "plt.ylabel('accuracy', fontsize = 10)\n",
    "plt.title('train_accuracy (noisy) vs noise' + title_suffix, fontsize = 12)\n",
    "plt.savefig(image_path + 'train_accuracy_noisy_vs_noise')\n",
    "plt.show()"
   ]
  },
  {
   "cell_type": "code",
   "execution_count": null,
   "id": "29d10f4d-ca16-4bd3-af0f-671ee252b4a5",
   "metadata": {},
   "outputs": [],
   "source": [
    "np.savetxt(csv_path + \"train_accuracy_noisy.csv\", \n",
    "           train_accuracy_noisy,\n",
    "           delimiter =\", \", \n",
    "           fmt ='% s')"
   ]
  },
  {
   "cell_type": "code",
   "execution_count": null,
   "id": "809b48c5",
   "metadata": {},
   "outputs": [],
   "source": [
    "train_accuracy_no_noisy  = [model_history[i].accuracy(model_history[i].X_T, \n",
    "                                                      model_history[i].Y_T, \n",
    "                                                      model_history[i].D_no_noise_T) for i in range(len(model_history))]\n",
    "plt.plot(noise_list_history, train_accuracy_no_noisy, label = 'train_accuracy (no noise)', color = 'blue')\n",
    "plt.legend()\n",
    "plt.xlabel('noise', fontsize = 10)\n",
    "plt.ylabel('accuracy', fontsize = 10)\n",
    "plt.title('train_accuracy (no noise) vs noise' + title_suffix, fontsize = 12)\n",
    "plt.savefig(image_path + 'train_accuracy_no_noise_vs_noise')\n",
    "plt.show()"
   ]
  },
  {
   "cell_type": "code",
   "execution_count": null,
   "id": "bf9f206f",
   "metadata": {},
   "outputs": [],
   "source": [
    "np.savetxt(csv_path + \"train_accuracy_no_noisy.csv\", \n",
    "           train_accuracy_no_noisy,\n",
    "           delimiter =\", \", \n",
    "           fmt ='% s')"
   ]
  },
  {
   "cell_type": "code",
   "execution_count": null,
   "id": "d2184834-e998-4c9d-b9b3-4fd7ac1a089c",
   "metadata": {},
   "outputs": [],
   "source": [
    "noise_list_history[-1], train_accuracy_no_noisy[-1]"
   ]
  },
  {
   "cell_type": "code",
   "execution_count": null,
   "id": "3c2b8d42",
   "metadata": {},
   "outputs": [],
   "source": []
  }
 ],
 "metadata": {
  "kernelspec": {
   "display_name": "Python 3 (ipykernel)",
   "language": "python",
   "name": "python3"
  },
  "language_info": {
   "codemirror_mode": {
    "name": "ipython",
    "version": 3
   },
   "file_extension": ".py",
   "mimetype": "text/x-python",
   "name": "python",
   "nbconvert_exporter": "python",
   "pygments_lexer": "ipython3",
   "version": "3.9.7"
  }
 },
 "nbformat": 4,
 "nbformat_minor": 5
}
